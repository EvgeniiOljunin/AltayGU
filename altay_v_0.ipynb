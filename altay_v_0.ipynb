{
 "cells": [
  {
   "cell_type": "markdown",
   "id": "174e0fe2",
   "metadata": {},
   "source": [
    "# Прогнозирование статуса студента"
   ]
  },
  {
   "cell_type": "markdown",
   "id": "4f2eaa61",
   "metadata": {},
   "source": [
    "**Импорт библиотек**"
   ]
  },
  {
   "cell_type": "code",
   "execution_count": 1,
   "id": "87c14aaa",
   "metadata": {},
   "outputs": [],
   "source": [
    "import pandas as pd\n",
    "import numpy as np\n",
    "from sklearn.model_selection import train_test_split\n",
    "from sklearn.linear_model import LogisticRegression\n",
    "from sklearn.ensemble import RandomForestClassifier\n",
    "from sklearn.metrics import classification_report\n",
    "from sklearn import tree\n",
    "from sklearn.utils import shuffle\n",
    "from sklearn.metrics import f1_score\n",
    "from sklearn.model_selection import GridSearchCV\n",
    "from lightgbm import LGBMClassifier\n",
    "from catboost import CatBoostClassifier, Pool\n",
    "import matplotlib.pyplot as plt\n",
    "%matplotlib inline"
   ]
  },
  {
   "cell_type": "markdown",
   "id": "90851cf2",
   "metadata": {},
   "source": [
    "**Знакомство с датасетом**"
   ]
  },
  {
   "cell_type": "code",
   "execution_count": 2,
   "id": "d9aa22d5",
   "metadata": {},
   "outputs": [],
   "source": [
    "df = pd.read_csv('train_dataset_train.csv')\n",
    "df_test = pd.read_csv('test_dataset_test.csv')\n",
    "df_submission = pd.read_csv('sample_submission.csv')"
   ]
  },
  {
   "cell_type": "code",
   "execution_count": 3,
   "id": "a2e5e3ca",
   "metadata": {},
   "outputs": [
    {
     "data": {
      "text/html": [
       "<div>\n",
       "<style scoped>\n",
       "    .dataframe tbody tr th:only-of-type {\n",
       "        vertical-align: middle;\n",
       "    }\n",
       "\n",
       "    .dataframe tbody tr th {\n",
       "        vertical-align: top;\n",
       "    }\n",
       "\n",
       "    .dataframe thead th {\n",
       "        text-align: right;\n",
       "    }\n",
       "</style>\n",
       "<table border=\"1\" class=\"dataframe\">\n",
       "  <thead>\n",
       "    <tr style=\"text-align: right;\">\n",
       "      <th></th>\n",
       "      <th>ID</th>\n",
       "      <th>Статус</th>\n",
       "    </tr>\n",
       "  </thead>\n",
       "  <tbody>\n",
       "    <tr>\n",
       "      <th>0</th>\n",
       "      <td>64996</td>\n",
       "      <td>NaN</td>\n",
       "    </tr>\n",
       "    <tr>\n",
       "      <th>1</th>\n",
       "      <td>71837</td>\n",
       "      <td>NaN</td>\n",
       "    </tr>\n",
       "    <tr>\n",
       "      <th>2</th>\n",
       "      <td>86587</td>\n",
       "      <td>NaN</td>\n",
       "    </tr>\n",
       "    <tr>\n",
       "      <th>3</th>\n",
       "      <td>73673</td>\n",
       "      <td>NaN</td>\n",
       "    </tr>\n",
       "    <tr>\n",
       "      <th>4</th>\n",
       "      <td>54709</td>\n",
       "      <td>NaN</td>\n",
       "    </tr>\n",
       "  </tbody>\n",
       "</table>\n",
       "</div>"
      ],
      "text/plain": [
       "      ID  Статус\n",
       "0  64996     NaN\n",
       "1  71837     NaN\n",
       "2  86587     NaN\n",
       "3  73673     NaN\n",
       "4  54709     NaN"
      ]
     },
     "execution_count": 3,
     "metadata": {},
     "output_type": "execute_result"
    }
   ],
   "source": [
    "df_submission.head()"
   ]
  },
  {
   "cell_type": "code",
   "execution_count": 4,
   "id": "ee923895",
   "metadata": {},
   "outputs": [
    {
     "data": {
      "text/html": [
       "<div>\n",
       "<style scoped>\n",
       "    .dataframe tbody tr th:only-of-type {\n",
       "        vertical-align: middle;\n",
       "    }\n",
       "\n",
       "    .dataframe tbody tr th {\n",
       "        vertical-align: top;\n",
       "    }\n",
       "\n",
       "    .dataframe thead th {\n",
       "        text-align: right;\n",
       "    }\n",
       "</style>\n",
       "<table border=\"1\" class=\"dataframe\">\n",
       "  <thead>\n",
       "    <tr style=\"text-align: right;\">\n",
       "      <th></th>\n",
       "      <th>ID</th>\n",
       "      <th>Код_группы</th>\n",
       "      <th>Год_Поступления</th>\n",
       "      <th>Пол</th>\n",
       "      <th>Основания</th>\n",
       "      <th>Изучаемый_Язык</th>\n",
       "      <th>Дата_Рождения</th>\n",
       "      <th>Уч_Заведение</th>\n",
       "      <th>Где_Находится_УЗ</th>\n",
       "      <th>Год_Окончания_УЗ</th>\n",
       "      <th>...</th>\n",
       "      <th>Общежитие</th>\n",
       "      <th>Наличие_Матери</th>\n",
       "      <th>Наличие_Отца</th>\n",
       "      <th>Страна_Родители</th>\n",
       "      <th>Опекунство</th>\n",
       "      <th>Село</th>\n",
       "      <th>Иностранец</th>\n",
       "      <th>КодФакультета</th>\n",
       "      <th>СрБаллАттестата</th>\n",
       "      <th>Статус</th>\n",
       "    </tr>\n",
       "  </thead>\n",
       "  <tbody>\n",
       "    <tr>\n",
       "      <th>0</th>\n",
       "      <td>72716</td>\n",
       "      <td>16019</td>\n",
       "      <td>2015</td>\n",
       "      <td>Жен</td>\n",
       "      <td>ОО</td>\n",
       "      <td>Английский язык</td>\n",
       "      <td>1998-02-08 00:00:00.000</td>\n",
       "      <td>МБОУ \"СОШ №59\"</td>\n",
       "      <td>Алтайский край, Барнаул г</td>\n",
       "      <td>2014.0</td>\n",
       "      <td>...</td>\n",
       "      <td>0.0</td>\n",
       "      <td>0</td>\n",
       "      <td>0.0</td>\n",
       "      <td>Россия</td>\n",
       "      <td>0.0</td>\n",
       "      <td>0.0</td>\n",
       "      <td>0.0</td>\n",
       "      <td>41.0</td>\n",
       "      <td>4.294</td>\n",
       "      <td>3</td>\n",
       "    </tr>\n",
       "    <tr>\n",
       "      <th>1</th>\n",
       "      <td>63306</td>\n",
       "      <td>14895</td>\n",
       "      <td>2010</td>\n",
       "      <td>Муж</td>\n",
       "      <td>ЦН</td>\n",
       "      <td>NaN</td>\n",
       "      <td>1992-04-18 00:00:00.000</td>\n",
       "      <td>NaN</td>\n",
       "      <td>NaN</td>\n",
       "      <td>NaN</td>\n",
       "      <td>...</td>\n",
       "      <td>0.0</td>\n",
       "      <td>1</td>\n",
       "      <td>1.0</td>\n",
       "      <td>Россия</td>\n",
       "      <td>0.0</td>\n",
       "      <td>0.0</td>\n",
       "      <td>0.0</td>\n",
       "      <td>28.0</td>\n",
       "      <td>67.000</td>\n",
       "      <td>4</td>\n",
       "    </tr>\n",
       "    <tr>\n",
       "      <th>2</th>\n",
       "      <td>82469</td>\n",
       "      <td>20103</td>\n",
       "      <td>2017</td>\n",
       "      <td>Жен</td>\n",
       "      <td>ДН</td>\n",
       "      <td>Английский язык</td>\n",
       "      <td>1999-03-21 00:00:00.000</td>\n",
       "      <td>МБОУ Алтайская СОШ №5</td>\n",
       "      <td>Алтайский край, Алтайский р-н, Алтайское с</td>\n",
       "      <td>2017.0</td>\n",
       "      <td>...</td>\n",
       "      <td>0.0</td>\n",
       "      <td>1</td>\n",
       "      <td>1.0</td>\n",
       "      <td>Россия</td>\n",
       "      <td>0.0</td>\n",
       "      <td>0.0</td>\n",
       "      <td>0.0</td>\n",
       "      <td>41.0</td>\n",
       "      <td>4.133</td>\n",
       "      <td>4</td>\n",
       "    </tr>\n",
       "    <tr>\n",
       "      <th>3</th>\n",
       "      <td>81661</td>\n",
       "      <td>19838</td>\n",
       "      <td>2017</td>\n",
       "      <td>Жен</td>\n",
       "      <td>БН</td>\n",
       "      <td>Английский язык</td>\n",
       "      <td>1994-12-08 00:00:00.000</td>\n",
       "      <td>ФГБОУ ВО Алтайский государственный университет</td>\n",
       "      <td>Алтайский край, г. Барнаул</td>\n",
       "      <td>2017.0</td>\n",
       "      <td>...</td>\n",
       "      <td>0.0</td>\n",
       "      <td>1</td>\n",
       "      <td>1.0</td>\n",
       "      <td>Россия</td>\n",
       "      <td>0.0</td>\n",
       "      <td>0.0</td>\n",
       "      <td>0.0</td>\n",
       "      <td>35.0</td>\n",
       "      <td>74.000</td>\n",
       "      <td>4</td>\n",
       "    </tr>\n",
       "    <tr>\n",
       "      <th>4</th>\n",
       "      <td>81509</td>\n",
       "      <td>19803</td>\n",
       "      <td>2017</td>\n",
       "      <td>Жен</td>\n",
       "      <td>БН</td>\n",
       "      <td>Английский язык</td>\n",
       "      <td>1995-06-28 00:00:00.000</td>\n",
       "      <td>ФГБОУ ВО Алтайский государственный университет</td>\n",
       "      <td>Алтайский край, г. Барнаул</td>\n",
       "      <td>2017.0</td>\n",
       "      <td>...</td>\n",
       "      <td>0.0</td>\n",
       "      <td>1</td>\n",
       "      <td>1.0</td>\n",
       "      <td>Россия</td>\n",
       "      <td>0.0</td>\n",
       "      <td>0.0</td>\n",
       "      <td>0.0</td>\n",
       "      <td>28.0</td>\n",
       "      <td>53.000</td>\n",
       "      <td>4</td>\n",
       "    </tr>\n",
       "  </tbody>\n",
       "</table>\n",
       "<p>5 rows × 24 columns</p>\n",
       "</div>"
      ],
      "text/plain": [
       "      ID  Код_группы  Год_Поступления  Пол Основания   Изучаемый_Язык  \\\n",
       "0  72716       16019             2015  Жен        ОО  Английский язык   \n",
       "1  63306       14895             2010  Муж        ЦН              NaN   \n",
       "2  82469       20103             2017  Жен        ДН  Английский язык   \n",
       "3  81661       19838             2017  Жен        БН  Английский язык   \n",
       "4  81509       19803             2017  Жен        БН  Английский язык   \n",
       "\n",
       "             Дата_Рождения                                    Уч_Заведение  \\\n",
       "0  1998-02-08 00:00:00.000                                  МБОУ \"СОШ №59\"   \n",
       "1  1992-04-18 00:00:00.000                                             NaN   \n",
       "2  1999-03-21 00:00:00.000                           МБОУ Алтайская СОШ №5   \n",
       "3  1994-12-08 00:00:00.000  ФГБОУ ВО Алтайский государственный университет   \n",
       "4  1995-06-28 00:00:00.000  ФГБОУ ВО Алтайский государственный университет   \n",
       "\n",
       "                             Где_Находится_УЗ  Год_Окончания_УЗ  ...  \\\n",
       "0                   Алтайский край, Барнаул г            2014.0  ...   \n",
       "1                                         NaN               NaN  ...   \n",
       "2  Алтайский край, Алтайский р-н, Алтайское с            2017.0  ...   \n",
       "3                  Алтайский край, г. Барнаул            2017.0  ...   \n",
       "4                  Алтайский край, г. Барнаул            2017.0  ...   \n",
       "\n",
       "   Общежитие Наличие_Матери Наличие_Отца Страна_Родители  Опекунство  Село  \\\n",
       "0        0.0              0          0.0          Россия         0.0   0.0   \n",
       "1        0.0              1          1.0          Россия         0.0   0.0   \n",
       "2        0.0              1          1.0          Россия         0.0   0.0   \n",
       "3        0.0              1          1.0          Россия         0.0   0.0   \n",
       "4        0.0              1          1.0          Россия         0.0   0.0   \n",
       "\n",
       "   Иностранец КодФакультета  СрБаллАттестата  Статус  \n",
       "0         0.0          41.0            4.294       3  \n",
       "1         0.0          28.0           67.000       4  \n",
       "2         0.0          41.0            4.133       4  \n",
       "3         0.0          35.0           74.000       4  \n",
       "4         0.0          28.0           53.000       4  \n",
       "\n",
       "[5 rows x 24 columns]"
      ]
     },
     "execution_count": 4,
     "metadata": {},
     "output_type": "execute_result"
    }
   ],
   "source": [
    "df.head()"
   ]
  },
  {
   "cell_type": "code",
   "execution_count": 5,
   "id": "489dc532",
   "metadata": {},
   "outputs": [
    {
     "name": "stdout",
     "output_type": "stream",
     "text": [
      "<class 'pandas.core.frame.DataFrame'>\n",
      "RangeIndex: 13584 entries, 0 to 13583\n",
      "Data columns (total 24 columns):\n",
      " #   Column            Non-Null Count  Dtype  \n",
      "---  ------            --------------  -----  \n",
      " 0   ID                13584 non-null  int64  \n",
      " 1   Код_группы        13584 non-null  int64  \n",
      " 2   Год_Поступления   13584 non-null  int64  \n",
      " 3   Пол               13577 non-null  object \n",
      " 4   Основания         13584 non-null  object \n",
      " 5   Изучаемый_Язык    12758 non-null  object \n",
      " 6   Дата_Рождения     13584 non-null  object \n",
      " 7   Уч_Заведение      12351 non-null  object \n",
      " 8   Где_Находится_УЗ  12203 non-null  object \n",
      " 9   Год_Окончания_УЗ  12284 non-null  float64\n",
      " 10  Пособие           12576 non-null  float64\n",
      " 11  Страна_ПП         13237 non-null  object \n",
      " 12  Регион_ПП         12966 non-null  object \n",
      " 13  Город_ПП          13141 non-null  object \n",
      " 14  Общежитие         13498 non-null  float64\n",
      " 15  Наличие_Матери    13584 non-null  int64  \n",
      " 16  Наличие_Отца      13584 non-null  float64\n",
      " 17  Страна_Родители   13126 non-null  object \n",
      " 18  Опекунство        13584 non-null  float64\n",
      " 19  Село              13498 non-null  float64\n",
      " 20  Иностранец        13274 non-null  float64\n",
      " 21  КодФакультета     13584 non-null  float64\n",
      " 22  СрБаллАттестата   13584 non-null  float64\n",
      " 23  Статус            13584 non-null  int64  \n",
      "dtypes: float64(9), int64(5), object(10)\n",
      "memory usage: 2.5+ MB\n"
     ]
    }
   ],
   "source": [
    "df.info()"
   ]
  },
  {
   "cell_type": "code",
   "execution_count": 6,
   "id": "bf37686c",
   "metadata": {
    "scrolled": true
   },
   "outputs": [
    {
     "name": "stdout",
     "output_type": "stream",
     "text": [
      "<class 'pandas.core.frame.DataFrame'>\n",
      "RangeIndex: 6691 entries, 0 to 6690\n",
      "Data columns (total 23 columns):\n",
      " #   Column            Non-Null Count  Dtype  \n",
      "---  ------            --------------  -----  \n",
      " 0   ID                6691 non-null   int64  \n",
      " 1   Код_группы        6691 non-null   int64  \n",
      " 2   Год_Поступления   6691 non-null   int64  \n",
      " 3   Пол               6688 non-null   object \n",
      " 4   Основания         6691 non-null   object \n",
      " 5   Изучаемый_Язык    6295 non-null   object \n",
      " 6   Дата_Рождения     6691 non-null   object \n",
      " 7   Уч_Заведение      6113 non-null   object \n",
      " 8   Где_Находится_УЗ  6031 non-null   object \n",
      " 9   Год_Окончания_УЗ  6074 non-null   float64\n",
      " 10  Пособие           6207 non-null   float64\n",
      " 11  Страна_ПП         6531 non-null   object \n",
      " 12  Регион_ПП         6401 non-null   object \n",
      " 13  Город_ПП          6477 non-null   object \n",
      " 14  Общежитие         6656 non-null   float64\n",
      " 15  Наличие_Матери    6691 non-null   int64  \n",
      " 16  Наличие_Отца      6691 non-null   float64\n",
      " 17  Страна_Родители   6493 non-null   object \n",
      " 18  Опекунство        6691 non-null   float64\n",
      " 19  Село              6654 non-null   float64\n",
      " 20  Иностранец        6561 non-null   float64\n",
      " 21  КодФакультета     6691 non-null   float64\n",
      " 22  СрБаллАттестата   6691 non-null   float64\n",
      "dtypes: float64(9), int64(4), object(10)\n",
      "memory usage: 1.2+ MB\n"
     ]
    }
   ],
   "source": [
    "df_test.info()"
   ]
  },
  {
   "cell_type": "markdown",
   "id": "dd03c96b",
   "metadata": {},
   "source": [
    "**Доли групп студентов с разным статусом (таргетом)**"
   ]
  },
  {
   "cell_type": "code",
   "execution_count": 7,
   "id": "31688114",
   "metadata": {},
   "outputs": [
    {
     "data": {
      "text/plain": [
       " 4    8249\n",
       " 3    4721\n",
       "-1     614\n",
       "Name: Статус, dtype: int64"
      ]
     },
     "execution_count": 7,
     "metadata": {},
     "output_type": "execute_result"
    }
   ],
   "source": [
    "df['Статус'].value_counts()"
   ]
  },
  {
   "cell_type": "code",
   "execution_count": 8,
   "id": "c42cb11f",
   "metadata": {
    "scrolled": true
   },
   "outputs": [
    {
     "data": {
      "text/plain": [
       " 4    0.607259\n",
       " 3    0.347541\n",
       "-1    0.045200\n",
       "Name: Статус, dtype: float64"
      ]
     },
     "execution_count": 8,
     "metadata": {},
     "output_type": "execute_result"
    }
   ],
   "source": [
    "df['Статус'].value_counts(normalize=True)"
   ]
  },
  {
   "cell_type": "markdown",
   "id": "23939df8",
   "metadata": {},
   "source": [
    "## Предобработка и исследовательский анализ"
   ]
  },
  {
   "cell_type": "markdown",
   "id": "16426611",
   "metadata": {},
   "source": [
    "**Группы**"
   ]
  },
  {
   "cell_type": "markdown",
   "id": "5b97ea2e",
   "metadata": {},
   "source": [
    "Посмотрим сколько уникальных групп в данных"
   ]
  },
  {
   "cell_type": "code",
   "execution_count": 9,
   "id": "26bfd36d",
   "metadata": {
    "scrolled": true
   },
   "outputs": [
    {
     "data": {
      "text/plain": [
       "3653"
      ]
     },
     "execution_count": 9,
     "metadata": {},
     "output_type": "execute_result"
    }
   ],
   "source": [
    "len(df['Код_группы'].unique())"
   ]
  },
  {
   "cell_type": "code",
   "execution_count": 10,
   "id": "668236b9",
   "metadata": {
    "scrolled": true
   },
   "outputs": [
    {
     "data": {
      "text/plain": [
       "2677"
      ]
     },
     "execution_count": 10,
     "metadata": {},
     "output_type": "execute_result"
    }
   ],
   "source": [
    "len(df_test['Код_группы'].unique())"
   ]
  },
  {
   "cell_type": "markdown",
   "id": "c4ef4ef3",
   "metadata": {},
   "source": [
    "Посмотрим каков размер групп"
   ]
  },
  {
   "cell_type": "code",
   "execution_count": 11,
   "id": "b7a84729",
   "metadata": {
    "scrolled": true
   },
   "outputs": [
    {
     "data": {
      "text/plain": [
       "3.718587462359704"
      ]
     },
     "execution_count": 11,
     "metadata": {},
     "output_type": "execute_result"
    }
   ],
   "source": [
    "df.groupby('Код_группы')['ID'].agg('count').mean()"
   ]
  },
  {
   "cell_type": "markdown",
   "id": "b4d0af92",
   "metadata": {},
   "source": [
    "Для полноценных группа такое количество студентов малО, обрежем номера групп:"
   ]
  },
  {
   "cell_type": "code",
   "execution_count": 12,
   "id": "6b4f3e30",
   "metadata": {},
   "outputs": [],
   "source": [
    "df['Код_группы'] = df['Код_группы'].astype('str').str.slice(0,4)"
   ]
  },
  {
   "cell_type": "code",
   "execution_count": 13,
   "id": "4f761a68",
   "metadata": {
    "scrolled": false
   },
   "outputs": [
    {
     "data": {
      "text/plain": [
       "8.0"
      ]
     },
     "execution_count": 13,
     "metadata": {},
     "output_type": "execute_result"
    }
   ],
   "source": [
    "df.groupby('Код_группы')['ID'].agg('count').median()"
   ]
  },
  {
   "cell_type": "code",
   "execution_count": 14,
   "id": "23594a80",
   "metadata": {},
   "outputs": [],
   "source": [
    "df['Код_группы'] = df['Код_группы'].astype('int')"
   ]
  },
  {
   "cell_type": "markdown",
   "id": "3d862e5e",
   "metadata": {},
   "source": [
    "Посмотрим связь между номерами групп и статусом студентов:"
   ]
  },
  {
   "cell_type": "code",
   "execution_count": 15,
   "id": "77f02ec0",
   "metadata": {
    "scrolled": true
   },
   "outputs": [
    {
     "data": {
      "text/html": [
       "<div>\n",
       "<style scoped>\n",
       "    .dataframe tbody tr th:only-of-type {\n",
       "        vertical-align: middle;\n",
       "    }\n",
       "\n",
       "    .dataframe tbody tr th {\n",
       "        vertical-align: top;\n",
       "    }\n",
       "\n",
       "    .dataframe thead tr th {\n",
       "        text-align: left;\n",
       "    }\n",
       "\n",
       "    .dataframe thead tr:last-of-type th {\n",
       "        text-align: right;\n",
       "    }\n",
       "</style>\n",
       "<table border=\"1\" class=\"dataframe\">\n",
       "  <thead>\n",
       "    <tr>\n",
       "      <th></th>\n",
       "      <th colspan=\"3\" halign=\"left\">count</th>\n",
       "    </tr>\n",
       "    <tr>\n",
       "      <th>Статус</th>\n",
       "      <th>-1</th>\n",
       "      <th>3</th>\n",
       "      <th>4</th>\n",
       "    </tr>\n",
       "    <tr>\n",
       "      <th>Код_группы</th>\n",
       "      <th></th>\n",
       "      <th></th>\n",
       "      <th></th>\n",
       "    </tr>\n",
       "  </thead>\n",
       "  <tbody>\n",
       "    <tr>\n",
       "      <th>1155</th>\n",
       "      <td>NaN</td>\n",
       "      <td>2.0</td>\n",
       "      <td>NaN</td>\n",
       "    </tr>\n",
       "    <tr>\n",
       "      <th>1157</th>\n",
       "      <td>NaN</td>\n",
       "      <td>1.0</td>\n",
       "      <td>NaN</td>\n",
       "    </tr>\n",
       "    <tr>\n",
       "      <th>1159</th>\n",
       "      <td>NaN</td>\n",
       "      <td>2.0</td>\n",
       "      <td>NaN</td>\n",
       "    </tr>\n",
       "    <tr>\n",
       "      <th>1160</th>\n",
       "      <td>NaN</td>\n",
       "      <td>3.0</td>\n",
       "      <td>NaN</td>\n",
       "    </tr>\n",
       "    <tr>\n",
       "      <th>1161</th>\n",
       "      <td>NaN</td>\n",
       "      <td>1.0</td>\n",
       "      <td>NaN</td>\n",
       "    </tr>\n",
       "    <tr>\n",
       "      <th>...</th>\n",
       "      <td>...</td>\n",
       "      <td>...</td>\n",
       "      <td>...</td>\n",
       "    </tr>\n",
       "    <tr>\n",
       "      <th>2275</th>\n",
       "      <td>2.0</td>\n",
       "      <td>2.0</td>\n",
       "      <td>NaN</td>\n",
       "    </tr>\n",
       "    <tr>\n",
       "      <th>2276</th>\n",
       "      <td>2.0</td>\n",
       "      <td>NaN</td>\n",
       "      <td>NaN</td>\n",
       "    </tr>\n",
       "    <tr>\n",
       "      <th>2280</th>\n",
       "      <td>NaN</td>\n",
       "      <td>1.0</td>\n",
       "      <td>NaN</td>\n",
       "    </tr>\n",
       "    <tr>\n",
       "      <th>2281</th>\n",
       "      <td>NaN</td>\n",
       "      <td>1.0</td>\n",
       "      <td>NaN</td>\n",
       "    </tr>\n",
       "    <tr>\n",
       "      <th>2282</th>\n",
       "      <td>1.0</td>\n",
       "      <td>3.0</td>\n",
       "      <td>NaN</td>\n",
       "    </tr>\n",
       "  </tbody>\n",
       "</table>\n",
       "<p>835 rows × 3 columns</p>\n",
       "</div>"
      ],
      "text/plain": [
       "           count         \n",
       "Статус        -1    3   4\n",
       "Код_группы               \n",
       "1155         NaN  2.0 NaN\n",
       "1157         NaN  1.0 NaN\n",
       "1159         NaN  2.0 NaN\n",
       "1160         NaN  3.0 NaN\n",
       "1161         NaN  1.0 NaN\n",
       "...          ...  ...  ..\n",
       "2275         2.0  2.0 NaN\n",
       "2276         2.0  NaN NaN\n",
       "2280         NaN  1.0 NaN\n",
       "2281         NaN  1.0 NaN\n",
       "2282         1.0  3.0 NaN\n",
       "\n",
       "[835 rows x 3 columns]"
      ]
     },
     "execution_count": 15,
     "metadata": {},
     "output_type": "execute_result"
    }
   ],
   "source": [
    "df_group_status = df.pivot_table(index = 'Код_группы', columns = 'Статус', values = 'ID', aggfunc = ['count'])\n",
    "df_group_status"
   ]
  },
  {
   "cell_type": "code",
   "execution_count": 16,
   "id": "f180706d",
   "metadata": {},
   "outputs": [],
   "source": [
    "df_group_status = df_group_status.fillna(0)"
   ]
  },
  {
   "cell_type": "code",
   "execution_count": 17,
   "id": "60f3e6e8",
   "metadata": {},
   "outputs": [],
   "source": [
    "df_group_status.columns = ['-1', '3', '4']"
   ]
  },
  {
   "cell_type": "markdown",
   "id": "e262ecac",
   "metadata": {},
   "source": [
    "**Пол**"
   ]
  },
  {
   "cell_type": "code",
   "execution_count": 18,
   "id": "5d72677e",
   "metadata": {
    "scrolled": true
   },
   "outputs": [
    {
     "data": {
      "text/plain": [
       "Жен    0.599028\n",
       "Муж    0.400899\n",
       "муж    0.000074\n",
       "Name: Пол, dtype: float64"
      ]
     },
     "execution_count": 18,
     "metadata": {},
     "output_type": "execute_result"
    }
   ],
   "source": [
    "df['Пол'].value_counts(normalize=True)"
   ]
  },
  {
   "cell_type": "code",
   "execution_count": 19,
   "id": "e902c78b",
   "metadata": {},
   "outputs": [],
   "source": [
    "df['Пол'] = df['Пол'].str.lower()"
   ]
  },
  {
   "cell_type": "markdown",
   "id": "f72b2bbe",
   "metadata": {},
   "source": [
    "Посмотрим связь между полом студента и его статусом"
   ]
  },
  {
   "cell_type": "code",
   "execution_count": 20,
   "id": "5a895be3",
   "metadata": {
    "scrolled": false
   },
   "outputs": [
    {
     "data": {
      "text/html": [
       "<div>\n",
       "<style scoped>\n",
       "    .dataframe tbody tr th:only-of-type {\n",
       "        vertical-align: middle;\n",
       "    }\n",
       "\n",
       "    .dataframe tbody tr th {\n",
       "        vertical-align: top;\n",
       "    }\n",
       "\n",
       "    .dataframe thead tr th {\n",
       "        text-align: left;\n",
       "    }\n",
       "\n",
       "    .dataframe thead tr:last-of-type th {\n",
       "        text-align: right;\n",
       "    }\n",
       "</style>\n",
       "<table border=\"1\" class=\"dataframe\">\n",
       "  <thead>\n",
       "    <tr>\n",
       "      <th></th>\n",
       "      <th colspan=\"3\" halign=\"left\">count</th>\n",
       "    </tr>\n",
       "    <tr>\n",
       "      <th>Статус</th>\n",
       "      <th>-1</th>\n",
       "      <th>3</th>\n",
       "      <th>4</th>\n",
       "    </tr>\n",
       "    <tr>\n",
       "      <th>Пол</th>\n",
       "      <th></th>\n",
       "      <th></th>\n",
       "      <th></th>\n",
       "    </tr>\n",
       "  </thead>\n",
       "  <tbody>\n",
       "    <tr>\n",
       "      <th>жен</th>\n",
       "      <td>270</td>\n",
       "      <td>2402</td>\n",
       "      <td>5461</td>\n",
       "    </tr>\n",
       "    <tr>\n",
       "      <th>муж</th>\n",
       "      <td>344</td>\n",
       "      <td>2315</td>\n",
       "      <td>2785</td>\n",
       "    </tr>\n",
       "  </tbody>\n",
       "</table>\n",
       "</div>"
      ],
      "text/plain": [
       "       count            \n",
       "Статус    -1     3     4\n",
       "Пол                     \n",
       "жен      270  2402  5461\n",
       "муж      344  2315  2785"
      ]
     },
     "execution_count": 20,
     "metadata": {},
     "output_type": "execute_result"
    }
   ],
   "source": [
    "df.pivot_table(index = 'Пол', columns = 'Статус', values = 'ID', aggfunc = ['count'])"
   ]
  },
  {
   "cell_type": "code",
   "execution_count": 21,
   "id": "18936a07",
   "metadata": {},
   "outputs": [],
   "source": [
    "df['Пол']= df['Пол'].fillna('жен')"
   ]
  },
  {
   "cell_type": "code",
   "execution_count": 22,
   "id": "72aed1c6",
   "metadata": {
    "scrolled": true
   },
   "outputs": [],
   "source": [
    "df_pol_status = df.pivot_table(index = 'Пол', columns = 'Статус', values = 'ID', aggfunc = ['count'])"
   ]
  },
  {
   "cell_type": "code",
   "execution_count": 23,
   "id": "0713dc70",
   "metadata": {},
   "outputs": [],
   "source": [
    "df_pol_status.columns = ['-1', '3', '4']"
   ]
  },
  {
   "cell_type": "code",
   "execution_count": 24,
   "id": "c5e96d4a",
   "metadata": {
    "scrolled": true
   },
   "outputs": [
    {
     "data": {
      "text/html": [
       "<div>\n",
       "<style scoped>\n",
       "    .dataframe tbody tr th:only-of-type {\n",
       "        vertical-align: middle;\n",
       "    }\n",
       "\n",
       "    .dataframe tbody tr th {\n",
       "        vertical-align: top;\n",
       "    }\n",
       "\n",
       "    .dataframe thead th {\n",
       "        text-align: right;\n",
       "    }\n",
       "</style>\n",
       "<table border=\"1\" class=\"dataframe\">\n",
       "  <thead>\n",
       "    <tr style=\"text-align: right;\">\n",
       "      <th></th>\n",
       "      <th>-1</th>\n",
       "      <th>3</th>\n",
       "      <th>4</th>\n",
       "      <th>-1/sum</th>\n",
       "      <th>3/sum</th>\n",
       "    </tr>\n",
       "    <tr>\n",
       "      <th>Пол</th>\n",
       "      <th></th>\n",
       "      <th></th>\n",
       "      <th></th>\n",
       "      <th></th>\n",
       "      <th></th>\n",
       "    </tr>\n",
       "  </thead>\n",
       "  <tbody>\n",
       "    <tr>\n",
       "      <th>жен</th>\n",
       "      <td>270</td>\n",
       "      <td>2406</td>\n",
       "      <td>5464</td>\n",
       "      <td>0.033170</td>\n",
       "      <td>0.295577</td>\n",
       "    </tr>\n",
       "    <tr>\n",
       "      <th>муж</th>\n",
       "      <td>344</td>\n",
       "      <td>2315</td>\n",
       "      <td>2785</td>\n",
       "      <td>0.063189</td>\n",
       "      <td>0.425239</td>\n",
       "    </tr>\n",
       "  </tbody>\n",
       "</table>\n",
       "</div>"
      ],
      "text/plain": [
       "      -1     3     4    -1/sum     3/sum\n",
       "Пол                                     \n",
       "жен  270  2406  5464  0.033170  0.295577\n",
       "муж  344  2315  2785  0.063189  0.425239"
      ]
     },
     "execution_count": 24,
     "metadata": {},
     "output_type": "execute_result"
    }
   ],
   "source": [
    "df_pol_status['-1/sum']=df_pol_status['-1']/(df_pol_status['-1']+df_pol_status['3']+df_pol_status['4'])\n",
    "df_pol_status['3/sum']=df_pol_status['3']/(df_pol_status['-1']+df_pol_status['3']+df_pol_status['4'])\n",
    "df_pol_status"
   ]
  },
  {
   "cell_type": "markdown",
   "id": "40f6702e",
   "metadata": {},
   "source": [
    "**Вывод**:\n",
    "- мужчины чаще отчисляются и уходят в академ"
   ]
  },
  {
   "cell_type": "code",
   "execution_count": 25,
   "id": "0219d8e7",
   "metadata": {},
   "outputs": [],
   "source": [
    "def pol(sex):\n",
    "    if sex == 'жен':\n",
    "        return 0\n",
    "    if sex == 'муж':\n",
    "        return 1   "
   ]
  },
  {
   "cell_type": "code",
   "execution_count": 26,
   "id": "1c2993fa",
   "metadata": {},
   "outputs": [],
   "source": [
    "df['Пол']= df['Пол'].apply(pol)"
   ]
  },
  {
   "cell_type": "markdown",
   "id": "42e5f613",
   "metadata": {},
   "source": [
    "**Год поступления**"
   ]
  },
  {
   "cell_type": "markdown",
   "id": "a8ee2008",
   "metadata": {},
   "source": [
    "Посмотрим связь между годом поступления и статусом"
   ]
  },
  {
   "cell_type": "code",
   "execution_count": 27,
   "id": "5cae7fa2",
   "metadata": {
    "scrolled": true
   },
   "outputs": [
    {
     "data": {
      "text/html": [
       "<div>\n",
       "<style scoped>\n",
       "    .dataframe tbody tr th:only-of-type {\n",
       "        vertical-align: middle;\n",
       "    }\n",
       "\n",
       "    .dataframe tbody tr th {\n",
       "        vertical-align: top;\n",
       "    }\n",
       "\n",
       "    .dataframe thead tr th {\n",
       "        text-align: left;\n",
       "    }\n",
       "\n",
       "    .dataframe thead tr:last-of-type th {\n",
       "        text-align: right;\n",
       "    }\n",
       "</style>\n",
       "<table border=\"1\" class=\"dataframe\">\n",
       "  <thead>\n",
       "    <tr>\n",
       "      <th></th>\n",
       "      <th colspan=\"3\" halign=\"left\">count</th>\n",
       "    </tr>\n",
       "    <tr>\n",
       "      <th>Статус</th>\n",
       "      <th>-1</th>\n",
       "      <th>3</th>\n",
       "      <th>4</th>\n",
       "    </tr>\n",
       "    <tr>\n",
       "      <th>Год_Поступления</th>\n",
       "      <th></th>\n",
       "      <th></th>\n",
       "      <th></th>\n",
       "    </tr>\n",
       "  </thead>\n",
       "  <tbody>\n",
       "    <tr>\n",
       "      <th>2001</th>\n",
       "      <td>NaN</td>\n",
       "      <td>1.0</td>\n",
       "      <td>NaN</td>\n",
       "    </tr>\n",
       "    <tr>\n",
       "      <th>2003</th>\n",
       "      <td>NaN</td>\n",
       "      <td>NaN</td>\n",
       "      <td>1.0</td>\n",
       "    </tr>\n",
       "    <tr>\n",
       "      <th>2004</th>\n",
       "      <td>NaN</td>\n",
       "      <td>1.0</td>\n",
       "      <td>NaN</td>\n",
       "    </tr>\n",
       "    <tr>\n",
       "      <th>2005</th>\n",
       "      <td>NaN</td>\n",
       "      <td>NaN</td>\n",
       "      <td>1.0</td>\n",
       "    </tr>\n",
       "    <tr>\n",
       "      <th>2007</th>\n",
       "      <td>NaN</td>\n",
       "      <td>NaN</td>\n",
       "      <td>5.0</td>\n",
       "    </tr>\n",
       "    <tr>\n",
       "      <th>2008</th>\n",
       "      <td>NaN</td>\n",
       "      <td>NaN</td>\n",
       "      <td>2.0</td>\n",
       "    </tr>\n",
       "    <tr>\n",
       "      <th>2009</th>\n",
       "      <td>NaN</td>\n",
       "      <td>3.0</td>\n",
       "      <td>5.0</td>\n",
       "    </tr>\n",
       "    <tr>\n",
       "      <th>2010</th>\n",
       "      <td>NaN</td>\n",
       "      <td>NaN</td>\n",
       "      <td>19.0</td>\n",
       "    </tr>\n",
       "    <tr>\n",
       "      <th>2011</th>\n",
       "      <td>NaN</td>\n",
       "      <td>4.0</td>\n",
       "      <td>42.0</td>\n",
       "    </tr>\n",
       "    <tr>\n",
       "      <th>2012</th>\n",
       "      <td>3.0</td>\n",
       "      <td>354.0</td>\n",
       "      <td>1037.0</td>\n",
       "    </tr>\n",
       "    <tr>\n",
       "      <th>2013</th>\n",
       "      <td>12.0</td>\n",
       "      <td>790.0</td>\n",
       "      <td>1268.0</td>\n",
       "    </tr>\n",
       "    <tr>\n",
       "      <th>2014</th>\n",
       "      <td>24.0</td>\n",
       "      <td>724.0</td>\n",
       "      <td>1542.0</td>\n",
       "    </tr>\n",
       "    <tr>\n",
       "      <th>2015</th>\n",
       "      <td>39.0</td>\n",
       "      <td>718.0</td>\n",
       "      <td>1596.0</td>\n",
       "    </tr>\n",
       "    <tr>\n",
       "      <th>2016</th>\n",
       "      <td>76.0</td>\n",
       "      <td>703.0</td>\n",
       "      <td>1492.0</td>\n",
       "    </tr>\n",
       "    <tr>\n",
       "      <th>2017</th>\n",
       "      <td>141.0</td>\n",
       "      <td>578.0</td>\n",
       "      <td>741.0</td>\n",
       "    </tr>\n",
       "    <tr>\n",
       "      <th>2018</th>\n",
       "      <td>149.0</td>\n",
       "      <td>501.0</td>\n",
       "      <td>497.0</td>\n",
       "    </tr>\n",
       "    <tr>\n",
       "      <th>2019</th>\n",
       "      <td>148.0</td>\n",
       "      <td>317.0</td>\n",
       "      <td>1.0</td>\n",
       "    </tr>\n",
       "    <tr>\n",
       "      <th>2020</th>\n",
       "      <td>22.0</td>\n",
       "      <td>26.0</td>\n",
       "      <td>NaN</td>\n",
       "    </tr>\n",
       "    <tr>\n",
       "      <th>2212</th>\n",
       "      <td>NaN</td>\n",
       "      <td>1.0</td>\n",
       "      <td>NaN</td>\n",
       "    </tr>\n",
       "  </tbody>\n",
       "</table>\n",
       "</div>"
      ],
      "text/plain": [
       "                 count               \n",
       "Статус              -1      3       4\n",
       "Год_Поступления                      \n",
       "2001               NaN    1.0     NaN\n",
       "2003               NaN    NaN     1.0\n",
       "2004               NaN    1.0     NaN\n",
       "2005               NaN    NaN     1.0\n",
       "2007               NaN    NaN     5.0\n",
       "2008               NaN    NaN     2.0\n",
       "2009               NaN    3.0     5.0\n",
       "2010               NaN    NaN    19.0\n",
       "2011               NaN    4.0    42.0\n",
       "2012               3.0  354.0  1037.0\n",
       "2013              12.0  790.0  1268.0\n",
       "2014              24.0  724.0  1542.0\n",
       "2015              39.0  718.0  1596.0\n",
       "2016              76.0  703.0  1492.0\n",
       "2017             141.0  578.0   741.0\n",
       "2018             149.0  501.0   497.0\n",
       "2019             148.0  317.0     1.0\n",
       "2020              22.0   26.0     NaN\n",
       "2212               NaN    1.0     NaN"
      ]
     },
     "execution_count": 27,
     "metadata": {},
     "output_type": "execute_result"
    }
   ],
   "source": [
    "df.pivot_table(index = 'Год_Поступления', columns = 'Статус', values = 'ID', aggfunc = ['count'])"
   ]
  },
  {
   "cell_type": "markdown",
   "id": "2ae1f75d",
   "metadata": {},
   "source": [
    "Обрежем аномалии:"
   ]
  },
  {
   "cell_type": "code",
   "execution_count": 28,
   "id": "4acbc370",
   "metadata": {},
   "outputs": [],
   "source": [
    "df=df[df['Год_Поступления']<=2020]"
   ]
  },
  {
   "cell_type": "code",
   "execution_count": 29,
   "id": "3f34b44b",
   "metadata": {},
   "outputs": [],
   "source": [
    "df=df[df['Год_Поступления']>=2012]"
   ]
  },
  {
   "cell_type": "markdown",
   "id": "995c689d",
   "metadata": {},
   "source": [
    "Посмотрим взаимосвязь года поступления и статуса:"
   ]
  },
  {
   "cell_type": "code",
   "execution_count": 30,
   "id": "1bf49e77",
   "metadata": {
    "scrolled": true
   },
   "outputs": [],
   "source": [
    "df_year_status = df.pivot_table(index = 'Год_Поступления', columns = 'Статус', values = 'ID', aggfunc = ['count'])"
   ]
  },
  {
   "cell_type": "code",
   "execution_count": 31,
   "id": "5de052bb",
   "metadata": {},
   "outputs": [],
   "source": [
    "df_year_status.columns = ['-1', '3', '4']"
   ]
  },
  {
   "cell_type": "code",
   "execution_count": 32,
   "id": "55c972b2",
   "metadata": {
    "scrolled": true
   },
   "outputs": [
    {
     "data": {
      "text/html": [
       "<div>\n",
       "<style scoped>\n",
       "    .dataframe tbody tr th:only-of-type {\n",
       "        vertical-align: middle;\n",
       "    }\n",
       "\n",
       "    .dataframe tbody tr th {\n",
       "        vertical-align: top;\n",
       "    }\n",
       "\n",
       "    .dataframe thead th {\n",
       "        text-align: right;\n",
       "    }\n",
       "</style>\n",
       "<table border=\"1\" class=\"dataframe\">\n",
       "  <thead>\n",
       "    <tr style=\"text-align: right;\">\n",
       "      <th></th>\n",
       "      <th>-1</th>\n",
       "      <th>3</th>\n",
       "      <th>4</th>\n",
       "      <th>-1/sum</th>\n",
       "      <th>3/sum</th>\n",
       "    </tr>\n",
       "    <tr>\n",
       "      <th>Год_Поступления</th>\n",
       "      <th></th>\n",
       "      <th></th>\n",
       "      <th></th>\n",
       "      <th></th>\n",
       "      <th></th>\n",
       "    </tr>\n",
       "  </thead>\n",
       "  <tbody>\n",
       "    <tr>\n",
       "      <th>2012</th>\n",
       "      <td>3.0</td>\n",
       "      <td>354.0</td>\n",
       "      <td>1037.0</td>\n",
       "      <td>0.002152</td>\n",
       "      <td>0.253945</td>\n",
       "    </tr>\n",
       "    <tr>\n",
       "      <th>2013</th>\n",
       "      <td>12.0</td>\n",
       "      <td>790.0</td>\n",
       "      <td>1268.0</td>\n",
       "      <td>0.005797</td>\n",
       "      <td>0.381643</td>\n",
       "    </tr>\n",
       "    <tr>\n",
       "      <th>2014</th>\n",
       "      <td>24.0</td>\n",
       "      <td>724.0</td>\n",
       "      <td>1542.0</td>\n",
       "      <td>0.010480</td>\n",
       "      <td>0.316157</td>\n",
       "    </tr>\n",
       "    <tr>\n",
       "      <th>2015</th>\n",
       "      <td>39.0</td>\n",
       "      <td>718.0</td>\n",
       "      <td>1596.0</td>\n",
       "      <td>0.016575</td>\n",
       "      <td>0.305142</td>\n",
       "    </tr>\n",
       "    <tr>\n",
       "      <th>2016</th>\n",
       "      <td>76.0</td>\n",
       "      <td>703.0</td>\n",
       "      <td>1492.0</td>\n",
       "      <td>0.033465</td>\n",
       "      <td>0.309555</td>\n",
       "    </tr>\n",
       "    <tr>\n",
       "      <th>2017</th>\n",
       "      <td>141.0</td>\n",
       "      <td>578.0</td>\n",
       "      <td>741.0</td>\n",
       "      <td>0.096575</td>\n",
       "      <td>0.395890</td>\n",
       "    </tr>\n",
       "    <tr>\n",
       "      <th>2018</th>\n",
       "      <td>149.0</td>\n",
       "      <td>501.0</td>\n",
       "      <td>497.0</td>\n",
       "      <td>0.129904</td>\n",
       "      <td>0.436792</td>\n",
       "    </tr>\n",
       "    <tr>\n",
       "      <th>2019</th>\n",
       "      <td>148.0</td>\n",
       "      <td>317.0</td>\n",
       "      <td>1.0</td>\n",
       "      <td>0.317597</td>\n",
       "      <td>0.680258</td>\n",
       "    </tr>\n",
       "    <tr>\n",
       "      <th>2020</th>\n",
       "      <td>22.0</td>\n",
       "      <td>26.0</td>\n",
       "      <td>NaN</td>\n",
       "      <td>NaN</td>\n",
       "      <td>NaN</td>\n",
       "    </tr>\n",
       "  </tbody>\n",
       "</table>\n",
       "</div>"
      ],
      "text/plain": [
       "                    -1      3       4    -1/sum     3/sum\n",
       "Год_Поступления                                          \n",
       "2012               3.0  354.0  1037.0  0.002152  0.253945\n",
       "2013              12.0  790.0  1268.0  0.005797  0.381643\n",
       "2014              24.0  724.0  1542.0  0.010480  0.316157\n",
       "2015              39.0  718.0  1596.0  0.016575  0.305142\n",
       "2016              76.0  703.0  1492.0  0.033465  0.309555\n",
       "2017             141.0  578.0   741.0  0.096575  0.395890\n",
       "2018             149.0  501.0   497.0  0.129904  0.436792\n",
       "2019             148.0  317.0     1.0  0.317597  0.680258\n",
       "2020              22.0   26.0     NaN       NaN       NaN"
      ]
     },
     "execution_count": 32,
     "metadata": {},
     "output_type": "execute_result"
    }
   ],
   "source": [
    "df_year_status['-1/sum']=df_year_status['-1']/(df_year_status['-1']+df_year_status['3']+df_year_status['4'])\n",
    "df_year_status['3/sum']=df_year_status['3']/(df_year_status['-1']+df_year_status['3']+df_year_status['4'])\n",
    "df_year_status"
   ]
  },
  {
   "cell_type": "markdown",
   "id": "520d5298",
   "metadata": {},
   "source": [
    "**Вывод**:\n",
    "- с годами, особенно после 2017 года растут доли ушедших в академ или отчисленных\n",
    "- но это мнение может быть ошибочно, так как в статус закончивших обучение многие, кто поступал после 2017 могли не попасть\n",
    "- то есть это ошибка статистики: фиксируются только ушедшие в академ или отчисленные, а те, то учится не попали в статистику"
   ]
  },
  {
   "cell_type": "code",
   "execution_count": 33,
   "id": "021c8af4",
   "metadata": {
    "scrolled": true
   },
   "outputs": [
    {
     "data": {
      "text/html": [
       "<div>\n",
       "<style scoped>\n",
       "    .dataframe tbody tr th:only-of-type {\n",
       "        vertical-align: middle;\n",
       "    }\n",
       "\n",
       "    .dataframe tbody tr th {\n",
       "        vertical-align: top;\n",
       "    }\n",
       "\n",
       "    .dataframe thead th {\n",
       "        text-align: right;\n",
       "    }\n",
       "</style>\n",
       "<table border=\"1\" class=\"dataframe\">\n",
       "  <thead>\n",
       "    <tr style=\"text-align: right;\">\n",
       "      <th>Год_Окончания_УЗ</th>\n",
       "      <th>2010.0</th>\n",
       "      <th>2011.0</th>\n",
       "      <th>2012.0</th>\n",
       "      <th>2013.0</th>\n",
       "      <th>2014.0</th>\n",
       "      <th>2015.0</th>\n",
       "      <th>2016.0</th>\n",
       "      <th>2017.0</th>\n",
       "      <th>2018.0</th>\n",
       "      <th>2019.0</th>\n",
       "      <th>2020.0</th>\n",
       "    </tr>\n",
       "    <tr>\n",
       "      <th>Год_Поступления</th>\n",
       "      <th></th>\n",
       "      <th></th>\n",
       "      <th></th>\n",
       "      <th></th>\n",
       "      <th></th>\n",
       "      <th></th>\n",
       "      <th></th>\n",
       "      <th></th>\n",
       "      <th></th>\n",
       "      <th></th>\n",
       "      <th></th>\n",
       "    </tr>\n",
       "  </thead>\n",
       "  <tbody>\n",
       "    <tr>\n",
       "      <th>2012</th>\n",
       "      <td>23</td>\n",
       "      <td>34</td>\n",
       "      <td>330</td>\n",
       "      <td>0</td>\n",
       "      <td>0</td>\n",
       "      <td>0</td>\n",
       "      <td>0</td>\n",
       "      <td>1</td>\n",
       "      <td>1</td>\n",
       "      <td>0</td>\n",
       "      <td>0</td>\n",
       "    </tr>\n",
       "    <tr>\n",
       "      <th>2013</th>\n",
       "      <td>36</td>\n",
       "      <td>60</td>\n",
       "      <td>149</td>\n",
       "      <td>1375</td>\n",
       "      <td>0</td>\n",
       "      <td>0</td>\n",
       "      <td>0</td>\n",
       "      <td>0</td>\n",
       "      <td>0</td>\n",
       "      <td>0</td>\n",
       "      <td>0</td>\n",
       "    </tr>\n",
       "    <tr>\n",
       "      <th>2014</th>\n",
       "      <td>41</td>\n",
       "      <td>41</td>\n",
       "      <td>94</td>\n",
       "      <td>134</td>\n",
       "      <td>1665</td>\n",
       "      <td>0</td>\n",
       "      <td>0</td>\n",
       "      <td>0</td>\n",
       "      <td>0</td>\n",
       "      <td>0</td>\n",
       "      <td>0</td>\n",
       "    </tr>\n",
       "    <tr>\n",
       "      <th>2015</th>\n",
       "      <td>25</td>\n",
       "      <td>33</td>\n",
       "      <td>48</td>\n",
       "      <td>99</td>\n",
       "      <td>156</td>\n",
       "      <td>1803</td>\n",
       "      <td>0</td>\n",
       "      <td>0</td>\n",
       "      <td>0</td>\n",
       "      <td>0</td>\n",
       "      <td>0</td>\n",
       "    </tr>\n",
       "    <tr>\n",
       "      <th>2016</th>\n",
       "      <td>17</td>\n",
       "      <td>13</td>\n",
       "      <td>33</td>\n",
       "      <td>49</td>\n",
       "      <td>116</td>\n",
       "      <td>125</td>\n",
       "      <td>1791</td>\n",
       "      <td>0</td>\n",
       "      <td>0</td>\n",
       "      <td>0</td>\n",
       "      <td>0</td>\n",
       "    </tr>\n",
       "    <tr>\n",
       "      <th>2017</th>\n",
       "      <td>6</td>\n",
       "      <td>5</td>\n",
       "      <td>12</td>\n",
       "      <td>17</td>\n",
       "      <td>26</td>\n",
       "      <td>81</td>\n",
       "      <td>105</td>\n",
       "      <td>1107</td>\n",
       "      <td>0</td>\n",
       "      <td>0</td>\n",
       "      <td>0</td>\n",
       "    </tr>\n",
       "    <tr>\n",
       "      <th>2018</th>\n",
       "      <td>7</td>\n",
       "      <td>11</td>\n",
       "      <td>15</td>\n",
       "      <td>17</td>\n",
       "      <td>14</td>\n",
       "      <td>37</td>\n",
       "      <td>76</td>\n",
       "      <td>78</td>\n",
       "      <td>807</td>\n",
       "      <td>0</td>\n",
       "      <td>0</td>\n",
       "    </tr>\n",
       "    <tr>\n",
       "      <th>2019</th>\n",
       "      <td>3</td>\n",
       "      <td>5</td>\n",
       "      <td>4</td>\n",
       "      <td>5</td>\n",
       "      <td>9</td>\n",
       "      <td>10</td>\n",
       "      <td>18</td>\n",
       "      <td>34</td>\n",
       "      <td>41</td>\n",
       "      <td>312</td>\n",
       "      <td>0</td>\n",
       "    </tr>\n",
       "    <tr>\n",
       "      <th>2020</th>\n",
       "      <td>0</td>\n",
       "      <td>0</td>\n",
       "      <td>0</td>\n",
       "      <td>0</td>\n",
       "      <td>0</td>\n",
       "      <td>0</td>\n",
       "      <td>0</td>\n",
       "      <td>0</td>\n",
       "      <td>1</td>\n",
       "      <td>3</td>\n",
       "      <td>28</td>\n",
       "    </tr>\n",
       "  </tbody>\n",
       "</table>\n",
       "</div>"
      ],
      "text/plain": [
       "Год_Окончания_УЗ  2010.0  2011.0  2012.0  2013.0  2014.0  2015.0  2016.0  \\\n",
       "Год_Поступления                                                            \n",
       "2012                  23      34     330       0       0       0       0   \n",
       "2013                  36      60     149    1375       0       0       0   \n",
       "2014                  41      41      94     134    1665       0       0   \n",
       "2015                  25      33      48      99     156    1803       0   \n",
       "2016                  17      13      33      49     116     125    1791   \n",
       "2017                   6       5      12      17      26      81     105   \n",
       "2018                   7      11      15      17      14      37      76   \n",
       "2019                   3       5       4       5       9      10      18   \n",
       "2020                   0       0       0       0       0       0       0   \n",
       "\n",
       "Год_Окончания_УЗ  2017.0  2018.0  2019.0  2020.0  \n",
       "Год_Поступления                                   \n",
       "2012                   1       1       0       0  \n",
       "2013                   0       0       0       0  \n",
       "2014                   0       0       0       0  \n",
       "2015                   0       0       0       0  \n",
       "2016                   0       0       0       0  \n",
       "2017                1107       0       0       0  \n",
       "2018                  78     807       0       0  \n",
       "2019                  34      41     312       0  \n",
       "2020                   0       1       3      28  "
      ]
     },
     "execution_count": 33,
     "metadata": {},
     "output_type": "execute_result"
    }
   ],
   "source": [
    "pd.crosstab(df['Год_Поступления'], df[df['Год_Окончания_УЗ']>2009]['Год_Окончания_УЗ'])"
   ]
  },
  {
   "cell_type": "markdown",
   "id": "b7c54aa1",
   "metadata": {},
   "source": [
    "**Вывод**: то есть Год_Окончания_Уз - это год окончания предыдущего учебного заведения (до Алтайского университета)"
   ]
  },
  {
   "cell_type": "markdown",
   "id": "bdffb66f",
   "metadata": {},
   "source": [
    "**Дополнительный признак (типа курс учебы)**"
   ]
  },
  {
   "cell_type": "markdown",
   "id": "7b0c1cf4",
   "metadata": {},
   "source": [
    "Введем дополнительный признак"
   ]
  },
  {
   "cell_type": "code",
   "execution_count": 34,
   "id": "c26d8e1b",
   "metadata": {},
   "outputs": [],
   "source": [
    "def kurs (year):\n",
    "    if year < 2017:\n",
    "        return 'zero'\n",
    "    if year == 2017:\n",
    "        return 'one'\n",
    "    if year == 2018:\n",
    "        return 'two'\n",
    "    if year == 2019:\n",
    "        return 'three'\n",
    "    if year == 2020:\n",
    "        return 'four'\n",
    "    else:\n",
    "        return 'н.д.'"
   ]
  },
  {
   "cell_type": "code",
   "execution_count": 35,
   "id": "44684b50",
   "metadata": {},
   "outputs": [],
   "source": [
    "df['kurs'] = df['Год_Поступления'].apply(kurs)"
   ]
  },
  {
   "cell_type": "code",
   "execution_count": 36,
   "id": "cf1c28cd",
   "metadata": {
    "scrolled": false
   },
   "outputs": [
    {
     "data": {
      "text/plain": [
       "zero     10378\n",
       "one       1460\n",
       "two       1147\n",
       "three      466\n",
       "four        48\n",
       "Name: kurs, dtype: int64"
      ]
     },
     "execution_count": 36,
     "metadata": {},
     "output_type": "execute_result"
    }
   ],
   "source": [
    "df['kurs'].value_counts()"
   ]
  },
  {
   "cell_type": "markdown",
   "id": "b9f5b67f",
   "metadata": {},
   "source": [
    "Посмотрим взаимосвязь \"курса\" и статуса:"
   ]
  },
  {
   "cell_type": "code",
   "execution_count": 37,
   "id": "c1539a7a",
   "metadata": {
    "scrolled": true
   },
   "outputs": [],
   "source": [
    "df_kurs_status = df.pivot_table(index = 'kurs', columns = 'Статус', values = 'ID', aggfunc = ['count'])"
   ]
  },
  {
   "cell_type": "code",
   "execution_count": 38,
   "id": "33f55e83",
   "metadata": {},
   "outputs": [],
   "source": [
    "df_kurs_status.columns = ['-1', '3', '4']"
   ]
  },
  {
   "cell_type": "code",
   "execution_count": 39,
   "id": "b416d8d0",
   "metadata": {
    "scrolled": true
   },
   "outputs": [
    {
     "data": {
      "text/html": [
       "<div>\n",
       "<style scoped>\n",
       "    .dataframe tbody tr th:only-of-type {\n",
       "        vertical-align: middle;\n",
       "    }\n",
       "\n",
       "    .dataframe tbody tr th {\n",
       "        vertical-align: top;\n",
       "    }\n",
       "\n",
       "    .dataframe thead th {\n",
       "        text-align: right;\n",
       "    }\n",
       "</style>\n",
       "<table border=\"1\" class=\"dataframe\">\n",
       "  <thead>\n",
       "    <tr style=\"text-align: right;\">\n",
       "      <th></th>\n",
       "      <th>-1</th>\n",
       "      <th>3</th>\n",
       "      <th>4</th>\n",
       "      <th>-1/sum</th>\n",
       "      <th>3/sum</th>\n",
       "    </tr>\n",
       "    <tr>\n",
       "      <th>kurs</th>\n",
       "      <th></th>\n",
       "      <th></th>\n",
       "      <th></th>\n",
       "      <th></th>\n",
       "      <th></th>\n",
       "    </tr>\n",
       "  </thead>\n",
       "  <tbody>\n",
       "    <tr>\n",
       "      <th>four</th>\n",
       "      <td>22.0</td>\n",
       "      <td>26.0</td>\n",
       "      <td>NaN</td>\n",
       "      <td>NaN</td>\n",
       "      <td>NaN</td>\n",
       "    </tr>\n",
       "    <tr>\n",
       "      <th>one</th>\n",
       "      <td>141.0</td>\n",
       "      <td>578.0</td>\n",
       "      <td>741.0</td>\n",
       "      <td>0.096575</td>\n",
       "      <td>0.395890</td>\n",
       "    </tr>\n",
       "    <tr>\n",
       "      <th>three</th>\n",
       "      <td>148.0</td>\n",
       "      <td>317.0</td>\n",
       "      <td>1.0</td>\n",
       "      <td>0.317597</td>\n",
       "      <td>0.680258</td>\n",
       "    </tr>\n",
       "    <tr>\n",
       "      <th>two</th>\n",
       "      <td>149.0</td>\n",
       "      <td>501.0</td>\n",
       "      <td>497.0</td>\n",
       "      <td>0.129904</td>\n",
       "      <td>0.436792</td>\n",
       "    </tr>\n",
       "    <tr>\n",
       "      <th>zero</th>\n",
       "      <td>154.0</td>\n",
       "      <td>3289.0</td>\n",
       "      <td>6935.0</td>\n",
       "      <td>0.014839</td>\n",
       "      <td>0.316920</td>\n",
       "    </tr>\n",
       "  </tbody>\n",
       "</table>\n",
       "</div>"
      ],
      "text/plain": [
       "          -1       3       4    -1/sum     3/sum\n",
       "kurs                                            \n",
       "four    22.0    26.0     NaN       NaN       NaN\n",
       "one    141.0   578.0   741.0  0.096575  0.395890\n",
       "three  148.0   317.0     1.0  0.317597  0.680258\n",
       "two    149.0   501.0   497.0  0.129904  0.436792\n",
       "zero   154.0  3289.0  6935.0  0.014839  0.316920"
      ]
     },
     "execution_count": 39,
     "metadata": {},
     "output_type": "execute_result"
    }
   ],
   "source": [
    "df_kurs_status['-1/sum']=df_kurs_status['-1']/(df_kurs_status['-1']+df_kurs_status['3']+df_kurs_status['4'])\n",
    "df_kurs_status['3/sum']=df_kurs_status['3']/(df_kurs_status['-1']+df_kurs_status['3']+df_kurs_status['4'])\n",
    "df_kurs_status"
   ]
  },
  {
   "cell_type": "markdown",
   "id": "e9d413e8",
   "metadata": {},
   "source": [
    "**Основания для учебы**"
   ]
  },
  {
   "cell_type": "markdown",
   "id": "a00fe5cf",
   "metadata": {},
   "source": [
    "Пропусков в train и test нет"
   ]
  },
  {
   "cell_type": "code",
   "execution_count": 40,
   "id": "e90bd758",
   "metadata": {
    "scrolled": false
   },
   "outputs": [
    {
     "data": {
      "text/plain": [
       "ОО    5053\n",
       "СН    4515\n",
       "БН    1878\n",
       "ДН    1850\n",
       "ЦН     203\n",
       "Name: Основания, dtype: int64"
      ]
     },
     "execution_count": 40,
     "metadata": {},
     "output_type": "execute_result"
    }
   ],
   "source": [
    "df['Основания'].value_counts()"
   ]
  },
  {
   "cell_type": "code",
   "execution_count": 41,
   "id": "bea5b52b",
   "metadata": {
    "scrolled": true
   },
   "outputs": [
    {
     "data": {
      "text/html": [
       "<div>\n",
       "<style scoped>\n",
       "    .dataframe tbody tr th:only-of-type {\n",
       "        vertical-align: middle;\n",
       "    }\n",
       "\n",
       "    .dataframe tbody tr th {\n",
       "        vertical-align: top;\n",
       "    }\n",
       "\n",
       "    .dataframe thead tr th {\n",
       "        text-align: left;\n",
       "    }\n",
       "\n",
       "    .dataframe thead tr:last-of-type th {\n",
       "        text-align: right;\n",
       "    }\n",
       "</style>\n",
       "<table border=\"1\" class=\"dataframe\">\n",
       "  <thead>\n",
       "    <tr>\n",
       "      <th></th>\n",
       "      <th colspan=\"3\" halign=\"left\">count</th>\n",
       "    </tr>\n",
       "    <tr>\n",
       "      <th>Статус</th>\n",
       "      <th>-1</th>\n",
       "      <th>3</th>\n",
       "      <th>4</th>\n",
       "    </tr>\n",
       "    <tr>\n",
       "      <th>Основания</th>\n",
       "      <th></th>\n",
       "      <th></th>\n",
       "      <th></th>\n",
       "    </tr>\n",
       "  </thead>\n",
       "  <tbody>\n",
       "    <tr>\n",
       "      <th>БН</th>\n",
       "      <td>43</td>\n",
       "      <td>258</td>\n",
       "      <td>1577</td>\n",
       "    </tr>\n",
       "    <tr>\n",
       "      <th>ДН</th>\n",
       "      <td>53</td>\n",
       "      <td>389</td>\n",
       "      <td>1408</td>\n",
       "    </tr>\n",
       "    <tr>\n",
       "      <th>ОО</th>\n",
       "      <td>265</td>\n",
       "      <td>2143</td>\n",
       "      <td>2645</td>\n",
       "    </tr>\n",
       "    <tr>\n",
       "      <th>СН</th>\n",
       "      <td>246</td>\n",
       "      <td>1886</td>\n",
       "      <td>2383</td>\n",
       "    </tr>\n",
       "    <tr>\n",
       "      <th>ЦН</th>\n",
       "      <td>7</td>\n",
       "      <td>35</td>\n",
       "      <td>161</td>\n",
       "    </tr>\n",
       "  </tbody>\n",
       "</table>\n",
       "</div>"
      ],
      "text/plain": [
       "          count            \n",
       "Статус       -1     3     4\n",
       "Основания                  \n",
       "БН           43   258  1577\n",
       "ДН           53   389  1408\n",
       "ОО          265  2143  2645\n",
       "СН          246  1886  2383\n",
       "ЦН            7    35   161"
      ]
     },
     "execution_count": 41,
     "metadata": {},
     "output_type": "execute_result"
    }
   ],
   "source": [
    "df_osnov_status = df.pivot_table(index = 'Основания', columns = 'Статус', values = 'ID', aggfunc = ['count'])\n",
    "df_osnov_status"
   ]
  },
  {
   "cell_type": "code",
   "execution_count": 42,
   "id": "0902ddff",
   "metadata": {},
   "outputs": [],
   "source": [
    "df_osnov_status.columns = ['-1', '3', '4']"
   ]
  },
  {
   "cell_type": "code",
   "execution_count": 43,
   "id": "4dd75df7",
   "metadata": {
    "scrolled": true
   },
   "outputs": [
    {
     "data": {
      "text/html": [
       "<div>\n",
       "<style scoped>\n",
       "    .dataframe tbody tr th:only-of-type {\n",
       "        vertical-align: middle;\n",
       "    }\n",
       "\n",
       "    .dataframe tbody tr th {\n",
       "        vertical-align: top;\n",
       "    }\n",
       "\n",
       "    .dataframe thead th {\n",
       "        text-align: right;\n",
       "    }\n",
       "</style>\n",
       "<table border=\"1\" class=\"dataframe\">\n",
       "  <thead>\n",
       "    <tr style=\"text-align: right;\">\n",
       "      <th></th>\n",
       "      <th>-1</th>\n",
       "      <th>3</th>\n",
       "      <th>4</th>\n",
       "      <th>-1/sum</th>\n",
       "      <th>3/sum</th>\n",
       "    </tr>\n",
       "    <tr>\n",
       "      <th>Основания</th>\n",
       "      <th></th>\n",
       "      <th></th>\n",
       "      <th></th>\n",
       "      <th></th>\n",
       "      <th></th>\n",
       "    </tr>\n",
       "  </thead>\n",
       "  <tbody>\n",
       "    <tr>\n",
       "      <th>БН</th>\n",
       "      <td>43</td>\n",
       "      <td>258</td>\n",
       "      <td>1577</td>\n",
       "      <td>0.022897</td>\n",
       "      <td>0.137380</td>\n",
       "    </tr>\n",
       "    <tr>\n",
       "      <th>ДН</th>\n",
       "      <td>53</td>\n",
       "      <td>389</td>\n",
       "      <td>1408</td>\n",
       "      <td>0.028649</td>\n",
       "      <td>0.210270</td>\n",
       "    </tr>\n",
       "    <tr>\n",
       "      <th>ОО</th>\n",
       "      <td>265</td>\n",
       "      <td>2143</td>\n",
       "      <td>2645</td>\n",
       "      <td>0.052444</td>\n",
       "      <td>0.424104</td>\n",
       "    </tr>\n",
       "    <tr>\n",
       "      <th>СН</th>\n",
       "      <td>246</td>\n",
       "      <td>1886</td>\n",
       "      <td>2383</td>\n",
       "      <td>0.054485</td>\n",
       "      <td>0.417719</td>\n",
       "    </tr>\n",
       "    <tr>\n",
       "      <th>ЦН</th>\n",
       "      <td>7</td>\n",
       "      <td>35</td>\n",
       "      <td>161</td>\n",
       "      <td>0.034483</td>\n",
       "      <td>0.172414</td>\n",
       "    </tr>\n",
       "  </tbody>\n",
       "</table>\n",
       "</div>"
      ],
      "text/plain": [
       "            -1     3     4    -1/sum     3/sum\n",
       "Основания                                     \n",
       "БН          43   258  1577  0.022897  0.137380\n",
       "ДН          53   389  1408  0.028649  0.210270\n",
       "ОО         265  2143  2645  0.052444  0.424104\n",
       "СН         246  1886  2383  0.054485  0.417719\n",
       "ЦН           7    35   161  0.034483  0.172414"
      ]
     },
     "execution_count": 43,
     "metadata": {},
     "output_type": "execute_result"
    }
   ],
   "source": [
    "df_osnov_status['-1/sum']=df_osnov_status['-1']/(df_osnov_status['-1']+df_osnov_status['3']+df_osnov_status['4'])\n",
    "df_osnov_status['3/sum']=df_osnov_status['3']/(df_osnov_status['-1']+df_osnov_status['3']+df_osnov_status['4'])\n",
    "df_osnov_status"
   ]
  },
  {
   "cell_type": "code",
   "execution_count": 44,
   "id": "a7816fe7",
   "metadata": {
    "scrolled": true
   },
   "outputs": [
    {
     "data": {
      "text/html": [
       "<div>\n",
       "<style scoped>\n",
       "    .dataframe tbody tr th:only-of-type {\n",
       "        vertical-align: middle;\n",
       "    }\n",
       "\n",
       "    .dataframe tbody tr th {\n",
       "        vertical-align: top;\n",
       "    }\n",
       "\n",
       "    .dataframe thead th {\n",
       "        text-align: right;\n",
       "    }\n",
       "</style>\n",
       "<table border=\"1\" class=\"dataframe\">\n",
       "  <thead>\n",
       "    <tr style=\"text-align: right;\">\n",
       "      <th>Статус</th>\n",
       "      <th>-1</th>\n",
       "      <th>3</th>\n",
       "      <th>4</th>\n",
       "    </tr>\n",
       "    <tr>\n",
       "      <th>Основания</th>\n",
       "      <th></th>\n",
       "      <th></th>\n",
       "      <th></th>\n",
       "    </tr>\n",
       "  </thead>\n",
       "  <tbody>\n",
       "    <tr>\n",
       "      <th>БН</th>\n",
       "      <td>43</td>\n",
       "      <td>258</td>\n",
       "      <td>1577</td>\n",
       "    </tr>\n",
       "    <tr>\n",
       "      <th>ДН</th>\n",
       "      <td>53</td>\n",
       "      <td>389</td>\n",
       "      <td>1408</td>\n",
       "    </tr>\n",
       "    <tr>\n",
       "      <th>ОО</th>\n",
       "      <td>265</td>\n",
       "      <td>2143</td>\n",
       "      <td>2645</td>\n",
       "    </tr>\n",
       "    <tr>\n",
       "      <th>СН</th>\n",
       "      <td>246</td>\n",
       "      <td>1886</td>\n",
       "      <td>2383</td>\n",
       "    </tr>\n",
       "    <tr>\n",
       "      <th>ЦН</th>\n",
       "      <td>7</td>\n",
       "      <td>35</td>\n",
       "      <td>161</td>\n",
       "    </tr>\n",
       "  </tbody>\n",
       "</table>\n",
       "</div>"
      ],
      "text/plain": [
       "Статус      -1     3     4\n",
       "Основания                 \n",
       "БН          43   258  1577\n",
       "ДН          53   389  1408\n",
       "ОО         265  2143  2645\n",
       "СН         246  1886  2383\n",
       "ЦН           7    35   161"
      ]
     },
     "execution_count": 44,
     "metadata": {},
     "output_type": "execute_result"
    }
   ],
   "source": [
    "pd.crosstab(df['Основания'], df['Статус'])"
   ]
  },
  {
   "cell_type": "markdown",
   "id": "3514f550",
   "metadata": {},
   "source": [
    "● СН - специальный набор  \n",
    "● ЦН - целевой набор  \n",
    "● БН - бюджетный набор  \n",
    "● ОО - общие основания  \n",
    "● ДН - дополнительный прием"
   ]
  },
  {
   "cell_type": "markdown",
   "id": "97d4908f",
   "metadata": {},
   "source": [
    "**Вывод:**\n",
    "- поступившие на общих основаниях или спецнаборе чаще уходят в академ или отчисляются\n",
    "- это важный фактор"
   ]
  },
  {
   "cell_type": "markdown",
   "id": "4e53c8b0",
   "metadata": {},
   "source": [
    "**Изучаемый язык**"
   ]
  },
  {
   "cell_type": "code",
   "execution_count": 45,
   "id": "44aa2ac6",
   "metadata": {
    "scrolled": true
   },
   "outputs": [
    {
     "data": {
      "text/plain": [
       "Английский язык                  10415\n",
       "Немецкий язык                     2215\n",
       "Французский язык                    54\n",
       "Англиийский                         10\n",
       "Иностранный язык (Английский)       10\n",
       "Русский язык                        10\n",
       "Иностранный язык (Немецкий)          4\n",
       "Name: Изучаемый_Язык, dtype: int64"
      ]
     },
     "execution_count": 45,
     "metadata": {},
     "output_type": "execute_result"
    }
   ],
   "source": [
    "df['Изучаемый_Язык'].value_counts()"
   ]
  },
  {
   "cell_type": "code",
   "execution_count": 46,
   "id": "4d4290e8",
   "metadata": {
    "scrolled": true
   },
   "outputs": [
    {
     "data": {
      "text/plain": [
       "Английский язык                  5202\n",
       "Немецкий язык                    1047\n",
       "Французский язык                   28\n",
       "Иностранный язык (Английский)       8\n",
       "Англиийский                         8\n",
       "Английский, немецкий языки          1\n",
       "Русский язык                        1\n",
       "Name: Изучаемый_Язык, dtype: int64"
      ]
     },
     "execution_count": 46,
     "metadata": {},
     "output_type": "execute_result"
    }
   ],
   "source": [
    "df_test['Изучаемый_Язык'].value_counts()"
   ]
  },
  {
   "cell_type": "markdown",
   "id": "cec381d9",
   "metadata": {},
   "source": [
    "**Дата рождения**"
   ]
  },
  {
   "cell_type": "code",
   "execution_count": 47,
   "id": "3dc124d9",
   "metadata": {
    "scrolled": true
   },
   "outputs": [],
   "source": [
    "df['Дата_Рождения'] = pd.to_datetime(df['Дата_Рождения'], format='%Y-%m-%d %H:%M:%S')"
   ]
  },
  {
   "cell_type": "code",
   "execution_count": 48,
   "id": "04eece12",
   "metadata": {},
   "outputs": [],
   "source": [
    "df['Возраст']=df['Год_Поступления'] - df['Дата_Рождения'].dt.year.astype('int')"
   ]
  },
  {
   "cell_type": "code",
   "execution_count": 49,
   "id": "b7e7c8fb",
   "metadata": {
    "scrolled": true
   },
   "outputs": [
    {
     "data": {
      "text/plain": [
       "count    13499.000000\n",
       "mean        20.969257\n",
       "std          5.379578\n",
       "min          1.000000\n",
       "25%         18.000000\n",
       "50%         19.000000\n",
       "75%         22.000000\n",
       "max         71.000000\n",
       "Name: Возраст, dtype: float64"
      ]
     },
     "execution_count": 49,
     "metadata": {},
     "output_type": "execute_result"
    }
   ],
   "source": [
    "df['Возраст'].describe()"
   ]
  },
  {
   "cell_type": "code",
   "execution_count": 50,
   "id": "7d88eb0a",
   "metadata": {
    "scrolled": false
   },
   "outputs": [
    {
     "data": {
      "text/html": [
       "<div>\n",
       "<style scoped>\n",
       "    .dataframe tbody tr th:only-of-type {\n",
       "        vertical-align: middle;\n",
       "    }\n",
       "\n",
       "    .dataframe tbody tr th {\n",
       "        vertical-align: top;\n",
       "    }\n",
       "\n",
       "    .dataframe thead th {\n",
       "        text-align: right;\n",
       "    }\n",
       "</style>\n",
       "<table border=\"1\" class=\"dataframe\">\n",
       "  <thead>\n",
       "    <tr style=\"text-align: right;\">\n",
       "      <th></th>\n",
       "      <th>ID</th>\n",
       "      <th>Код_группы</th>\n",
       "      <th>Год_Поступления</th>\n",
       "      <th>Пол</th>\n",
       "      <th>Основания</th>\n",
       "      <th>Изучаемый_Язык</th>\n",
       "      <th>Дата_Рождения</th>\n",
       "      <th>Уч_Заведение</th>\n",
       "      <th>Где_Находится_УЗ</th>\n",
       "      <th>Год_Окончания_УЗ</th>\n",
       "      <th>...</th>\n",
       "      <th>Наличие_Отца</th>\n",
       "      <th>Страна_Родители</th>\n",
       "      <th>Опекунство</th>\n",
       "      <th>Село</th>\n",
       "      <th>Иностранец</th>\n",
       "      <th>КодФакультета</th>\n",
       "      <th>СрБаллАттестата</th>\n",
       "      <th>Статус</th>\n",
       "      <th>kurs</th>\n",
       "      <th>Возраст</th>\n",
       "    </tr>\n",
       "  </thead>\n",
       "  <tbody>\n",
       "    <tr>\n",
       "      <th>1470</th>\n",
       "      <td>70617</td>\n",
       "      <td>1579</td>\n",
       "      <td>2015</td>\n",
       "      <td>0</td>\n",
       "      <td>ДН</td>\n",
       "      <td>Немецкий язык</td>\n",
       "      <td>2013-03-16</td>\n",
       "      <td>ФГБОУ ВПО \"Алтайский государственный техническ...</td>\n",
       "      <td>Алтайский край, Барнаул г</td>\n",
       "      <td>2015.0</td>\n",
       "      <td>...</td>\n",
       "      <td>0.0</td>\n",
       "      <td>Россия</td>\n",
       "      <td>0.0</td>\n",
       "      <td>1.0</td>\n",
       "      <td>0.0</td>\n",
       "      <td>25.0</td>\n",
       "      <td>57.0</td>\n",
       "      <td>3</td>\n",
       "      <td>zero</td>\n",
       "      <td>2</td>\n",
       "    </tr>\n",
       "    <tr>\n",
       "      <th>4870</th>\n",
       "      <td>49234</td>\n",
       "      <td>1186</td>\n",
       "      <td>2013</td>\n",
       "      <td>1</td>\n",
       "      <td>ОО</td>\n",
       "      <td>Английский язык</td>\n",
       "      <td>2012-06-26</td>\n",
       "      <td>МБОУ \"СОШ №7\" г. Рубцовск</td>\n",
       "      <td>г. Барнаул Алтайский край</td>\n",
       "      <td>2012.0</td>\n",
       "      <td>...</td>\n",
       "      <td>0.0</td>\n",
       "      <td>Россия</td>\n",
       "      <td>0.0</td>\n",
       "      <td>0.0</td>\n",
       "      <td>0.0</td>\n",
       "      <td>27.0</td>\n",
       "      <td>68.0</td>\n",
       "      <td>3</td>\n",
       "      <td>zero</td>\n",
       "      <td>1</td>\n",
       "    </tr>\n",
       "  </tbody>\n",
       "</table>\n",
       "<p>2 rows × 26 columns</p>\n",
       "</div>"
      ],
      "text/plain": [
       "         ID  Код_группы  Год_Поступления  Пол Основания   Изучаемый_Язык  \\\n",
       "1470  70617        1579             2015    0        ДН    Немецкий язык   \n",
       "4870  49234        1186             2013    1        ОО  Английский язык   \n",
       "\n",
       "     Дата_Рождения                                       Уч_Заведение  \\\n",
       "1470    2013-03-16  ФГБОУ ВПО \"Алтайский государственный техническ...   \n",
       "4870    2012-06-26                          МБОУ \"СОШ №7\" г. Рубцовск   \n",
       "\n",
       "               Где_Находится_УЗ  Год_Окончания_УЗ  ...  Наличие_Отца  \\\n",
       "1470  Алтайский край, Барнаул г            2015.0  ...           0.0   \n",
       "4870  г. Барнаул Алтайский край            2012.0  ...           0.0   \n",
       "\n",
       "     Страна_Родители Опекунство Село  Иностранец  КодФакультета  \\\n",
       "1470          Россия        0.0  1.0         0.0           25.0   \n",
       "4870          Россия        0.0  0.0         0.0           27.0   \n",
       "\n",
       "      СрБаллАттестата Статус  kurs  Возраст  \n",
       "1470             57.0      3  zero        2  \n",
       "4870             68.0      3  zero        1  \n",
       "\n",
       "[2 rows x 26 columns]"
      ]
     },
     "execution_count": 50,
     "metadata": {},
     "output_type": "execute_result"
    }
   ],
   "source": [
    "df[df['Возраст']<12]"
   ]
  },
  {
   "cell_type": "markdown",
   "id": "1f60e545",
   "metadata": {},
   "source": [
    "**Учебное заведение**"
   ]
  },
  {
   "cell_type": "code",
   "execution_count": 51,
   "id": "9f4c7ad4",
   "metadata": {
    "scrolled": true
   },
   "outputs": [
    {
     "data": {
      "text/plain": [
       "ФГБОУ ВО Алтайский государственный университет                                   1359\n",
       "ФГБОУ ВПО \"Алтайский государственный университет\"                                1024\n",
       "ФГБОУ ВПО Алтайский государственный университет                                   113\n",
       "ФГБОУ ВО Алтайский государственный технический университет им. И.И. Ползунова      88\n",
       "Алтайский государственный университет                                              79\n",
       "                                                                                 ... \n",
       "средняя школа \"Цзиньгань\" провинции Цзянси                                          1\n",
       "МКОУ \"Каяушенская СОШ\"                                                              1\n",
       "ФГБОУ ВПО \"Алтайский государственный аграрный  университет\"                         1\n",
       "КГБПОУ Славгородский педагогический колледж                                         1\n",
       "АГУ СПО                                                                             1\n",
       "Name: Уч_Заведение, Length: 3623, dtype: int64"
      ]
     },
     "execution_count": 51,
     "metadata": {},
     "output_type": "execute_result"
    }
   ],
   "source": [
    "df['Уч_Заведение'].value_counts()"
   ]
  },
  {
   "cell_type": "markdown",
   "id": "61c8b8ef",
   "metadata": {},
   "source": [
    "Заполним пропуски и разобьем на категории"
   ]
  },
  {
   "cell_type": "code",
   "execution_count": 52,
   "id": "fb48093d",
   "metadata": {},
   "outputs": [],
   "source": [
    "df['Уч_Заведение'] = df['Уч_Заведение'].fillna('н.д.')"
   ]
  },
  {
   "cell_type": "code",
   "execution_count": 53,
   "id": "79cd1d3b",
   "metadata": {},
   "outputs": [
    {
     "name": "stderr",
     "output_type": "stream",
     "text": [
      "C:\\anaconda3\\envs\\ds_practicum_env\\lib\\site-packages\\pandas\\core\\indexing.py:1637: SettingWithCopyWarning: \n",
      "A value is trying to be set on a copy of a slice from a DataFrame\n",
      "\n",
      "See the caveats in the documentation: https://pandas.pydata.org/pandas-docs/stable/user_guide/indexing.html#returning-a-view-versus-a-copy\n",
      "  self._setitem_single_block(indexer, value, name)\n"
     ]
    }
   ],
   "source": [
    "df['Уч_Заведение'].loc[df[df['Уч_Заведение'].str.contains('универ')]['Уч_Заведение'].index]='университет'"
   ]
  },
  {
   "cell_type": "code",
   "execution_count": 54,
   "id": "e3701be0",
   "metadata": {},
   "outputs": [],
   "source": [
    "df['Уч_Заведение'].loc[df[df['Уч_Заведение'].str.contains('школ')]['Уч_Заведение'].index]='школа'"
   ]
  },
  {
   "cell_type": "code",
   "execution_count": 55,
   "id": "b52f3d51",
   "metadata": {},
   "outputs": [],
   "source": [
    "df['Уч_Заведение'].loc[df[df['Уч_Заведение'].str.contains('СОШ')]['Уч_Заведение'].index]='школа'"
   ]
  },
  {
   "cell_type": "code",
   "execution_count": 56,
   "id": "8b19b7c8",
   "metadata": {},
   "outputs": [],
   "source": [
    "df['Уч_Заведение'].loc[df[df['Уч_Заведение'].str.contains('ОШ')]['Уч_Заведение'].index]='школа'"
   ]
  },
  {
   "cell_type": "code",
   "execution_count": 57,
   "id": "bf6d95e8",
   "metadata": {},
   "outputs": [],
   "source": [
    "df['Уч_Заведение'].loc[df[df['Уч_Заведение'].str.contains('имнази')]['Уч_Заведение'].index]='гимназия'"
   ]
  },
  {
   "cell_type": "code",
   "execution_count": 58,
   "id": "eecabeca",
   "metadata": {},
   "outputs": [],
   "source": [
    "df['Уч_Заведение'].loc[df[df['Уч_Заведение'].str.contains('ицей')]['Уч_Заведение'].index]='гимназия'"
   ]
  },
  {
   "cell_type": "code",
   "execution_count": 59,
   "id": "f6b88aec",
   "metadata": {},
   "outputs": [],
   "source": [
    "df['Уч_Заведение'].loc[df[df['Уч_Заведение'].str.contains('колледж')]['Уч_Заведение'].index]='колледж'"
   ]
  },
  {
   "cell_type": "code",
   "execution_count": 60,
   "id": "616ca803",
   "metadata": {},
   "outputs": [],
   "source": [
    "df['Уч_Заведение'].loc[df[df['Уч_Заведение'].str.contains('коллежд')]['Уч_Заведение'].index]='колледж'"
   ]
  },
  {
   "cell_type": "code",
   "execution_count": 61,
   "id": "1d5e68e2",
   "metadata": {},
   "outputs": [],
   "source": [
    "df['Уч_Заведение'].loc[df[df['Уч_Заведение'].str.contains('Колледж')]['Уч_Заведение'].index]='колледж'"
   ]
  },
  {
   "cell_type": "code",
   "execution_count": 62,
   "id": "0a45bd55",
   "metadata": {},
   "outputs": [],
   "source": [
    "df['Уч_Заведение'].loc[df[df['Уч_Заведение'].str.contains('чилище')]['Уч_Заведение'].index]='училище'"
   ]
  },
  {
   "cell_type": "code",
   "execution_count": 63,
   "id": "12ed032e",
   "metadata": {},
   "outputs": [],
   "source": [
    "df['Уч_Заведение'].loc[df[df['Уч_Заведение'].str.contains('нститут')]['Уч_Заведение'].index]='институт'"
   ]
  },
  {
   "cell_type": "code",
   "execution_count": 64,
   "id": "537585c0",
   "metadata": {},
   "outputs": [],
   "source": [
    "df['Уч_Заведение'].loc[df[df['Уч_Заведение'].str.contains('СШ')]['Уч_Заведение'].index]='школа'"
   ]
  },
  {
   "cell_type": "code",
   "execution_count": 65,
   "id": "e52fdce9",
   "metadata": {},
   "outputs": [],
   "source": [
    "df['Уч_Заведение'].loc[df[df['Уч_Заведение'].str.contains('демия')]['Уч_Заведение'].index]='академия'"
   ]
  },
  {
   "cell_type": "code",
   "execution_count": 66,
   "id": "824aeaa1",
   "metadata": {},
   "outputs": [],
   "source": [
    "df['Уч_Заведение'].loc[df[df['Уч_Заведение'].str.contains('ехникум')]['Уч_Заведение'].index]='техникум'"
   ]
  },
  {
   "cell_type": "code",
   "execution_count": 67,
   "id": "590a1d33",
   "metadata": {},
   "outputs": [],
   "source": [
    "df['Уч_Заведение'].loc[df[df['Уч_Заведение'].str.contains('СОУ')]['Уч_Заведение'].index]='школа'"
   ]
  },
  {
   "cell_type": "code",
   "execution_count": 68,
   "id": "67f60425",
   "metadata": {},
   "outputs": [],
   "source": [
    "df['Уч_Заведение'].loc[df[df['Уч_Заведение'].str.contains('Универ')]['Уч_Заведение'].index]='университет'"
   ]
  },
  {
   "cell_type": "code",
   "execution_count": 69,
   "id": "443ae829",
   "metadata": {},
   "outputs": [],
   "source": [
    "df['Уч_Заведение'].loc[df[df['Уч_Заведение'].str.contains('Школа')]['Уч_Заведение'].index]='школа'"
   ]
  },
  {
   "cell_type": "code",
   "execution_count": 70,
   "id": "e82e89e7",
   "metadata": {},
   "outputs": [],
   "source": [
    "df['Уч_Заведение'].loc[df[df['Уч_Заведение'].str.contains('ФГБОУ')]['Уч_Заведение'].index]='университет'"
   ]
  },
  {
   "cell_type": "code",
   "execution_count": 71,
   "id": "1a7bc28e",
   "metadata": {},
   "outputs": [],
   "source": [
    "df['Уч_Заведение'].loc[df[df['Уч_Заведение'].str.contains('фгбоу')]['Уч_Заведение'].index]='университет'"
   ]
  },
  {
   "cell_type": "code",
   "execution_count": 72,
   "id": "d441520e",
   "metadata": {},
   "outputs": [],
   "source": [
    "df['Уч_Заведение'].loc[df[df['Уч_Заведение'].str.contains('ФГОУ')]['Уч_Заведение'].index]='университет'"
   ]
  },
  {
   "cell_type": "code",
   "execution_count": 73,
   "id": "7b2b43e4",
   "metadata": {},
   "outputs": [],
   "source": [
    "df['Уч_Заведение'].loc[df[df['Уч_Заведение'].str.contains('ГОУ')]['Уч_Заведение'].index]='университет'"
   ]
  },
  {
   "cell_type": "code",
   "execution_count": 74,
   "id": "50650068",
   "metadata": {},
   "outputs": [],
   "source": [
    "df['Уч_Заведение'].loc[df[df['Уч_Заведение'].str.contains('фгоу')]['Уч_Заведение'].index]='университет'"
   ]
  },
  {
   "cell_type": "code",
   "execution_count": 75,
   "id": "2d2e35cc",
   "metadata": {},
   "outputs": [],
   "source": [
    "df['Уч_Заведение'].loc[df[df['Уч_Заведение'].str.contains('МОУ')]['Уч_Заведение'].index]='школа'"
   ]
  },
  {
   "cell_type": "code",
   "execution_count": 76,
   "id": "e142c96a",
   "metadata": {},
   "outputs": [],
   "source": [
    "df['Уч_Заведение'].loc[df[df['Уч_Заведение'].str.contains('моу')]['Уч_Заведение'].index]='школа'"
   ]
  },
  {
   "cell_type": "code",
   "execution_count": 77,
   "id": "5beea762",
   "metadata": {},
   "outputs": [],
   "source": [
    "df['Уч_Заведение'].loc[df[df['Уч_Заведение'].str.contains('СОМШ')]['Уч_Заведение'].index]='школа'"
   ]
  },
  {
   "cell_type": "code",
   "execution_count": 78,
   "id": "264b2f87",
   "metadata": {},
   "outputs": [],
   "source": [
    "df['Уч_Заведение'].loc[df[df['Уч_Заведение'].str.contains('СОПШ')]['Уч_Заведение'].index]='школа'"
   ]
  },
  {
   "cell_type": "code",
   "execution_count": 79,
   "id": "3e845961",
   "metadata": {},
   "outputs": [],
   "source": [
    "df['Уч_Заведение'].loc[df[df['Уч_Заведение'].str.contains('СПТУ')]['Уч_Заведение'].index]='училище'"
   ]
  },
  {
   "cell_type": "code",
   "execution_count": 80,
   "id": "9e5bba66",
   "metadata": {},
   "outputs": [],
   "source": [
    "df['Уч_Заведение'].loc[df[df['Уч_Заведение'].str.contains('ПТУ')]['Уч_Заведение'].index]='училище'"
   ]
  },
  {
   "cell_type": "code",
   "execution_count": 81,
   "id": "a53fea41",
   "metadata": {},
   "outputs": [],
   "source": [
    "df['Уч_Заведение'].loc[df[df['Уч_Заведение'].str.contains('ПУ')]['Уч_Заведение'].index]='училище'"
   ]
  },
  {
   "cell_type": "code",
   "execution_count": 82,
   "id": "799abf67",
   "metadata": {},
   "outputs": [],
   "source": [
    "df['Уч_Заведение'].loc[df[df['Уч_Заведение'].str.contains('АлтГУ')]['Уч_Заведение'].index]='университет'"
   ]
  },
  {
   "cell_type": "code",
   "execution_count": 83,
   "id": "42f5cc2b",
   "metadata": {},
   "outputs": [],
   "source": [
    "df['Уч_Заведение'].loc[df[df['Уч_Заведение'].str.contains('АГАУ')]['Уч_Заведение'].index]='университет'"
   ]
  },
  {
   "cell_type": "code",
   "execution_count": 84,
   "id": "c1a5800b",
   "metadata": {},
   "outputs": [],
   "source": [
    "df['Уч_Заведение'].loc[df[df['Уч_Заведение'].str.contains('ВЗФ')]['Уч_Заведение'].index]='институт'"
   ]
  },
  {
   "cell_type": "code",
   "execution_count": 85,
   "id": "c5c06d3a",
   "metadata": {},
   "outputs": [],
   "source": [
    "df['Уч_Заведение'].loc[df[df['Уч_Заведение'].str.contains('ФГКОУ')]['Уч_Заведение'].index]='институт'"
   ]
  },
  {
   "cell_type": "code",
   "execution_count": 86,
   "id": "8b3b2718",
   "metadata": {},
   "outputs": [],
   "source": [
    "df['Уч_Заведение'].loc[df[df['Уч_Заведение'].str.contains('Средн')]['Уч_Заведение'].index]='школа'"
   ]
  },
  {
   "cell_type": "code",
   "execution_count": 87,
   "id": "5d0f6a4d",
   "metadata": {},
   "outputs": [],
   "source": [
    "df['Уч_Заведение'].loc[df[df['Уч_Заведение'].str.contains('средн')]['Уч_Заведение'].index]='школа'"
   ]
  },
  {
   "cell_type": "code",
   "execution_count": 88,
   "id": "930ce7a8",
   "metadata": {},
   "outputs": [],
   "source": [
    "df['Уч_Заведение'].loc[df[df['Уч_Заведение'].str.contains('унив')]['Уч_Заведение'].index]='университет'"
   ]
  },
  {
   "cell_type": "code",
   "execution_count": 89,
   "id": "6411e257",
   "metadata": {},
   "outputs": [],
   "source": [
    "df['Уч_Заведение'].loc[df[df['Уч_Заведение'].str.contains('ГТУ')]['Уч_Заведение'].index]='университет'"
   ]
  },
  {
   "cell_type": "code",
   "execution_count": 90,
   "id": "dbdf67ae",
   "metadata": {},
   "outputs": [],
   "source": [
    "df['Уч_Заведение'].loc[df[df['Уч_Заведение'].str.contains('КГБОУ')]['Уч_Заведение'].index]='колледж'"
   ]
  },
  {
   "cell_type": "code",
   "execution_count": 91,
   "id": "187631e7",
   "metadata": {},
   "outputs": [],
   "source": [
    "df['Уч_Заведение'].loc[df[df['Уч_Заведение'].str.contains('КГБПОУ')]['Уч_Заведение'].index]='колледж'"
   ]
  },
  {
   "cell_type": "code",
   "execution_count": 92,
   "id": "d638a4a8",
   "metadata": {},
   "outputs": [],
   "source": [
    "df['Уч_Заведение'].loc[df[df['Уч_Заведение'].str.contains('консерватор')]['Уч_Заведение'].index]='университет'"
   ]
  },
  {
   "cell_type": "code",
   "execution_count": 93,
   "id": "f936d9d8",
   "metadata": {},
   "outputs": [],
   "source": [
    "df['Уч_Заведение'].loc[df[df['Уч_Заведение'].str.contains('колледж')]['Уч_Заведение'].index]='колледж'"
   ]
  },
  {
   "cell_type": "code",
   "execution_count": 94,
   "id": "d9e1165f",
   "metadata": {},
   "outputs": [],
   "source": [
    "df['Уч_Заведение'].loc[df[df['Уч_Заведение'].str.contains('кадет')]['Уч_Заведение'].index]='кадет_корпус'"
   ]
  },
  {
   "cell_type": "code",
   "execution_count": 95,
   "id": "eba6fd4d",
   "metadata": {},
   "outputs": [],
   "source": [
    "df['Уч_Заведение'].loc[df[df['Уч_Заведение'].str.contains('ГУ')]['Уч_Заведение'].index]='университет'"
   ]
  },
  {
   "cell_type": "code",
   "execution_count": 96,
   "id": "310aae36",
   "metadata": {
    "scrolled": true
   },
   "outputs": [
    {
     "data": {
      "text/plain": [
       "array(['школа', 'университет', 'н.д.', 'гимназия', 'академия', 'техникум',\n",
       "       'колледж', 'училище',\n",
       "       'Образовательное учреждение профсоюзов Академии труда и социальных отношений',\n",
       "       'институт',\n",
       "       'Образовательное учреждение профсоюзов ВПО \"Академии труда и социальных отношений\"',\n",
       "       'ПЛ-39 г. Яровое', 'МБОУ Гимназяи №123', 'НОУ СГА',\n",
       "       'Худжандский государственный уриверситет им. Академика Б. Гафурова',\n",
       "       'кадет_корпус', 'МБОУ Гиназия 5', 'Бийская СПН №3',\n",
       "       'НОУ ВПО \"АЭЮИ\"', 'МБОУ \"Центр образования\"',\n",
       "       'Автономная некоммерческая обр-ная орг-ция ВО \"ААЭиП\"',\n",
       "       'МБОУ \"Центр образования села Лаврентия\"', 'ООУ №57',\n",
       "       'ФГКВОУ ВПО \"ВА РХБЗ и  ИВ им. Маршала  СК Тимошенко\"', 'СХТ',\n",
       "       'Малышево-логовская', 'мбоу сош №10', 'мбоу сош №120',\n",
       "       'НОУ ВПО МАП при Правительстве Москвы', 'УВК ШГ-№9', 'АТИВТ',\n",
       "       'БЮИ МВД РФ', 'Общественно-гуманитарный уклон лицея Ага Хана',\n",
       "       'АНО ВПО ААЭП', 'гу сш №3 им. Ю.А. Гагарина', 'АКПЛ'], dtype=object)"
      ]
     },
     "execution_count": 96,
     "metadata": {},
     "output_type": "execute_result"
    }
   ],
   "source": [
    "df['Уч_Заведение'].unique()"
   ]
  },
  {
   "cell_type": "code",
   "execution_count": 97,
   "id": "86c004f3",
   "metadata": {},
   "outputs": [],
   "source": [
    "education = ['школа', 'н.д.', 'университет', 'гимназия', 'академия', 'техникум',\n",
    "       'колледж', 'училище','институт','кадет_корпус']"
   ]
  },
  {
   "cell_type": "code",
   "execution_count": 98,
   "id": "61774260",
   "metadata": {
    "scrolled": true
   },
   "outputs": [],
   "source": [
    "df['Уч_Заведение'].loc[df[~df['Уч_Заведение'].isin(education)]['Уч_Заведение'].index]='иное'"
   ]
  },
  {
   "cell_type": "markdown",
   "id": "30696cb8",
   "metadata": {},
   "source": [
    "Вот итог разбивки на категории:"
   ]
  },
  {
   "cell_type": "code",
   "execution_count": 99,
   "id": "74e5d9bc",
   "metadata": {
    "scrolled": true
   },
   "outputs": [
    {
     "data": {
      "text/plain": [
       "школа           4783\n",
       "университет     3956\n",
       "гимназия        2081\n",
       "н.д.            1177\n",
       "колледж          602\n",
       "академия         333\n",
       "техникум         207\n",
       "институт         188\n",
       "училище          134\n",
       "иное              27\n",
       "кадет_корпус      11\n",
       "Name: Уч_Заведение, dtype: int64"
      ]
     },
     "execution_count": 99,
     "metadata": {},
     "output_type": "execute_result"
    }
   ],
   "source": [
    "df['Уч_Заведение'].value_counts()"
   ]
  },
  {
   "cell_type": "markdown",
   "id": "83032871",
   "metadata": {},
   "source": [
    "Посмотрим связь между категорией учебного заведения и статусом"
   ]
  },
  {
   "cell_type": "code",
   "execution_count": 100,
   "id": "46dc1547",
   "metadata": {
    "scrolled": true
   },
   "outputs": [
    {
     "data": {
      "text/html": [
       "<div>\n",
       "<style scoped>\n",
       "    .dataframe tbody tr th:only-of-type {\n",
       "        vertical-align: middle;\n",
       "    }\n",
       "\n",
       "    .dataframe tbody tr th {\n",
       "        vertical-align: top;\n",
       "    }\n",
       "\n",
       "    .dataframe thead tr th {\n",
       "        text-align: left;\n",
       "    }\n",
       "\n",
       "    .dataframe thead tr:last-of-type th {\n",
       "        text-align: right;\n",
       "    }\n",
       "</style>\n",
       "<table border=\"1\" class=\"dataframe\">\n",
       "  <thead>\n",
       "    <tr>\n",
       "      <th></th>\n",
       "      <th colspan=\"3\" halign=\"left\">count</th>\n",
       "    </tr>\n",
       "    <tr>\n",
       "      <th>Статус</th>\n",
       "      <th>-1</th>\n",
       "      <th>3</th>\n",
       "      <th>4</th>\n",
       "    </tr>\n",
       "    <tr>\n",
       "      <th>Уч_Заведение</th>\n",
       "      <th></th>\n",
       "      <th></th>\n",
       "      <th></th>\n",
       "    </tr>\n",
       "  </thead>\n",
       "  <tbody>\n",
       "    <tr>\n",
       "      <th>академия</th>\n",
       "      <td>20.0</td>\n",
       "      <td>110.0</td>\n",
       "      <td>203.0</td>\n",
       "    </tr>\n",
       "    <tr>\n",
       "      <th>гимназия</th>\n",
       "      <td>113.0</td>\n",
       "      <td>711.0</td>\n",
       "      <td>1257.0</td>\n",
       "    </tr>\n",
       "    <tr>\n",
       "      <th>иное</th>\n",
       "      <td>NaN</td>\n",
       "      <td>13.0</td>\n",
       "      <td>14.0</td>\n",
       "    </tr>\n",
       "    <tr>\n",
       "      <th>институт</th>\n",
       "      <td>4.0</td>\n",
       "      <td>65.0</td>\n",
       "      <td>119.0</td>\n",
       "    </tr>\n",
       "    <tr>\n",
       "      <th>кадет_корпус</th>\n",
       "      <td>1.0</td>\n",
       "      <td>5.0</td>\n",
       "      <td>5.0</td>\n",
       "    </tr>\n",
       "    <tr>\n",
       "      <th>колледж</th>\n",
       "      <td>23.0</td>\n",
       "      <td>327.0</td>\n",
       "      <td>252.0</td>\n",
       "    </tr>\n",
       "    <tr>\n",
       "      <th>н.д.</th>\n",
       "      <td>2.0</td>\n",
       "      <td>257.0</td>\n",
       "      <td>918.0</td>\n",
       "    </tr>\n",
       "    <tr>\n",
       "      <th>техникум</th>\n",
       "      <td>8.0</td>\n",
       "      <td>94.0</td>\n",
       "      <td>105.0</td>\n",
       "    </tr>\n",
       "    <tr>\n",
       "      <th>университет</th>\n",
       "      <td>186.0</td>\n",
       "      <td>1305.0</td>\n",
       "      <td>2465.0</td>\n",
       "    </tr>\n",
       "    <tr>\n",
       "      <th>училище</th>\n",
       "      <td>4.0</td>\n",
       "      <td>80.0</td>\n",
       "      <td>50.0</td>\n",
       "    </tr>\n",
       "    <tr>\n",
       "      <th>школа</th>\n",
       "      <td>253.0</td>\n",
       "      <td>1744.0</td>\n",
       "      <td>2786.0</td>\n",
       "    </tr>\n",
       "  </tbody>\n",
       "</table>\n",
       "</div>"
      ],
      "text/plain": [
       "              count                \n",
       "Статус           -1       3       4\n",
       "Уч_Заведение                       \n",
       "академия       20.0   110.0   203.0\n",
       "гимназия      113.0   711.0  1257.0\n",
       "иное            NaN    13.0    14.0\n",
       "институт        4.0    65.0   119.0\n",
       "кадет_корпус    1.0     5.0     5.0\n",
       "колледж        23.0   327.0   252.0\n",
       "н.д.            2.0   257.0   918.0\n",
       "техникум        8.0    94.0   105.0\n",
       "университет   186.0  1305.0  2465.0\n",
       "училище         4.0    80.0    50.0\n",
       "школа         253.0  1744.0  2786.0"
      ]
     },
     "execution_count": 100,
     "metadata": {},
     "output_type": "execute_result"
    }
   ],
   "source": [
    "df_educ_status = df.pivot_table(index = 'Уч_Заведение', columns = 'Статус', values = 'ID', aggfunc = ['count'])\n",
    "df_educ_status"
   ]
  },
  {
   "cell_type": "code",
   "execution_count": 101,
   "id": "d0def6ac",
   "metadata": {},
   "outputs": [],
   "source": [
    "df_educ_status.columns = ['-1', '3', '4']"
   ]
  },
  {
   "cell_type": "code",
   "execution_count": 102,
   "id": "438c7b5c",
   "metadata": {},
   "outputs": [],
   "source": [
    "df_educ_status = df_educ_status.fillna(0)"
   ]
  },
  {
   "cell_type": "code",
   "execution_count": 103,
   "id": "7cec7219",
   "metadata": {
    "scrolled": false
   },
   "outputs": [
    {
     "data": {
      "text/html": [
       "<div>\n",
       "<style scoped>\n",
       "    .dataframe tbody tr th:only-of-type {\n",
       "        vertical-align: middle;\n",
       "    }\n",
       "\n",
       "    .dataframe tbody tr th {\n",
       "        vertical-align: top;\n",
       "    }\n",
       "\n",
       "    .dataframe thead th {\n",
       "        text-align: right;\n",
       "    }\n",
       "</style>\n",
       "<table border=\"1\" class=\"dataframe\">\n",
       "  <thead>\n",
       "    <tr style=\"text-align: right;\">\n",
       "      <th></th>\n",
       "      <th>-1</th>\n",
       "      <th>3</th>\n",
       "      <th>4</th>\n",
       "      <th>-1/sum</th>\n",
       "      <th>3/sum</th>\n",
       "    </tr>\n",
       "    <tr>\n",
       "      <th>Уч_Заведение</th>\n",
       "      <th></th>\n",
       "      <th></th>\n",
       "      <th></th>\n",
       "      <th></th>\n",
       "      <th></th>\n",
       "    </tr>\n",
       "  </thead>\n",
       "  <tbody>\n",
       "    <tr>\n",
       "      <th>академия</th>\n",
       "      <td>20.0</td>\n",
       "      <td>110.0</td>\n",
       "      <td>203.0</td>\n",
       "      <td>0.060060</td>\n",
       "      <td>0.330330</td>\n",
       "    </tr>\n",
       "    <tr>\n",
       "      <th>гимназия</th>\n",
       "      <td>113.0</td>\n",
       "      <td>711.0</td>\n",
       "      <td>1257.0</td>\n",
       "      <td>0.054301</td>\n",
       "      <td>0.341663</td>\n",
       "    </tr>\n",
       "    <tr>\n",
       "      <th>иное</th>\n",
       "      <td>0.0</td>\n",
       "      <td>13.0</td>\n",
       "      <td>14.0</td>\n",
       "      <td>0.000000</td>\n",
       "      <td>0.481481</td>\n",
       "    </tr>\n",
       "    <tr>\n",
       "      <th>институт</th>\n",
       "      <td>4.0</td>\n",
       "      <td>65.0</td>\n",
       "      <td>119.0</td>\n",
       "      <td>0.021277</td>\n",
       "      <td>0.345745</td>\n",
       "    </tr>\n",
       "    <tr>\n",
       "      <th>кадет_корпус</th>\n",
       "      <td>1.0</td>\n",
       "      <td>5.0</td>\n",
       "      <td>5.0</td>\n",
       "      <td>0.090909</td>\n",
       "      <td>0.454545</td>\n",
       "    </tr>\n",
       "    <tr>\n",
       "      <th>колледж</th>\n",
       "      <td>23.0</td>\n",
       "      <td>327.0</td>\n",
       "      <td>252.0</td>\n",
       "      <td>0.038206</td>\n",
       "      <td>0.543189</td>\n",
       "    </tr>\n",
       "    <tr>\n",
       "      <th>н.д.</th>\n",
       "      <td>2.0</td>\n",
       "      <td>257.0</td>\n",
       "      <td>918.0</td>\n",
       "      <td>0.001699</td>\n",
       "      <td>0.218352</td>\n",
       "    </tr>\n",
       "    <tr>\n",
       "      <th>техникум</th>\n",
       "      <td>8.0</td>\n",
       "      <td>94.0</td>\n",
       "      <td>105.0</td>\n",
       "      <td>0.038647</td>\n",
       "      <td>0.454106</td>\n",
       "    </tr>\n",
       "    <tr>\n",
       "      <th>университет</th>\n",
       "      <td>186.0</td>\n",
       "      <td>1305.0</td>\n",
       "      <td>2465.0</td>\n",
       "      <td>0.047017</td>\n",
       "      <td>0.329879</td>\n",
       "    </tr>\n",
       "    <tr>\n",
       "      <th>училище</th>\n",
       "      <td>4.0</td>\n",
       "      <td>80.0</td>\n",
       "      <td>50.0</td>\n",
       "      <td>0.029851</td>\n",
       "      <td>0.597015</td>\n",
       "    </tr>\n",
       "    <tr>\n",
       "      <th>школа</th>\n",
       "      <td>253.0</td>\n",
       "      <td>1744.0</td>\n",
       "      <td>2786.0</td>\n",
       "      <td>0.052896</td>\n",
       "      <td>0.364625</td>\n",
       "    </tr>\n",
       "  </tbody>\n",
       "</table>\n",
       "</div>"
      ],
      "text/plain": [
       "                 -1       3       4    -1/sum     3/sum\n",
       "Уч_Заведение                                           \n",
       "академия       20.0   110.0   203.0  0.060060  0.330330\n",
       "гимназия      113.0   711.0  1257.0  0.054301  0.341663\n",
       "иное            0.0    13.0    14.0  0.000000  0.481481\n",
       "институт        4.0    65.0   119.0  0.021277  0.345745\n",
       "кадет_корпус    1.0     5.0     5.0  0.090909  0.454545\n",
       "колледж        23.0   327.0   252.0  0.038206  0.543189\n",
       "н.д.            2.0   257.0   918.0  0.001699  0.218352\n",
       "техникум        8.0    94.0   105.0  0.038647  0.454106\n",
       "университет   186.0  1305.0  2465.0  0.047017  0.329879\n",
       "училище         4.0    80.0    50.0  0.029851  0.597015\n",
       "школа         253.0  1744.0  2786.0  0.052896  0.364625"
      ]
     },
     "execution_count": 103,
     "metadata": {},
     "output_type": "execute_result"
    }
   ],
   "source": [
    "df_educ_status['-1/sum']=df_educ_status['-1']/(df_educ_status['-1']+df_educ_status['3']+df_educ_status['4'])\n",
    "df_educ_status['3/sum']=df_educ_status['3']/(df_educ_status['-1']+df_educ_status['3']+df_educ_status['4'])\n",
    "df_educ_status"
   ]
  },
  {
   "cell_type": "code",
   "execution_count": 104,
   "id": "39ee08d5",
   "metadata": {
    "scrolled": false
   },
   "outputs": [
    {
     "data": {
      "text/html": [
       "<div>\n",
       "<style scoped>\n",
       "    .dataframe tbody tr th:only-of-type {\n",
       "        vertical-align: middle;\n",
       "    }\n",
       "\n",
       "    .dataframe tbody tr th {\n",
       "        vertical-align: top;\n",
       "    }\n",
       "\n",
       "    .dataframe thead th {\n",
       "        text-align: right;\n",
       "    }\n",
       "</style>\n",
       "<table border=\"1\" class=\"dataframe\">\n",
       "  <thead>\n",
       "    <tr style=\"text-align: right;\">\n",
       "      <th>Уч_Заведение</th>\n",
       "      <th>академия</th>\n",
       "      <th>гимназия</th>\n",
       "      <th>иное</th>\n",
       "      <th>институт</th>\n",
       "      <th>кадет_корпус</th>\n",
       "      <th>колледж</th>\n",
       "      <th>н.д.</th>\n",
       "      <th>техникум</th>\n",
       "      <th>университет</th>\n",
       "      <th>училище</th>\n",
       "      <th>школа</th>\n",
       "    </tr>\n",
       "    <tr>\n",
       "      <th>Иностранец</th>\n",
       "      <th></th>\n",
       "      <th></th>\n",
       "      <th></th>\n",
       "      <th></th>\n",
       "      <th></th>\n",
       "      <th></th>\n",
       "      <th></th>\n",
       "      <th></th>\n",
       "      <th></th>\n",
       "      <th></th>\n",
       "      <th></th>\n",
       "    </tr>\n",
       "  </thead>\n",
       "  <tbody>\n",
       "    <tr>\n",
       "      <th>0.0</th>\n",
       "      <td>303</td>\n",
       "      <td>1965</td>\n",
       "      <td>20</td>\n",
       "      <td>149</td>\n",
       "      <td>11</td>\n",
       "      <td>526</td>\n",
       "      <td>1112</td>\n",
       "      <td>198</td>\n",
       "      <td>3624</td>\n",
       "      <td>125</td>\n",
       "      <td>4228</td>\n",
       "    </tr>\n",
       "    <tr>\n",
       "      <th>1.0</th>\n",
       "      <td>12</td>\n",
       "      <td>95</td>\n",
       "      <td>4</td>\n",
       "      <td>22</td>\n",
       "      <td>0</td>\n",
       "      <td>50</td>\n",
       "      <td>24</td>\n",
       "      <td>5</td>\n",
       "      <td>212</td>\n",
       "      <td>4</td>\n",
       "      <td>508</td>\n",
       "    </tr>\n",
       "  </tbody>\n",
       "</table>\n",
       "</div>"
      ],
      "text/plain": [
       "Уч_Заведение  академия  гимназия  иное  институт  кадет_корпус  колледж  н.д.  \\\n",
       "Иностранец                                                                      \n",
       "0.0                303      1965    20       149            11      526  1112   \n",
       "1.0                 12        95     4        22             0       50    24   \n",
       "\n",
       "Уч_Заведение  техникум  университет  училище  школа  \n",
       "Иностранец                                           \n",
       "0.0                198         3624      125   4228  \n",
       "1.0                  5          212        4    508  "
      ]
     },
     "execution_count": 104,
     "metadata": {},
     "output_type": "execute_result"
    }
   ],
   "source": [
    "pd.crosstab(df['Иностранец'], df['Уч_Заведение'])"
   ]
  },
  {
   "cell_type": "markdown",
   "id": "ce545e0f",
   "metadata": {},
   "source": [
    "**Вывод**:\n",
    "- больше всего отчисляются закончившие колледж/техникум/училище/иное/кадетский_корпус\n",
    "- меньше всего уходят в академ или отчисляются из группы \"н.д.\""
   ]
  },
  {
   "cell_type": "markdown",
   "id": "bb1de2f7",
   "metadata": {},
   "source": [
    "**Пособие**"
   ]
  },
  {
   "cell_type": "code",
   "execution_count": 105,
   "id": "14bef092",
   "metadata": {
    "scrolled": true
   },
   "outputs": [
    {
     "data": {
      "text/plain": [
       "0.0    12499\n",
       "Name: Пособие, dtype: int64"
      ]
     },
     "execution_count": 105,
     "metadata": {},
     "output_type": "execute_result"
    }
   ],
   "source": [
    "df['Пособие'].value_counts()"
   ]
  },
  {
   "cell_type": "code",
   "execution_count": 106,
   "id": "a1f0a328",
   "metadata": {},
   "outputs": [],
   "source": [
    "df['Пособие'] = df['Пособие'].fillna('1')"
   ]
  },
  {
   "cell_type": "code",
   "execution_count": 107,
   "id": "8a1bbdfa",
   "metadata": {
    "scrolled": true
   },
   "outputs": [
    {
     "data": {
      "text/html": [
       "<div>\n",
       "<style scoped>\n",
       "    .dataframe tbody tr th:only-of-type {\n",
       "        vertical-align: middle;\n",
       "    }\n",
       "\n",
       "    .dataframe tbody tr th {\n",
       "        vertical-align: top;\n",
       "    }\n",
       "\n",
       "    .dataframe thead th {\n",
       "        text-align: right;\n",
       "    }\n",
       "</style>\n",
       "<table border=\"1\" class=\"dataframe\">\n",
       "  <thead>\n",
       "    <tr style=\"text-align: right;\">\n",
       "      <th>Статус</th>\n",
       "      <th>-1</th>\n",
       "      <th>3</th>\n",
       "      <th>4</th>\n",
       "    </tr>\n",
       "    <tr>\n",
       "      <th>Пособие</th>\n",
       "      <th></th>\n",
       "      <th></th>\n",
       "      <th></th>\n",
       "    </tr>\n",
       "  </thead>\n",
       "  <tbody>\n",
       "    <tr>\n",
       "      <th>0.0</th>\n",
       "      <td>600</td>\n",
       "      <td>4047</td>\n",
       "      <td>7852</td>\n",
       "    </tr>\n",
       "    <tr>\n",
       "      <th>1</th>\n",
       "      <td>14</td>\n",
       "      <td>664</td>\n",
       "      <td>322</td>\n",
       "    </tr>\n",
       "  </tbody>\n",
       "</table>\n",
       "</div>"
      ],
      "text/plain": [
       "Статус    -1     3     4\n",
       "Пособие                 \n",
       "0.0      600  4047  7852\n",
       "1         14   664   322"
      ]
     },
     "execution_count": 107,
     "metadata": {},
     "output_type": "execute_result"
    }
   ],
   "source": [
    "pd.crosstab(df['Пособие'], df['Статус'])"
   ]
  },
  {
   "cell_type": "markdown",
   "id": "2c21069b",
   "metadata": {},
   "source": [
    "**Вывод**:\n",
    "- в пропусках по пособиям доля отчисленных выше."
   ]
  },
  {
   "cell_type": "markdown",
   "id": "0ecb81d7",
   "metadata": {},
   "source": [
    "**Общежитие**"
   ]
  },
  {
   "cell_type": "code",
   "execution_count": 108,
   "id": "9d040c5e",
   "metadata": {
    "scrolled": true
   },
   "outputs": [
    {
     "data": {
      "text/plain": [
       "0.0    10455\n",
       "1.0     2966\n",
       "Name: Общежитие, dtype: int64"
      ]
     },
     "execution_count": 108,
     "metadata": {},
     "output_type": "execute_result"
    }
   ],
   "source": [
    "df['Общежитие'].value_counts()"
   ]
  },
  {
   "cell_type": "code",
   "execution_count": 109,
   "id": "7d155fe5",
   "metadata": {},
   "outputs": [],
   "source": [
    "df['Общежитие'] = df['Общежитие'].fillna('2')"
   ]
  },
  {
   "cell_type": "code",
   "execution_count": 110,
   "id": "cf6cd86b",
   "metadata": {
    "scrolled": true
   },
   "outputs": [
    {
     "data": {
      "text/html": [
       "<div>\n",
       "<style scoped>\n",
       "    .dataframe tbody tr th:only-of-type {\n",
       "        vertical-align: middle;\n",
       "    }\n",
       "\n",
       "    .dataframe tbody tr th {\n",
       "        vertical-align: top;\n",
       "    }\n",
       "\n",
       "    .dataframe thead th {\n",
       "        text-align: right;\n",
       "    }\n",
       "</style>\n",
       "<table border=\"1\" class=\"dataframe\">\n",
       "  <thead>\n",
       "    <tr style=\"text-align: right;\">\n",
       "      <th>Статус</th>\n",
       "      <th>-1</th>\n",
       "      <th>3</th>\n",
       "      <th>4</th>\n",
       "    </tr>\n",
       "    <tr>\n",
       "      <th>Общежитие</th>\n",
       "      <th></th>\n",
       "      <th></th>\n",
       "      <th></th>\n",
       "    </tr>\n",
       "  </thead>\n",
       "  <tbody>\n",
       "    <tr>\n",
       "      <th>0.0</th>\n",
       "      <td>452</td>\n",
       "      <td>3553</td>\n",
       "      <td>6450</td>\n",
       "    </tr>\n",
       "    <tr>\n",
       "      <th>1.0</th>\n",
       "      <td>162</td>\n",
       "      <td>1112</td>\n",
       "      <td>1692</td>\n",
       "    </tr>\n",
       "    <tr>\n",
       "      <th>2</th>\n",
       "      <td>0</td>\n",
       "      <td>46</td>\n",
       "      <td>32</td>\n",
       "    </tr>\n",
       "  </tbody>\n",
       "</table>\n",
       "</div>"
      ],
      "text/plain": [
       "Статус      -1     3     4\n",
       "Общежитие                 \n",
       "0.0        452  3553  6450\n",
       "1.0        162  1112  1692\n",
       "2            0    46    32"
      ]
     },
     "execution_count": 110,
     "metadata": {},
     "output_type": "execute_result"
    }
   ],
   "source": [
    "pd.crosstab(df['Общежитие'], df['Статус'])"
   ]
  },
  {
   "cell_type": "code",
   "execution_count": 111,
   "id": "9c804df2",
   "metadata": {
    "scrolled": true
   },
   "outputs": [
    {
     "data": {
      "text/html": [
       "<div>\n",
       "<style scoped>\n",
       "    .dataframe tbody tr th:only-of-type {\n",
       "        vertical-align: middle;\n",
       "    }\n",
       "\n",
       "    .dataframe tbody tr th {\n",
       "        vertical-align: top;\n",
       "    }\n",
       "\n",
       "    .dataframe thead tr th {\n",
       "        text-align: left;\n",
       "    }\n",
       "\n",
       "    .dataframe thead tr:last-of-type th {\n",
       "        text-align: right;\n",
       "    }\n",
       "</style>\n",
       "<table border=\"1\" class=\"dataframe\">\n",
       "  <thead>\n",
       "    <tr>\n",
       "      <th></th>\n",
       "      <th colspan=\"3\" halign=\"left\">count</th>\n",
       "    </tr>\n",
       "    <tr>\n",
       "      <th>Статус</th>\n",
       "      <th>-1</th>\n",
       "      <th>3</th>\n",
       "      <th>4</th>\n",
       "    </tr>\n",
       "    <tr>\n",
       "      <th>Общежитие</th>\n",
       "      <th></th>\n",
       "      <th></th>\n",
       "      <th></th>\n",
       "    </tr>\n",
       "  </thead>\n",
       "  <tbody>\n",
       "    <tr>\n",
       "      <th>0.0</th>\n",
       "      <td>452.0</td>\n",
       "      <td>3553.0</td>\n",
       "      <td>6450.0</td>\n",
       "    </tr>\n",
       "    <tr>\n",
       "      <th>1.0</th>\n",
       "      <td>162.0</td>\n",
       "      <td>1112.0</td>\n",
       "      <td>1692.0</td>\n",
       "    </tr>\n",
       "    <tr>\n",
       "      <th>2</th>\n",
       "      <td>NaN</td>\n",
       "      <td>46.0</td>\n",
       "      <td>32.0</td>\n",
       "    </tr>\n",
       "  </tbody>\n",
       "</table>\n",
       "</div>"
      ],
      "text/plain": [
       "           count                \n",
       "Статус        -1       3       4\n",
       "Общежитие                       \n",
       "0.0        452.0  3553.0  6450.0\n",
       "1.0        162.0  1112.0  1692.0\n",
       "2            NaN    46.0    32.0"
      ]
     },
     "execution_count": 111,
     "metadata": {},
     "output_type": "execute_result"
    }
   ],
   "source": [
    "df_home_status = df.pivot_table(index = 'Общежитие', columns = 'Статус', values = 'ID', aggfunc = ['count'])\n",
    "df_home_status"
   ]
  },
  {
   "cell_type": "code",
   "execution_count": 112,
   "id": "4836a6f6",
   "metadata": {},
   "outputs": [],
   "source": [
    "df_home_status.columns = ['-1', '3', '4']"
   ]
  },
  {
   "cell_type": "code",
   "execution_count": 113,
   "id": "95ecba9b",
   "metadata": {},
   "outputs": [],
   "source": [
    "df_home_status = df_home_status.fillna(0)"
   ]
  },
  {
   "cell_type": "code",
   "execution_count": 114,
   "id": "c4f50c85",
   "metadata": {
    "scrolled": true
   },
   "outputs": [
    {
     "data": {
      "text/html": [
       "<div>\n",
       "<style scoped>\n",
       "    .dataframe tbody tr th:only-of-type {\n",
       "        vertical-align: middle;\n",
       "    }\n",
       "\n",
       "    .dataframe tbody tr th {\n",
       "        vertical-align: top;\n",
       "    }\n",
       "\n",
       "    .dataframe thead th {\n",
       "        text-align: right;\n",
       "    }\n",
       "</style>\n",
       "<table border=\"1\" class=\"dataframe\">\n",
       "  <thead>\n",
       "    <tr style=\"text-align: right;\">\n",
       "      <th></th>\n",
       "      <th>-1</th>\n",
       "      <th>3</th>\n",
       "      <th>4</th>\n",
       "      <th>-1/sum</th>\n",
       "      <th>3/sum</th>\n",
       "    </tr>\n",
       "    <tr>\n",
       "      <th>Общежитие</th>\n",
       "      <th></th>\n",
       "      <th></th>\n",
       "      <th></th>\n",
       "      <th></th>\n",
       "      <th></th>\n",
       "    </tr>\n",
       "  </thead>\n",
       "  <tbody>\n",
       "    <tr>\n",
       "      <th>0.0</th>\n",
       "      <td>452.0</td>\n",
       "      <td>3553.0</td>\n",
       "      <td>6450.0</td>\n",
       "      <td>0.043233</td>\n",
       "      <td>0.339837</td>\n",
       "    </tr>\n",
       "    <tr>\n",
       "      <th>1.0</th>\n",
       "      <td>162.0</td>\n",
       "      <td>1112.0</td>\n",
       "      <td>1692.0</td>\n",
       "      <td>0.054619</td>\n",
       "      <td>0.374916</td>\n",
       "    </tr>\n",
       "    <tr>\n",
       "      <th>2</th>\n",
       "      <td>0.0</td>\n",
       "      <td>46.0</td>\n",
       "      <td>32.0</td>\n",
       "      <td>0.000000</td>\n",
       "      <td>0.589744</td>\n",
       "    </tr>\n",
       "  </tbody>\n",
       "</table>\n",
       "</div>"
      ],
      "text/plain": [
       "              -1       3       4    -1/sum     3/sum\n",
       "Общежитие                                           \n",
       "0.0        452.0  3553.0  6450.0  0.043233  0.339837\n",
       "1.0        162.0  1112.0  1692.0  0.054619  0.374916\n",
       "2            0.0    46.0    32.0  0.000000  0.589744"
      ]
     },
     "execution_count": 114,
     "metadata": {},
     "output_type": "execute_result"
    }
   ],
   "source": [
    "df_home_status['-1/sum']=df_home_status['-1']/(df_home_status['-1']+df_home_status['3']+df_home_status['4'])\n",
    "df_home_status['3/sum']=df_home_status['3']/(df_home_status['-1']+df_home_status['3']+df_home_status['4'])\n",
    "df_home_status"
   ]
  },
  {
   "cell_type": "markdown",
   "id": "e7485b8a",
   "metadata": {},
   "source": [
    "**Вывод**:\n",
    "- наличие общежития не влияет на статус"
   ]
  },
  {
   "cell_type": "markdown",
   "id": "283602a1",
   "metadata": {},
   "source": [
    "**Наличие родителей**"
   ]
  },
  {
   "cell_type": "code",
   "execution_count": 115,
   "id": "243eec3e",
   "metadata": {
    "scrolled": true
   },
   "outputs": [
    {
     "data": {
      "text/plain": [
       "1    6863\n",
       "0    6636\n",
       "Name: Наличие_Матери, dtype: int64"
      ]
     },
     "execution_count": 115,
     "metadata": {},
     "output_type": "execute_result"
    }
   ],
   "source": [
    "df['Наличие_Матери'].value_counts()"
   ]
  },
  {
   "cell_type": "code",
   "execution_count": 116,
   "id": "25a70fdd",
   "metadata": {
    "scrolled": true
   },
   "outputs": [
    {
     "data": {
      "text/html": [
       "<div>\n",
       "<style scoped>\n",
       "    .dataframe tbody tr th:only-of-type {\n",
       "        vertical-align: middle;\n",
       "    }\n",
       "\n",
       "    .dataframe tbody tr th {\n",
       "        vertical-align: top;\n",
       "    }\n",
       "\n",
       "    .dataframe thead tr th {\n",
       "        text-align: left;\n",
       "    }\n",
       "\n",
       "    .dataframe thead tr:last-of-type th {\n",
       "        text-align: right;\n",
       "    }\n",
       "</style>\n",
       "<table border=\"1\" class=\"dataframe\">\n",
       "  <thead>\n",
       "    <tr>\n",
       "      <th></th>\n",
       "      <th colspan=\"3\" halign=\"left\">count</th>\n",
       "    </tr>\n",
       "    <tr>\n",
       "      <th>Статус</th>\n",
       "      <th>-1</th>\n",
       "      <th>3</th>\n",
       "      <th>4</th>\n",
       "    </tr>\n",
       "    <tr>\n",
       "      <th>Наличие_Матери</th>\n",
       "      <th></th>\n",
       "      <th></th>\n",
       "      <th></th>\n",
       "    </tr>\n",
       "  </thead>\n",
       "  <tbody>\n",
       "    <tr>\n",
       "      <th>0</th>\n",
       "      <td>238</td>\n",
       "      <td>2410</td>\n",
       "      <td>3988</td>\n",
       "    </tr>\n",
       "    <tr>\n",
       "      <th>1</th>\n",
       "      <td>376</td>\n",
       "      <td>2301</td>\n",
       "      <td>4186</td>\n",
       "    </tr>\n",
       "  </tbody>\n",
       "</table>\n",
       "</div>"
      ],
      "text/plain": [
       "               count            \n",
       "Статус            -1     3     4\n",
       "Наличие_Матери                  \n",
       "0                238  2410  3988\n",
       "1                376  2301  4186"
      ]
     },
     "execution_count": 116,
     "metadata": {},
     "output_type": "execute_result"
    }
   ],
   "source": [
    "df_mother_status = df.pivot_table(index = 'Наличие_Матери', columns = 'Статус', values = 'ID', aggfunc = ['count'])\n",
    "df_mother_status"
   ]
  },
  {
   "cell_type": "code",
   "execution_count": 117,
   "id": "e6fbb5dc",
   "metadata": {},
   "outputs": [],
   "source": [
    "df_mother_status.columns = ['-1', '3', '4']"
   ]
  },
  {
   "cell_type": "code",
   "execution_count": 118,
   "id": "8a368ce7",
   "metadata": {
    "scrolled": false
   },
   "outputs": [
    {
     "data": {
      "text/html": [
       "<div>\n",
       "<style scoped>\n",
       "    .dataframe tbody tr th:only-of-type {\n",
       "        vertical-align: middle;\n",
       "    }\n",
       "\n",
       "    .dataframe tbody tr th {\n",
       "        vertical-align: top;\n",
       "    }\n",
       "\n",
       "    .dataframe thead th {\n",
       "        text-align: right;\n",
       "    }\n",
       "</style>\n",
       "<table border=\"1\" class=\"dataframe\">\n",
       "  <thead>\n",
       "    <tr style=\"text-align: right;\">\n",
       "      <th></th>\n",
       "      <th>-1</th>\n",
       "      <th>3</th>\n",
       "      <th>4</th>\n",
       "      <th>-1/sum</th>\n",
       "      <th>3/sum</th>\n",
       "    </tr>\n",
       "    <tr>\n",
       "      <th>Наличие_Матери</th>\n",
       "      <th></th>\n",
       "      <th></th>\n",
       "      <th></th>\n",
       "      <th></th>\n",
       "      <th></th>\n",
       "    </tr>\n",
       "  </thead>\n",
       "  <tbody>\n",
       "    <tr>\n",
       "      <th>0</th>\n",
       "      <td>238</td>\n",
       "      <td>2410</td>\n",
       "      <td>3988</td>\n",
       "      <td>0.035865</td>\n",
       "      <td>0.363171</td>\n",
       "    </tr>\n",
       "    <tr>\n",
       "      <th>1</th>\n",
       "      <td>376</td>\n",
       "      <td>2301</td>\n",
       "      <td>4186</td>\n",
       "      <td>0.054787</td>\n",
       "      <td>0.335276</td>\n",
       "    </tr>\n",
       "  </tbody>\n",
       "</table>\n",
       "</div>"
      ],
      "text/plain": [
       "                 -1     3     4    -1/sum     3/sum\n",
       "Наличие_Матери                                     \n",
       "0               238  2410  3988  0.035865  0.363171\n",
       "1               376  2301  4186  0.054787  0.335276"
      ]
     },
     "execution_count": 118,
     "metadata": {},
     "output_type": "execute_result"
    }
   ],
   "source": [
    "df_mother_status['-1/sum']=df_mother_status['-1']/(df_mother_status['-1']+df_mother_status['3']+df_mother_status['4'])\n",
    "df_mother_status['3/sum']=df_mother_status['3']/(df_mother_status['-1']+df_mother_status['3']+df_mother_status['4'])\n",
    "df_mother_status"
   ]
  },
  {
   "cell_type": "code",
   "execution_count": 119,
   "id": "9e4b714d",
   "metadata": {
    "scrolled": true
   },
   "outputs": [
    {
     "data": {
      "text/plain": [
       "1.0    6837\n",
       "0.0    6662\n",
       "Name: Наличие_Отца, dtype: int64"
      ]
     },
     "execution_count": 119,
     "metadata": {},
     "output_type": "execute_result"
    }
   ],
   "source": [
    "df['Наличие_Отца'].value_counts()"
   ]
  },
  {
   "cell_type": "code",
   "execution_count": 120,
   "id": "b1601569",
   "metadata": {
    "scrolled": true
   },
   "outputs": [
    {
     "data": {
      "text/html": [
       "<div>\n",
       "<style scoped>\n",
       "    .dataframe tbody tr th:only-of-type {\n",
       "        vertical-align: middle;\n",
       "    }\n",
       "\n",
       "    .dataframe tbody tr th {\n",
       "        vertical-align: top;\n",
       "    }\n",
       "\n",
       "    .dataframe thead tr th {\n",
       "        text-align: left;\n",
       "    }\n",
       "\n",
       "    .dataframe thead tr:last-of-type th {\n",
       "        text-align: right;\n",
       "    }\n",
       "</style>\n",
       "<table border=\"1\" class=\"dataframe\">\n",
       "  <thead>\n",
       "    <tr>\n",
       "      <th></th>\n",
       "      <th colspan=\"3\" halign=\"left\">count</th>\n",
       "    </tr>\n",
       "    <tr>\n",
       "      <th>Статус</th>\n",
       "      <th>-1</th>\n",
       "      <th>3</th>\n",
       "      <th>4</th>\n",
       "    </tr>\n",
       "    <tr>\n",
       "      <th>Наличие_Отца</th>\n",
       "      <th></th>\n",
       "      <th></th>\n",
       "      <th></th>\n",
       "    </tr>\n",
       "  </thead>\n",
       "  <tbody>\n",
       "    <tr>\n",
       "      <th>0.0</th>\n",
       "      <td>238</td>\n",
       "      <td>2413</td>\n",
       "      <td>4011</td>\n",
       "    </tr>\n",
       "    <tr>\n",
       "      <th>1.0</th>\n",
       "      <td>376</td>\n",
       "      <td>2298</td>\n",
       "      <td>4163</td>\n",
       "    </tr>\n",
       "  </tbody>\n",
       "</table>\n",
       "</div>"
      ],
      "text/plain": [
       "             count            \n",
       "Статус          -1     3     4\n",
       "Наличие_Отца                  \n",
       "0.0            238  2413  4011\n",
       "1.0            376  2298  4163"
      ]
     },
     "execution_count": 120,
     "metadata": {},
     "output_type": "execute_result"
    }
   ],
   "source": [
    "df_father_status = df.pivot_table(index = 'Наличие_Отца', columns = 'Статус', values = 'ID', aggfunc = ['count'])\n",
    "df_father_status"
   ]
  },
  {
   "cell_type": "code",
   "execution_count": 121,
   "id": "2c92add5",
   "metadata": {},
   "outputs": [],
   "source": [
    "df_father_status.columns = ['-1', '3', '4']"
   ]
  },
  {
   "cell_type": "code",
   "execution_count": 122,
   "id": "091d2e54",
   "metadata": {
    "scrolled": false
   },
   "outputs": [
    {
     "data": {
      "text/html": [
       "<div>\n",
       "<style scoped>\n",
       "    .dataframe tbody tr th:only-of-type {\n",
       "        vertical-align: middle;\n",
       "    }\n",
       "\n",
       "    .dataframe tbody tr th {\n",
       "        vertical-align: top;\n",
       "    }\n",
       "\n",
       "    .dataframe thead th {\n",
       "        text-align: right;\n",
       "    }\n",
       "</style>\n",
       "<table border=\"1\" class=\"dataframe\">\n",
       "  <thead>\n",
       "    <tr style=\"text-align: right;\">\n",
       "      <th></th>\n",
       "      <th>-1</th>\n",
       "      <th>3</th>\n",
       "      <th>4</th>\n",
       "      <th>-1/sum</th>\n",
       "      <th>3/sum</th>\n",
       "    </tr>\n",
       "    <tr>\n",
       "      <th>Наличие_Отца</th>\n",
       "      <th></th>\n",
       "      <th></th>\n",
       "      <th></th>\n",
       "      <th></th>\n",
       "      <th></th>\n",
       "    </tr>\n",
       "  </thead>\n",
       "  <tbody>\n",
       "    <tr>\n",
       "      <th>0.0</th>\n",
       "      <td>238</td>\n",
       "      <td>2413</td>\n",
       "      <td>4011</td>\n",
       "      <td>0.035725</td>\n",
       "      <td>0.362204</td>\n",
       "    </tr>\n",
       "    <tr>\n",
       "      <th>1.0</th>\n",
       "      <td>376</td>\n",
       "      <td>2298</td>\n",
       "      <td>4163</td>\n",
       "      <td>0.054995</td>\n",
       "      <td>0.336112</td>\n",
       "    </tr>\n",
       "  </tbody>\n",
       "</table>\n",
       "</div>"
      ],
      "text/plain": [
       "               -1     3     4    -1/sum     3/sum\n",
       "Наличие_Отца                                     \n",
       "0.0           238  2413  4011  0.035725  0.362204\n",
       "1.0           376  2298  4163  0.054995  0.336112"
      ]
     },
     "execution_count": 122,
     "metadata": {},
     "output_type": "execute_result"
    }
   ],
   "source": [
    "df_father_status['-1/sum']=df_father_status['-1']/(df_father_status['-1']+df_father_status['3']+df_father_status['4'])\n",
    "df_father_status['3/sum']=df_father_status['3']/(df_father_status['-1']+df_father_status['3']+df_father_status['4'])\n",
    "df_father_status"
   ]
  },
  {
   "cell_type": "code",
   "execution_count": 123,
   "id": "a1357ac3",
   "metadata": {
    "scrolled": true
   },
   "outputs": [
    {
     "data": {
      "text/plain": [
       "0.0    13493\n",
       "1.0        6\n",
       "Name: Опекунство, dtype: int64"
      ]
     },
     "execution_count": 123,
     "metadata": {},
     "output_type": "execute_result"
    }
   ],
   "source": [
    "df['Опекунство'].value_counts()"
   ]
  },
  {
   "cell_type": "code",
   "execution_count": 124,
   "id": "7da07d39",
   "metadata": {
    "scrolled": true
   },
   "outputs": [
    {
     "data": {
      "text/html": [
       "<div>\n",
       "<style scoped>\n",
       "    .dataframe tbody tr th:only-of-type {\n",
       "        vertical-align: middle;\n",
       "    }\n",
       "\n",
       "    .dataframe tbody tr th {\n",
       "        vertical-align: top;\n",
       "    }\n",
       "\n",
       "    .dataframe thead tr th {\n",
       "        text-align: left;\n",
       "    }\n",
       "\n",
       "    .dataframe thead tr:last-of-type th {\n",
       "        text-align: right;\n",
       "    }\n",
       "</style>\n",
       "<table border=\"1\" class=\"dataframe\">\n",
       "  <thead>\n",
       "    <tr>\n",
       "      <th></th>\n",
       "      <th colspan=\"3\" halign=\"left\">count</th>\n",
       "    </tr>\n",
       "    <tr>\n",
       "      <th>Статус</th>\n",
       "      <th>-1</th>\n",
       "      <th>3</th>\n",
       "      <th>4</th>\n",
       "    </tr>\n",
       "    <tr>\n",
       "      <th>Опекунство</th>\n",
       "      <th></th>\n",
       "      <th></th>\n",
       "      <th></th>\n",
       "    </tr>\n",
       "  </thead>\n",
       "  <tbody>\n",
       "    <tr>\n",
       "      <th>0.0</th>\n",
       "      <td>612</td>\n",
       "      <td>4708</td>\n",
       "      <td>8173</td>\n",
       "    </tr>\n",
       "    <tr>\n",
       "      <th>1.0</th>\n",
       "      <td>2</td>\n",
       "      <td>3</td>\n",
       "      <td>1</td>\n",
       "    </tr>\n",
       "  </tbody>\n",
       "</table>\n",
       "</div>"
      ],
      "text/plain": [
       "           count            \n",
       "Статус        -1     3     4\n",
       "Опекунство                  \n",
       "0.0          612  4708  8173\n",
       "1.0            2     3     1"
      ]
     },
     "execution_count": 124,
     "metadata": {},
     "output_type": "execute_result"
    }
   ],
   "source": [
    "df_guard_status = df.pivot_table(index = 'Опекунство', columns = 'Статус', values = 'ID', aggfunc = ['count'])\n",
    "df_guard_status"
   ]
  },
  {
   "cell_type": "code",
   "execution_count": 125,
   "id": "96a75183",
   "metadata": {},
   "outputs": [],
   "source": [
    "df_guard_status.columns = ['-1', '3', '4']"
   ]
  },
  {
   "cell_type": "code",
   "execution_count": 126,
   "id": "5d3e34a7",
   "metadata": {
    "scrolled": true
   },
   "outputs": [
    {
     "data": {
      "text/html": [
       "<div>\n",
       "<style scoped>\n",
       "    .dataframe tbody tr th:only-of-type {\n",
       "        vertical-align: middle;\n",
       "    }\n",
       "\n",
       "    .dataframe tbody tr th {\n",
       "        vertical-align: top;\n",
       "    }\n",
       "\n",
       "    .dataframe thead th {\n",
       "        text-align: right;\n",
       "    }\n",
       "</style>\n",
       "<table border=\"1\" class=\"dataframe\">\n",
       "  <thead>\n",
       "    <tr style=\"text-align: right;\">\n",
       "      <th></th>\n",
       "      <th>-1</th>\n",
       "      <th>3</th>\n",
       "      <th>4</th>\n",
       "      <th>-1/sum</th>\n",
       "      <th>3/sum</th>\n",
       "    </tr>\n",
       "    <tr>\n",
       "      <th>Опекунство</th>\n",
       "      <th></th>\n",
       "      <th></th>\n",
       "      <th></th>\n",
       "      <th></th>\n",
       "      <th></th>\n",
       "    </tr>\n",
       "  </thead>\n",
       "  <tbody>\n",
       "    <tr>\n",
       "      <th>0.0</th>\n",
       "      <td>612</td>\n",
       "      <td>4708</td>\n",
       "      <td>8173</td>\n",
       "      <td>0.045357</td>\n",
       "      <td>0.348922</td>\n",
       "    </tr>\n",
       "    <tr>\n",
       "      <th>1.0</th>\n",
       "      <td>2</td>\n",
       "      <td>3</td>\n",
       "      <td>1</td>\n",
       "      <td>0.333333</td>\n",
       "      <td>0.500000</td>\n",
       "    </tr>\n",
       "  </tbody>\n",
       "</table>\n",
       "</div>"
      ],
      "text/plain": [
       "             -1     3     4    -1/sum     3/sum\n",
       "Опекунство                                     \n",
       "0.0         612  4708  8173  0.045357  0.348922\n",
       "1.0           2     3     1  0.333333  0.500000"
      ]
     },
     "execution_count": 126,
     "metadata": {},
     "output_type": "execute_result"
    }
   ],
   "source": [
    "df_guard_status['-1/sum']=df_guard_status['-1']/(df_guard_status['-1']+df_guard_status['3']+df_guard_status['4'])\n",
    "df_guard_status['3/sum']=df_guard_status['3']/(df_guard_status['-1']+df_guard_status['3']+df_guard_status['4'])\n",
    "df_guard_status"
   ]
  },
  {
   "cell_type": "markdown",
   "id": "8d5b8ae5",
   "metadata": {},
   "source": [
    "**Выводы**:\n",
    "- ученики с опекой гораздо чаще отчисляются и уходят в академ\n",
    "- непонятно, почему достаточно много учников без матери или отца (может фиксировали не всех). В целом ученики без матери или отца чуть чаще (на 3%) отчисляются, но чуть реже уходят в академ."
   ]
  },
  {
   "cell_type": "markdown",
   "id": "33b4e5ab",
   "metadata": {},
   "source": [
    "**Страна_Родители**"
   ]
  },
  {
   "cell_type": "code",
   "execution_count": 127,
   "id": "a772c923",
   "metadata": {},
   "outputs": [],
   "source": [
    "df['Страна_Родители'] = df['Страна_Родители'].fillna('н.д.')"
   ]
  },
  {
   "cell_type": "code",
   "execution_count": 128,
   "id": "537283e7",
   "metadata": {
    "scrolled": true
   },
   "outputs": [
    {
     "data": {
      "text/plain": [
       "Россия                    12182\n",
       "Казахстан                   514\n",
       "н.д.                        430\n",
       "Китай                       147\n",
       "Таджикистан                 133\n",
       "Кыргызстан                   37\n",
       "Киргизия                     31\n",
       "Туркменистан                  5\n",
       "Армения                       3\n",
       "Узбекистан                    3\n",
       "Кыргызская Республика         3\n",
       "Монголия                      2\n",
       "Республика Таджикистан        2\n",
       "Нигерия                       1\n",
       "КНР                           1\n",
       "Республика Молдова            1\n",
       "Республика Казахстан          1\n",
       "Украина                       1\n",
       "Германия                      1\n",
       "казахстан                     1\n",
       "Name: Страна_Родители, dtype: int64"
      ]
     },
     "execution_count": 128,
     "metadata": {},
     "output_type": "execute_result"
    }
   ],
   "source": [
    "df['Страна_Родители'].value_counts()"
   ]
  },
  {
   "cell_type": "markdown",
   "id": "62c2aa36",
   "metadata": {},
   "source": [
    "Обработаем повторы и неправильные наименования"
   ]
  },
  {
   "cell_type": "code",
   "execution_count": 129,
   "id": "5332aa71",
   "metadata": {
    "scrolled": true
   },
   "outputs": [
    {
     "name": "stderr",
     "output_type": "stream",
     "text": [
      "C:\\anaconda3\\envs\\ds_practicum_env\\lib\\site-packages\\pandas\\core\\indexing.py:1637: SettingWithCopyWarning: \n",
      "A value is trying to be set on a copy of a slice from a DataFrame\n",
      "\n",
      "See the caveats in the documentation: https://pandas.pydata.org/pandas-docs/stable/user_guide/indexing.html#returning-a-view-versus-a-copy\n",
      "  self._setitem_single_block(indexer, value, name)\n"
     ]
    }
   ],
   "source": [
    "df['Страна_Родители'].loc[df[df['Страна_Родители'].str.contains('азахстан')]['Страна_Родители'].index]='Казахстан'"
   ]
  },
  {
   "cell_type": "code",
   "execution_count": 130,
   "id": "297be6a1",
   "metadata": {},
   "outputs": [],
   "source": [
    "df['Страна_Родители'].loc[df[df['Страна_Родители'].str.contains('аджикист')]['Страна_Родители'].index]='Таджикистан'"
   ]
  },
  {
   "cell_type": "code",
   "execution_count": 131,
   "id": "7e79018e",
   "metadata": {},
   "outputs": [],
   "source": [
    "df['Страна_Родители'].loc[df[df['Страна_Родители'].str.contains('Киргиз')]['Страна_Родители'].index]='Кыргызстан'"
   ]
  },
  {
   "cell_type": "code",
   "execution_count": 132,
   "id": "ca8627d2",
   "metadata": {},
   "outputs": [],
   "source": [
    "df['Страна_Родители'].loc[df[df['Страна_Родители'].str.contains('Кыргыз')]['Страна_Родители'].index]='Кыргызстан'"
   ]
  },
  {
   "cell_type": "code",
   "execution_count": 133,
   "id": "b53d7198",
   "metadata": {},
   "outputs": [],
   "source": [
    "df['Страна_Родители'].loc[df[df['Страна_Родители'].str.contains('КНР')]['Страна_Родители'].index]='Китай'"
   ]
  },
  {
   "cell_type": "code",
   "execution_count": 134,
   "id": "7a056862",
   "metadata": {
    "scrolled": false
   },
   "outputs": [
    {
     "data": {
      "text/plain": [
       "Россия                12182\n",
       "Казахстан               516\n",
       "н.д.                    430\n",
       "Китай                   148\n",
       "Таджикистан             135\n",
       "Кыргызстан               71\n",
       "Туркменистан              5\n",
       "Армения                   3\n",
       "Узбекистан                3\n",
       "Монголия                  2\n",
       "Нигерия                   1\n",
       "Германия                  1\n",
       "Украина                   1\n",
       "Республика Молдова        1\n",
       "Name: Страна_Родители, dtype: int64"
      ]
     },
     "execution_count": 134,
     "metadata": {},
     "output_type": "execute_result"
    }
   ],
   "source": [
    "df['Страна_Родители'].value_counts()"
   ]
  },
  {
   "cell_type": "code",
   "execution_count": 135,
   "id": "f51d5f4f",
   "metadata": {
    "scrolled": true
   },
   "outputs": [
    {
     "data": {
      "text/html": [
       "<div>\n",
       "<style scoped>\n",
       "    .dataframe tbody tr th:only-of-type {\n",
       "        vertical-align: middle;\n",
       "    }\n",
       "\n",
       "    .dataframe tbody tr th {\n",
       "        vertical-align: top;\n",
       "    }\n",
       "\n",
       "    .dataframe thead tr th {\n",
       "        text-align: left;\n",
       "    }\n",
       "\n",
       "    .dataframe thead tr:last-of-type th {\n",
       "        text-align: right;\n",
       "    }\n",
       "</style>\n",
       "<table border=\"1\" class=\"dataframe\">\n",
       "  <thead>\n",
       "    <tr>\n",
       "      <th></th>\n",
       "      <th colspan=\"3\" halign=\"left\">count</th>\n",
       "    </tr>\n",
       "    <tr>\n",
       "      <th>Статус</th>\n",
       "      <th>-1</th>\n",
       "      <th>3</th>\n",
       "      <th>4</th>\n",
       "    </tr>\n",
       "    <tr>\n",
       "      <th>Страна_Родители</th>\n",
       "      <th></th>\n",
       "      <th></th>\n",
       "      <th></th>\n",
       "    </tr>\n",
       "  </thead>\n",
       "  <tbody>\n",
       "    <tr>\n",
       "      <th>Армения</th>\n",
       "      <td>NaN</td>\n",
       "      <td>2.0</td>\n",
       "      <td>1.0</td>\n",
       "    </tr>\n",
       "    <tr>\n",
       "      <th>Германия</th>\n",
       "      <td>NaN</td>\n",
       "      <td>NaN</td>\n",
       "      <td>1.0</td>\n",
       "    </tr>\n",
       "    <tr>\n",
       "      <th>Казахстан</th>\n",
       "      <td>39.0</td>\n",
       "      <td>238.0</td>\n",
       "      <td>239.0</td>\n",
       "    </tr>\n",
       "    <tr>\n",
       "      <th>Китай</th>\n",
       "      <td>NaN</td>\n",
       "      <td>86.0</td>\n",
       "      <td>62.0</td>\n",
       "    </tr>\n",
       "    <tr>\n",
       "      <th>Кыргызстан</th>\n",
       "      <td>7.0</td>\n",
       "      <td>32.0</td>\n",
       "      <td>32.0</td>\n",
       "    </tr>\n",
       "    <tr>\n",
       "      <th>Монголия</th>\n",
       "      <td>NaN</td>\n",
       "      <td>2.0</td>\n",
       "      <td>NaN</td>\n",
       "    </tr>\n",
       "    <tr>\n",
       "      <th>Нигерия</th>\n",
       "      <td>NaN</td>\n",
       "      <td>1.0</td>\n",
       "      <td>NaN</td>\n",
       "    </tr>\n",
       "    <tr>\n",
       "      <th>Республика Молдова</th>\n",
       "      <td>NaN</td>\n",
       "      <td>1.0</td>\n",
       "      <td>NaN</td>\n",
       "    </tr>\n",
       "    <tr>\n",
       "      <th>Россия</th>\n",
       "      <td>534.0</td>\n",
       "      <td>4111.0</td>\n",
       "      <td>7537.0</td>\n",
       "    </tr>\n",
       "    <tr>\n",
       "      <th>Таджикистан</th>\n",
       "      <td>17.0</td>\n",
       "      <td>57.0</td>\n",
       "      <td>61.0</td>\n",
       "    </tr>\n",
       "    <tr>\n",
       "      <th>Туркменистан</th>\n",
       "      <td>NaN</td>\n",
       "      <td>2.0</td>\n",
       "      <td>3.0</td>\n",
       "    </tr>\n",
       "    <tr>\n",
       "      <th>Узбекистан</th>\n",
       "      <td>NaN</td>\n",
       "      <td>NaN</td>\n",
       "      <td>3.0</td>\n",
       "    </tr>\n",
       "    <tr>\n",
       "      <th>Украина</th>\n",
       "      <td>NaN</td>\n",
       "      <td>1.0</td>\n",
       "      <td>NaN</td>\n",
       "    </tr>\n",
       "    <tr>\n",
       "      <th>н.д.</th>\n",
       "      <td>17.0</td>\n",
       "      <td>178.0</td>\n",
       "      <td>235.0</td>\n",
       "    </tr>\n",
       "  </tbody>\n",
       "</table>\n",
       "</div>"
      ],
      "text/plain": [
       "                    count                \n",
       "Статус                 -1       3       4\n",
       "Страна_Родители                          \n",
       "Армения               NaN     2.0     1.0\n",
       "Германия              NaN     NaN     1.0\n",
       "Казахстан            39.0   238.0   239.0\n",
       "Китай                 NaN    86.0    62.0\n",
       "Кыргызстан            7.0    32.0    32.0\n",
       "Монголия              NaN     2.0     NaN\n",
       "Нигерия               NaN     1.0     NaN\n",
       "Республика Молдова    NaN     1.0     NaN\n",
       "Россия              534.0  4111.0  7537.0\n",
       "Таджикистан          17.0    57.0    61.0\n",
       "Туркменистан          NaN     2.0     3.0\n",
       "Узбекистан            NaN     NaN     3.0\n",
       "Украина               NaN     1.0     NaN\n",
       "н.д.                 17.0   178.0   235.0"
      ]
     },
     "execution_count": 135,
     "metadata": {},
     "output_type": "execute_result"
    }
   ],
   "source": [
    "df_country_status = df.pivot_table(index = 'Страна_Родители', columns = 'Статус', values = 'ID', aggfunc = ['count'])\n",
    "df_country_status"
   ]
  },
  {
   "cell_type": "code",
   "execution_count": 136,
   "id": "b809f3ca",
   "metadata": {},
   "outputs": [],
   "source": [
    "df_country_status.columns = ['-1', '3', '4']"
   ]
  },
  {
   "cell_type": "code",
   "execution_count": 137,
   "id": "9c6b06ad",
   "metadata": {},
   "outputs": [],
   "source": [
    "df_country_status = df_country_status.fillna(0)"
   ]
  },
  {
   "cell_type": "code",
   "execution_count": 138,
   "id": "e2386848",
   "metadata": {
    "scrolled": false
   },
   "outputs": [
    {
     "data": {
      "text/html": [
       "<div>\n",
       "<style scoped>\n",
       "    .dataframe tbody tr th:only-of-type {\n",
       "        vertical-align: middle;\n",
       "    }\n",
       "\n",
       "    .dataframe tbody tr th {\n",
       "        vertical-align: top;\n",
       "    }\n",
       "\n",
       "    .dataframe thead th {\n",
       "        text-align: right;\n",
       "    }\n",
       "</style>\n",
       "<table border=\"1\" class=\"dataframe\">\n",
       "  <thead>\n",
       "    <tr style=\"text-align: right;\">\n",
       "      <th></th>\n",
       "      <th>-1</th>\n",
       "      <th>3</th>\n",
       "      <th>4</th>\n",
       "      <th>-1/sum</th>\n",
       "      <th>3/sum</th>\n",
       "    </tr>\n",
       "    <tr>\n",
       "      <th>Страна_Родители</th>\n",
       "      <th></th>\n",
       "      <th></th>\n",
       "      <th></th>\n",
       "      <th></th>\n",
       "      <th></th>\n",
       "    </tr>\n",
       "  </thead>\n",
       "  <tbody>\n",
       "    <tr>\n",
       "      <th>Армения</th>\n",
       "      <td>0.0</td>\n",
       "      <td>2.0</td>\n",
       "      <td>1.0</td>\n",
       "      <td>0.000000</td>\n",
       "      <td>0.666667</td>\n",
       "    </tr>\n",
       "    <tr>\n",
       "      <th>Германия</th>\n",
       "      <td>0.0</td>\n",
       "      <td>0.0</td>\n",
       "      <td>1.0</td>\n",
       "      <td>0.000000</td>\n",
       "      <td>0.000000</td>\n",
       "    </tr>\n",
       "    <tr>\n",
       "      <th>Казахстан</th>\n",
       "      <td>39.0</td>\n",
       "      <td>238.0</td>\n",
       "      <td>239.0</td>\n",
       "      <td>0.075581</td>\n",
       "      <td>0.461240</td>\n",
       "    </tr>\n",
       "    <tr>\n",
       "      <th>Китай</th>\n",
       "      <td>0.0</td>\n",
       "      <td>86.0</td>\n",
       "      <td>62.0</td>\n",
       "      <td>0.000000</td>\n",
       "      <td>0.581081</td>\n",
       "    </tr>\n",
       "    <tr>\n",
       "      <th>Кыргызстан</th>\n",
       "      <td>7.0</td>\n",
       "      <td>32.0</td>\n",
       "      <td>32.0</td>\n",
       "      <td>0.098592</td>\n",
       "      <td>0.450704</td>\n",
       "    </tr>\n",
       "    <tr>\n",
       "      <th>Монголия</th>\n",
       "      <td>0.0</td>\n",
       "      <td>2.0</td>\n",
       "      <td>0.0</td>\n",
       "      <td>0.000000</td>\n",
       "      <td>1.000000</td>\n",
       "    </tr>\n",
       "    <tr>\n",
       "      <th>Нигерия</th>\n",
       "      <td>0.0</td>\n",
       "      <td>1.0</td>\n",
       "      <td>0.0</td>\n",
       "      <td>0.000000</td>\n",
       "      <td>1.000000</td>\n",
       "    </tr>\n",
       "    <tr>\n",
       "      <th>Республика Молдова</th>\n",
       "      <td>0.0</td>\n",
       "      <td>1.0</td>\n",
       "      <td>0.0</td>\n",
       "      <td>0.000000</td>\n",
       "      <td>1.000000</td>\n",
       "    </tr>\n",
       "    <tr>\n",
       "      <th>Россия</th>\n",
       "      <td>534.0</td>\n",
       "      <td>4111.0</td>\n",
       "      <td>7537.0</td>\n",
       "      <td>0.043835</td>\n",
       "      <td>0.337465</td>\n",
       "    </tr>\n",
       "    <tr>\n",
       "      <th>Таджикистан</th>\n",
       "      <td>17.0</td>\n",
       "      <td>57.0</td>\n",
       "      <td>61.0</td>\n",
       "      <td>0.125926</td>\n",
       "      <td>0.422222</td>\n",
       "    </tr>\n",
       "    <tr>\n",
       "      <th>Туркменистан</th>\n",
       "      <td>0.0</td>\n",
       "      <td>2.0</td>\n",
       "      <td>3.0</td>\n",
       "      <td>0.000000</td>\n",
       "      <td>0.400000</td>\n",
       "    </tr>\n",
       "    <tr>\n",
       "      <th>Узбекистан</th>\n",
       "      <td>0.0</td>\n",
       "      <td>0.0</td>\n",
       "      <td>3.0</td>\n",
       "      <td>0.000000</td>\n",
       "      <td>0.000000</td>\n",
       "    </tr>\n",
       "    <tr>\n",
       "      <th>Украина</th>\n",
       "      <td>0.0</td>\n",
       "      <td>1.0</td>\n",
       "      <td>0.0</td>\n",
       "      <td>0.000000</td>\n",
       "      <td>1.000000</td>\n",
       "    </tr>\n",
       "    <tr>\n",
       "      <th>н.д.</th>\n",
       "      <td>17.0</td>\n",
       "      <td>178.0</td>\n",
       "      <td>235.0</td>\n",
       "      <td>0.039535</td>\n",
       "      <td>0.413953</td>\n",
       "    </tr>\n",
       "  </tbody>\n",
       "</table>\n",
       "</div>"
      ],
      "text/plain": [
       "                       -1       3       4    -1/sum     3/sum\n",
       "Страна_Родители                                              \n",
       "Армения               0.0     2.0     1.0  0.000000  0.666667\n",
       "Германия              0.0     0.0     1.0  0.000000  0.000000\n",
       "Казахстан            39.0   238.0   239.0  0.075581  0.461240\n",
       "Китай                 0.0    86.0    62.0  0.000000  0.581081\n",
       "Кыргызстан            7.0    32.0    32.0  0.098592  0.450704\n",
       "Монголия              0.0     2.0     0.0  0.000000  1.000000\n",
       "Нигерия               0.0     1.0     0.0  0.000000  1.000000\n",
       "Республика Молдова    0.0     1.0     0.0  0.000000  1.000000\n",
       "Россия              534.0  4111.0  7537.0  0.043835  0.337465\n",
       "Таджикистан          17.0    57.0    61.0  0.125926  0.422222\n",
       "Туркменистан          0.0     2.0     3.0  0.000000  0.400000\n",
       "Узбекистан            0.0     0.0     3.0  0.000000  0.000000\n",
       "Украина               0.0     1.0     0.0  0.000000  1.000000\n",
       "н.д.                 17.0   178.0   235.0  0.039535  0.413953"
      ]
     },
     "execution_count": 138,
     "metadata": {},
     "output_type": "execute_result"
    }
   ],
   "source": [
    "df_country_status['-1/sum']=df_country_status['-1']/(df_country_status['-1']+df_country_status['3']+df_country_status['4'])\n",
    "df_country_status['3/sum']=df_country_status['3']/(df_country_status['-1']+df_country_status['3']+df_country_status['4'])\n",
    "df_country_status"
   ]
  },
  {
   "cell_type": "code",
   "execution_count": 139,
   "id": "c7ba64dd",
   "metadata": {
    "scrolled": false
   },
   "outputs": [
    {
     "data": {
      "text/html": [
       "<div>\n",
       "<style scoped>\n",
       "    .dataframe tbody tr th:only-of-type {\n",
       "        vertical-align: middle;\n",
       "    }\n",
       "\n",
       "    .dataframe tbody tr th {\n",
       "        vertical-align: top;\n",
       "    }\n",
       "\n",
       "    .dataframe thead th {\n",
       "        text-align: right;\n",
       "    }\n",
       "</style>\n",
       "<table border=\"1\" class=\"dataframe\">\n",
       "  <thead>\n",
       "    <tr style=\"text-align: right;\">\n",
       "      <th>Страна_Родители</th>\n",
       "      <th>Армения</th>\n",
       "      <th>Германия</th>\n",
       "      <th>Казахстан</th>\n",
       "      <th>Китай</th>\n",
       "      <th>Кыргызстан</th>\n",
       "      <th>Монголия</th>\n",
       "      <th>Нигерия</th>\n",
       "      <th>Республика Молдова</th>\n",
       "      <th>Россия</th>\n",
       "      <th>Таджикистан</th>\n",
       "      <th>Туркменистан</th>\n",
       "      <th>Узбекистан</th>\n",
       "      <th>Украина</th>\n",
       "      <th>н.д.</th>\n",
       "    </tr>\n",
       "    <tr>\n",
       "      <th>Иностранец</th>\n",
       "      <th></th>\n",
       "      <th></th>\n",
       "      <th></th>\n",
       "      <th></th>\n",
       "      <th></th>\n",
       "      <th></th>\n",
       "      <th></th>\n",
       "      <th></th>\n",
       "      <th></th>\n",
       "      <th></th>\n",
       "      <th></th>\n",
       "      <th></th>\n",
       "      <th></th>\n",
       "      <th></th>\n",
       "    </tr>\n",
       "  </thead>\n",
       "  <tbody>\n",
       "    <tr>\n",
       "      <th>0.0</th>\n",
       "      <td>2</td>\n",
       "      <td>1</td>\n",
       "      <td>86</td>\n",
       "      <td>0</td>\n",
       "      <td>4</td>\n",
       "      <td>0</td>\n",
       "      <td>0</td>\n",
       "      <td>0</td>\n",
       "      <td>11811</td>\n",
       "      <td>7</td>\n",
       "      <td>0</td>\n",
       "      <td>0</td>\n",
       "      <td>0</td>\n",
       "      <td>350</td>\n",
       "    </tr>\n",
       "    <tr>\n",
       "      <th>1.0</th>\n",
       "      <td>1</td>\n",
       "      <td>0</td>\n",
       "      <td>428</td>\n",
       "      <td>148</td>\n",
       "      <td>66</td>\n",
       "      <td>2</td>\n",
       "      <td>1</td>\n",
       "      <td>1</td>\n",
       "      <td>148</td>\n",
       "      <td>128</td>\n",
       "      <td>5</td>\n",
       "      <td>3</td>\n",
       "      <td>1</td>\n",
       "      <td>4</td>\n",
       "    </tr>\n",
       "  </tbody>\n",
       "</table>\n",
       "</div>"
      ],
      "text/plain": [
       "Страна_Родители  Армения  Германия  Казахстан  Китай  Кыргызстан  Монголия  \\\n",
       "Иностранец                                                                   \n",
       "0.0                    2         1         86      0           4         0   \n",
       "1.0                    1         0        428    148          66         2   \n",
       "\n",
       "Страна_Родители  Нигерия  Республика Молдова  Россия  Таджикистан  \\\n",
       "Иностранец                                                          \n",
       "0.0                    0                   0   11811            7   \n",
       "1.0                    1                   1     148          128   \n",
       "\n",
       "Страна_Родители  Туркменистан  Узбекистан  Украина  н.д.  \n",
       "Иностранец                                                \n",
       "0.0                         0           0        0   350  \n",
       "1.0                         5           3        1     4  "
      ]
     },
     "execution_count": 139,
     "metadata": {},
     "output_type": "execute_result"
    }
   ],
   "source": [
    "pd.crosstab(df['Иностранец'], df['Страна_Родители'])"
   ]
  },
  {
   "cell_type": "code",
   "execution_count": 140,
   "id": "4160c699",
   "metadata": {},
   "outputs": [],
   "source": [
    "def country(b):\n",
    "    if b == 'Россия':\n",
    "        return 'Россия'\n",
    "    if b == 'Казахстан':\n",
    "        return 'Академ'\n",
    "    if b == 'Кыргызстан':\n",
    "        return 'Академ'\n",
    "    if b == 'Таджикистан':\n",
    "        return 'Академ'\n",
    "    if b == 'Туркменистан':\n",
    "        return 'Академ'\n",
    "    if b == 'Узбекистан':\n",
    "        return 'Академ'\n",
    "    else:\n",
    "        return 'Не академ'    "
   ]
  },
  {
   "cell_type": "code",
   "execution_count": 141,
   "id": "db581680",
   "metadata": {},
   "outputs": [],
   "source": [
    "df['Страна_Родители'] = df['Страна_Родители'].apply(country)"
   ]
  },
  {
   "cell_type": "markdown",
   "id": "830dbb79",
   "metadata": {},
   "source": [
    "**Вывод**:\n",
    "- если родители живут не в России, ученики чаще отчисляются"
   ]
  },
  {
   "cell_type": "markdown",
   "id": "652537ff",
   "metadata": {},
   "source": [
    "**Иностранец**"
   ]
  },
  {
   "cell_type": "code",
   "execution_count": 142,
   "id": "0f10ca91",
   "metadata": {},
   "outputs": [],
   "source": [
    "df['Иностранец'] = df['Иностранец'].fillna('2')"
   ]
  },
  {
   "cell_type": "code",
   "execution_count": 143,
   "id": "f77575da",
   "metadata": {
    "scrolled": false
   },
   "outputs": [
    {
     "data": {
      "text/plain": [
       "0.0    12261\n",
       "1.0      936\n",
       "2        302\n",
       "Name: Иностранец, dtype: int64"
      ]
     },
     "execution_count": 143,
     "metadata": {},
     "output_type": "execute_result"
    }
   ],
   "source": [
    "df['Иностранец'].value_counts()"
   ]
  },
  {
   "cell_type": "code",
   "execution_count": 144,
   "id": "d7c6d633",
   "metadata": {
    "scrolled": true
   },
   "outputs": [
    {
     "data": {
      "text/html": [
       "<div>\n",
       "<style scoped>\n",
       "    .dataframe tbody tr th:only-of-type {\n",
       "        vertical-align: middle;\n",
       "    }\n",
       "\n",
       "    .dataframe tbody tr th {\n",
       "        vertical-align: top;\n",
       "    }\n",
       "\n",
       "    .dataframe thead tr th {\n",
       "        text-align: left;\n",
       "    }\n",
       "\n",
       "    .dataframe thead tr:last-of-type th {\n",
       "        text-align: right;\n",
       "    }\n",
       "</style>\n",
       "<table border=\"1\" class=\"dataframe\">\n",
       "  <thead>\n",
       "    <tr>\n",
       "      <th></th>\n",
       "      <th colspan=\"3\" halign=\"left\">count</th>\n",
       "    </tr>\n",
       "    <tr>\n",
       "      <th>Статус</th>\n",
       "      <th>-1</th>\n",
       "      <th>3</th>\n",
       "      <th>4</th>\n",
       "    </tr>\n",
       "    <tr>\n",
       "      <th>Иностранец</th>\n",
       "      <th></th>\n",
       "      <th></th>\n",
       "      <th></th>\n",
       "    </tr>\n",
       "  </thead>\n",
       "  <tbody>\n",
       "    <tr>\n",
       "      <th>0.0</th>\n",
       "      <td>535.0</td>\n",
       "      <td>4072.0</td>\n",
       "      <td>7654.0</td>\n",
       "    </tr>\n",
       "    <tr>\n",
       "      <th>1.0</th>\n",
       "      <td>79.0</td>\n",
       "      <td>447.0</td>\n",
       "      <td>410.0</td>\n",
       "    </tr>\n",
       "    <tr>\n",
       "      <th>2</th>\n",
       "      <td>NaN</td>\n",
       "      <td>192.0</td>\n",
       "      <td>110.0</td>\n",
       "    </tr>\n",
       "  </tbody>\n",
       "</table>\n",
       "</div>"
      ],
      "text/plain": [
       "            count                \n",
       "Статус         -1       3       4\n",
       "Иностранец                       \n",
       "0.0         535.0  4072.0  7654.0\n",
       "1.0          79.0   447.0   410.0\n",
       "2             NaN   192.0   110.0"
      ]
     },
     "execution_count": 144,
     "metadata": {},
     "output_type": "execute_result"
    }
   ],
   "source": [
    "df_ino_status = df.pivot_table(index = 'Иностранец', columns = 'Статус', values = 'ID', aggfunc = ['count'])\n",
    "df_ino_status"
   ]
  },
  {
   "cell_type": "code",
   "execution_count": 145,
   "id": "ed44c2f7",
   "metadata": {},
   "outputs": [],
   "source": [
    "df_ino_status.columns = ['-1', '3', '4']"
   ]
  },
  {
   "cell_type": "code",
   "execution_count": 146,
   "id": "dad538cf",
   "metadata": {},
   "outputs": [],
   "source": [
    "df_ino_status = df_ino_status.fillna(0)"
   ]
  },
  {
   "cell_type": "code",
   "execution_count": 147,
   "id": "732a9384",
   "metadata": {
    "scrolled": true
   },
   "outputs": [
    {
     "data": {
      "text/html": [
       "<div>\n",
       "<style scoped>\n",
       "    .dataframe tbody tr th:only-of-type {\n",
       "        vertical-align: middle;\n",
       "    }\n",
       "\n",
       "    .dataframe tbody tr th {\n",
       "        vertical-align: top;\n",
       "    }\n",
       "\n",
       "    .dataframe thead th {\n",
       "        text-align: right;\n",
       "    }\n",
       "</style>\n",
       "<table border=\"1\" class=\"dataframe\">\n",
       "  <thead>\n",
       "    <tr style=\"text-align: right;\">\n",
       "      <th></th>\n",
       "      <th>-1</th>\n",
       "      <th>3</th>\n",
       "      <th>4</th>\n",
       "      <th>-1/sum</th>\n",
       "      <th>3/sum</th>\n",
       "    </tr>\n",
       "    <tr>\n",
       "      <th>Иностранец</th>\n",
       "      <th></th>\n",
       "      <th></th>\n",
       "      <th></th>\n",
       "      <th></th>\n",
       "      <th></th>\n",
       "    </tr>\n",
       "  </thead>\n",
       "  <tbody>\n",
       "    <tr>\n",
       "      <th>0.0</th>\n",
       "      <td>535.0</td>\n",
       "      <td>4072.0</td>\n",
       "      <td>7654.0</td>\n",
       "      <td>0.043634</td>\n",
       "      <td>0.332110</td>\n",
       "    </tr>\n",
       "    <tr>\n",
       "      <th>1.0</th>\n",
       "      <td>79.0</td>\n",
       "      <td>447.0</td>\n",
       "      <td>410.0</td>\n",
       "      <td>0.084402</td>\n",
       "      <td>0.477564</td>\n",
       "    </tr>\n",
       "    <tr>\n",
       "      <th>2</th>\n",
       "      <td>0.0</td>\n",
       "      <td>192.0</td>\n",
       "      <td>110.0</td>\n",
       "      <td>0.000000</td>\n",
       "      <td>0.635762</td>\n",
       "    </tr>\n",
       "  </tbody>\n",
       "</table>\n",
       "</div>"
      ],
      "text/plain": [
       "               -1       3       4    -1/sum     3/sum\n",
       "Иностранец                                           \n",
       "0.0         535.0  4072.0  7654.0  0.043634  0.332110\n",
       "1.0          79.0   447.0   410.0  0.084402  0.477564\n",
       "2             0.0   192.0   110.0  0.000000  0.635762"
      ]
     },
     "execution_count": 147,
     "metadata": {},
     "output_type": "execute_result"
    }
   ],
   "source": [
    "df_ino_status['-1/sum']=df_ino_status['-1']/(df_ino_status['-1']+df_ino_status['3']+df_ino_status['4'])\n",
    "df_ino_status['3/sum']=df_ino_status['3']/(df_ino_status['-1']+df_ino_status['3']+df_ino_status['4'])\n",
    "df_ino_status"
   ]
  },
  {
   "cell_type": "markdown",
   "id": "12f797b2",
   "metadata": {},
   "source": [
    "**Вывод**\n",
    "- инострнцы и ученики с \"н.д.\" чаще отчисляются\n",
    "- но ученики с \"н.д.\" не уходят в академ"
   ]
  },
  {
   "cell_type": "code",
   "execution_count": 148,
   "id": "e34266e2",
   "metadata": {},
   "outputs": [],
   "source": [
    "df['Иностранец']=df['Иностранец'].astype('str')"
   ]
  },
  {
   "cell_type": "markdown",
   "id": "1c88cd79",
   "metadata": {},
   "source": [
    "**Село**"
   ]
  },
  {
   "cell_type": "code",
   "execution_count": 149,
   "id": "39f835cd",
   "metadata": {},
   "outputs": [],
   "source": [
    "df['Село'] = df['Село'].fillna('2')"
   ]
  },
  {
   "cell_type": "code",
   "execution_count": 150,
   "id": "0c8f25b9",
   "metadata": {
    "scrolled": false
   },
   "outputs": [
    {
     "data": {
      "text/plain": [
       "0.0    10337\n",
       "1.0     3084\n",
       "2         78\n",
       "Name: Село, dtype: int64"
      ]
     },
     "execution_count": 150,
     "metadata": {},
     "output_type": "execute_result"
    }
   ],
   "source": [
    "df['Село'].value_counts()"
   ]
  },
  {
   "cell_type": "code",
   "execution_count": 151,
   "id": "6c2ce13d",
   "metadata": {
    "scrolled": true
   },
   "outputs": [
    {
     "data": {
      "text/html": [
       "<div>\n",
       "<style scoped>\n",
       "    .dataframe tbody tr th:only-of-type {\n",
       "        vertical-align: middle;\n",
       "    }\n",
       "\n",
       "    .dataframe tbody tr th {\n",
       "        vertical-align: top;\n",
       "    }\n",
       "\n",
       "    .dataframe thead tr th {\n",
       "        text-align: left;\n",
       "    }\n",
       "\n",
       "    .dataframe thead tr:last-of-type th {\n",
       "        text-align: right;\n",
       "    }\n",
       "</style>\n",
       "<table border=\"1\" class=\"dataframe\">\n",
       "  <thead>\n",
       "    <tr>\n",
       "      <th></th>\n",
       "      <th colspan=\"3\" halign=\"left\">count</th>\n",
       "    </tr>\n",
       "    <tr>\n",
       "      <th>Статус</th>\n",
       "      <th>-1</th>\n",
       "      <th>3</th>\n",
       "      <th>4</th>\n",
       "    </tr>\n",
       "    <tr>\n",
       "      <th>Село</th>\n",
       "      <th></th>\n",
       "      <th></th>\n",
       "      <th></th>\n",
       "    </tr>\n",
       "  </thead>\n",
       "  <tbody>\n",
       "    <tr>\n",
       "      <th>0.0</th>\n",
       "      <td>504.0</td>\n",
       "      <td>3535.0</td>\n",
       "      <td>6298.0</td>\n",
       "    </tr>\n",
       "    <tr>\n",
       "      <th>1.0</th>\n",
       "      <td>110.0</td>\n",
       "      <td>1130.0</td>\n",
       "      <td>1844.0</td>\n",
       "    </tr>\n",
       "    <tr>\n",
       "      <th>2</th>\n",
       "      <td>NaN</td>\n",
       "      <td>46.0</td>\n",
       "      <td>32.0</td>\n",
       "    </tr>\n",
       "  </tbody>\n",
       "</table>\n",
       "</div>"
      ],
      "text/plain": [
       "        count                \n",
       "Статус     -1       3       4\n",
       "Село                         \n",
       "0.0     504.0  3535.0  6298.0\n",
       "1.0     110.0  1130.0  1844.0\n",
       "2         NaN    46.0    32.0"
      ]
     },
     "execution_count": 151,
     "metadata": {},
     "output_type": "execute_result"
    }
   ],
   "source": [
    "df_selo_status = df.pivot_table(index = 'Село', columns = 'Статус', values = 'ID', aggfunc = ['count'])\n",
    "df_selo_status"
   ]
  },
  {
   "cell_type": "code",
   "execution_count": 152,
   "id": "17c4c1fa",
   "metadata": {},
   "outputs": [],
   "source": [
    "df_selo_status.columns = ['-1', '3', '4']"
   ]
  },
  {
   "cell_type": "code",
   "execution_count": 153,
   "id": "331c7384",
   "metadata": {},
   "outputs": [],
   "source": [
    "df_selo_status = df_selo_status.fillna(0)"
   ]
  },
  {
   "cell_type": "code",
   "execution_count": 154,
   "id": "919ebd2a",
   "metadata": {
    "scrolled": true
   },
   "outputs": [
    {
     "data": {
      "text/html": [
       "<div>\n",
       "<style scoped>\n",
       "    .dataframe tbody tr th:only-of-type {\n",
       "        vertical-align: middle;\n",
       "    }\n",
       "\n",
       "    .dataframe tbody tr th {\n",
       "        vertical-align: top;\n",
       "    }\n",
       "\n",
       "    .dataframe thead th {\n",
       "        text-align: right;\n",
       "    }\n",
       "</style>\n",
       "<table border=\"1\" class=\"dataframe\">\n",
       "  <thead>\n",
       "    <tr style=\"text-align: right;\">\n",
       "      <th></th>\n",
       "      <th>-1</th>\n",
       "      <th>3</th>\n",
       "      <th>4</th>\n",
       "      <th>-1/sum</th>\n",
       "      <th>3/sum</th>\n",
       "    </tr>\n",
       "    <tr>\n",
       "      <th>Село</th>\n",
       "      <th></th>\n",
       "      <th></th>\n",
       "      <th></th>\n",
       "      <th></th>\n",
       "      <th></th>\n",
       "    </tr>\n",
       "  </thead>\n",
       "  <tbody>\n",
       "    <tr>\n",
       "      <th>0.0</th>\n",
       "      <td>504.0</td>\n",
       "      <td>3535.0</td>\n",
       "      <td>6298.0</td>\n",
       "      <td>0.048757</td>\n",
       "      <td>0.341975</td>\n",
       "    </tr>\n",
       "    <tr>\n",
       "      <th>1.0</th>\n",
       "      <td>110.0</td>\n",
       "      <td>1130.0</td>\n",
       "      <td>1844.0</td>\n",
       "      <td>0.035668</td>\n",
       "      <td>0.366407</td>\n",
       "    </tr>\n",
       "    <tr>\n",
       "      <th>2</th>\n",
       "      <td>0.0</td>\n",
       "      <td>46.0</td>\n",
       "      <td>32.0</td>\n",
       "      <td>0.000000</td>\n",
       "      <td>0.589744</td>\n",
       "    </tr>\n",
       "  </tbody>\n",
       "</table>\n",
       "</div>"
      ],
      "text/plain": [
       "         -1       3       4    -1/sum     3/sum\n",
       "Село                                           \n",
       "0.0   504.0  3535.0  6298.0  0.048757  0.341975\n",
       "1.0   110.0  1130.0  1844.0  0.035668  0.366407\n",
       "2       0.0    46.0    32.0  0.000000  0.589744"
      ]
     },
     "execution_count": 154,
     "metadata": {},
     "output_type": "execute_result"
    }
   ],
   "source": [
    "df_selo_status['-1/sum']=df_selo_status['-1']/(df_selo_status['-1']+df_selo_status['3']+df_selo_status['4'])\n",
    "df_selo_status['3/sum']=df_selo_status['3']/(df_selo_status['-1']+df_selo_status['3']+df_selo_status['4'])\n",
    "df_selo_status"
   ]
  },
  {
   "cell_type": "markdown",
   "id": "50385ac1",
   "metadata": {},
   "source": [
    "**Вывод**\n",
    "- фактор села не оказывает влияния,\n",
    "- высокая отчисляемость для студентов, где \"н.д.\""
   ]
  },
  {
   "cell_type": "markdown",
   "id": "58626495",
   "metadata": {},
   "source": [
    "**Код факультета**"
   ]
  },
  {
   "cell_type": "code",
   "execution_count": 155,
   "id": "3ca4e8d4",
   "metadata": {},
   "outputs": [
    {
     "data": {
      "text/plain": [
       "26.0    2759\n",
       "25.0    2158\n",
       "41.0    1485\n",
       "51.0    1096\n",
       "34.0     956\n",
       "24.0     688\n",
       "27.0     675\n",
       "28.0     659\n",
       "31.0     619\n",
       "35.0     538\n",
       "40.0     467\n",
       "36.0     443\n",
       "30.0     430\n",
       "48.0     234\n",
       "45.0      90\n",
       "47.0      84\n",
       "49.0      76\n",
       "46.0      26\n",
       "53.0      15\n",
       "37.0       1\n",
       "Name: КодФакультета, dtype: int64"
      ]
     },
     "execution_count": 155,
     "metadata": {},
     "output_type": "execute_result"
    }
   ],
   "source": [
    "df['КодФакультета'].value_counts()"
   ]
  },
  {
   "cell_type": "code",
   "execution_count": 156,
   "id": "9ec9c8f7",
   "metadata": {
    "scrolled": true
   },
   "outputs": [
    {
     "data": {
      "text/html": [
       "<div>\n",
       "<style scoped>\n",
       "    .dataframe tbody tr th:only-of-type {\n",
       "        vertical-align: middle;\n",
       "    }\n",
       "\n",
       "    .dataframe tbody tr th {\n",
       "        vertical-align: top;\n",
       "    }\n",
       "\n",
       "    .dataframe thead tr th {\n",
       "        text-align: left;\n",
       "    }\n",
       "\n",
       "    .dataframe thead tr:last-of-type th {\n",
       "        text-align: right;\n",
       "    }\n",
       "</style>\n",
       "<table border=\"1\" class=\"dataframe\">\n",
       "  <thead>\n",
       "    <tr>\n",
       "      <th></th>\n",
       "      <th colspan=\"3\" halign=\"left\">count</th>\n",
       "    </tr>\n",
       "    <tr>\n",
       "      <th>Статус</th>\n",
       "      <th>-1</th>\n",
       "      <th>3</th>\n",
       "      <th>4</th>\n",
       "    </tr>\n",
       "    <tr>\n",
       "      <th>КодФакультета</th>\n",
       "      <th></th>\n",
       "      <th></th>\n",
       "      <th></th>\n",
       "    </tr>\n",
       "  </thead>\n",
       "  <tbody>\n",
       "    <tr>\n",
       "      <th>24.0</th>\n",
       "      <td>61.0</td>\n",
       "      <td>167.0</td>\n",
       "      <td>460.0</td>\n",
       "    </tr>\n",
       "    <tr>\n",
       "      <th>25.0</th>\n",
       "      <td>66.0</td>\n",
       "      <td>594.0</td>\n",
       "      <td>1498.0</td>\n",
       "    </tr>\n",
       "    <tr>\n",
       "      <th>26.0</th>\n",
       "      <td>79.0</td>\n",
       "      <td>858.0</td>\n",
       "      <td>1822.0</td>\n",
       "    </tr>\n",
       "    <tr>\n",
       "      <th>27.0</th>\n",
       "      <td>28.0</td>\n",
       "      <td>410.0</td>\n",
       "      <td>237.0</td>\n",
       "    </tr>\n",
       "    <tr>\n",
       "      <th>28.0</th>\n",
       "      <td>20.0</td>\n",
       "      <td>331.0</td>\n",
       "      <td>308.0</td>\n",
       "    </tr>\n",
       "    <tr>\n",
       "      <th>30.0</th>\n",
       "      <td>54.0</td>\n",
       "      <td>99.0</td>\n",
       "      <td>277.0</td>\n",
       "    </tr>\n",
       "    <tr>\n",
       "      <th>31.0</th>\n",
       "      <td>21.0</td>\n",
       "      <td>228.0</td>\n",
       "      <td>370.0</td>\n",
       "    </tr>\n",
       "    <tr>\n",
       "      <th>34.0</th>\n",
       "      <td>74.0</td>\n",
       "      <td>320.0</td>\n",
       "      <td>562.0</td>\n",
       "    </tr>\n",
       "    <tr>\n",
       "      <th>35.0</th>\n",
       "      <td>16.0</td>\n",
       "      <td>130.0</td>\n",
       "      <td>392.0</td>\n",
       "    </tr>\n",
       "    <tr>\n",
       "      <th>36.0</th>\n",
       "      <td>30.0</td>\n",
       "      <td>152.0</td>\n",
       "      <td>261.0</td>\n",
       "    </tr>\n",
       "    <tr>\n",
       "      <th>37.0</th>\n",
       "      <td>NaN</td>\n",
       "      <td>1.0</td>\n",
       "      <td>NaN</td>\n",
       "    </tr>\n",
       "    <tr>\n",
       "      <th>40.0</th>\n",
       "      <td>19.0</td>\n",
       "      <td>174.0</td>\n",
       "      <td>274.0</td>\n",
       "    </tr>\n",
       "    <tr>\n",
       "      <th>41.0</th>\n",
       "      <td>65.0</td>\n",
       "      <td>569.0</td>\n",
       "      <td>851.0</td>\n",
       "    </tr>\n",
       "    <tr>\n",
       "      <th>45.0</th>\n",
       "      <td>1.0</td>\n",
       "      <td>56.0</td>\n",
       "      <td>33.0</td>\n",
       "    </tr>\n",
       "    <tr>\n",
       "      <th>46.0</th>\n",
       "      <td>4.0</td>\n",
       "      <td>21.0</td>\n",
       "      <td>1.0</td>\n",
       "    </tr>\n",
       "    <tr>\n",
       "      <th>47.0</th>\n",
       "      <td>NaN</td>\n",
       "      <td>35.0</td>\n",
       "      <td>49.0</td>\n",
       "    </tr>\n",
       "    <tr>\n",
       "      <th>48.0</th>\n",
       "      <td>10.0</td>\n",
       "      <td>108.0</td>\n",
       "      <td>116.0</td>\n",
       "    </tr>\n",
       "    <tr>\n",
       "      <th>49.0</th>\n",
       "      <td>2.0</td>\n",
       "      <td>34.0</td>\n",
       "      <td>40.0</td>\n",
       "    </tr>\n",
       "    <tr>\n",
       "      <th>51.0</th>\n",
       "      <td>61.0</td>\n",
       "      <td>416.0</td>\n",
       "      <td>619.0</td>\n",
       "    </tr>\n",
       "    <tr>\n",
       "      <th>53.0</th>\n",
       "      <td>3.0</td>\n",
       "      <td>8.0</td>\n",
       "      <td>4.0</td>\n",
       "    </tr>\n",
       "  </tbody>\n",
       "</table>\n",
       "</div>"
      ],
      "text/plain": [
       "              count               \n",
       "Статус           -1      3       4\n",
       "КодФакультета                     \n",
       "24.0           61.0  167.0   460.0\n",
       "25.0           66.0  594.0  1498.0\n",
       "26.0           79.0  858.0  1822.0\n",
       "27.0           28.0  410.0   237.0\n",
       "28.0           20.0  331.0   308.0\n",
       "30.0           54.0   99.0   277.0\n",
       "31.0           21.0  228.0   370.0\n",
       "34.0           74.0  320.0   562.0\n",
       "35.0           16.0  130.0   392.0\n",
       "36.0           30.0  152.0   261.0\n",
       "37.0            NaN    1.0     NaN\n",
       "40.0           19.0  174.0   274.0\n",
       "41.0           65.0  569.0   851.0\n",
       "45.0            1.0   56.0    33.0\n",
       "46.0            4.0   21.0     1.0\n",
       "47.0            NaN   35.0    49.0\n",
       "48.0           10.0  108.0   116.0\n",
       "49.0            2.0   34.0    40.0\n",
       "51.0           61.0  416.0   619.0\n",
       "53.0            3.0    8.0     4.0"
      ]
     },
     "execution_count": 156,
     "metadata": {},
     "output_type": "execute_result"
    }
   ],
   "source": [
    "df_cod_status = df.pivot_table(index = 'КодФакультета', columns = 'Статус', values = 'ID', aggfunc = ['count'])\n",
    "df_cod_status"
   ]
  },
  {
   "cell_type": "code",
   "execution_count": 157,
   "id": "0e2bc6e8",
   "metadata": {},
   "outputs": [],
   "source": [
    "df_cod_status = df_cod_status.fillna(0)"
   ]
  },
  {
   "cell_type": "code",
   "execution_count": 158,
   "id": "cd0697f3",
   "metadata": {},
   "outputs": [],
   "source": [
    "df_cod_status.columns = ['-1', '3', '4']"
   ]
  },
  {
   "cell_type": "code",
   "execution_count": 159,
   "id": "337ec62c",
   "metadata": {},
   "outputs": [],
   "source": [
    "df_cod_status['-1/sum']=df_cod_status['-1']/(df_cod_status['-1']+df_cod_status['3']+df_cod_status['4'])"
   ]
  },
  {
   "cell_type": "code",
   "execution_count": 160,
   "id": "17a5a81b",
   "metadata": {},
   "outputs": [],
   "source": [
    "df_cod_status['3/sum']=df_cod_status['3']/(df_cod_status['-1']+df_cod_status['3']+df_cod_status['4'])"
   ]
  },
  {
   "cell_type": "code",
   "execution_count": 161,
   "id": "993acaa9",
   "metadata": {
    "scrolled": true
   },
   "outputs": [
    {
     "data": {
      "text/html": [
       "<div>\n",
       "<style scoped>\n",
       "    .dataframe tbody tr th:only-of-type {\n",
       "        vertical-align: middle;\n",
       "    }\n",
       "\n",
       "    .dataframe tbody tr th {\n",
       "        vertical-align: top;\n",
       "    }\n",
       "\n",
       "    .dataframe thead th {\n",
       "        text-align: right;\n",
       "    }\n",
       "</style>\n",
       "<table border=\"1\" class=\"dataframe\">\n",
       "  <thead>\n",
       "    <tr style=\"text-align: right;\">\n",
       "      <th></th>\n",
       "      <th>-1</th>\n",
       "      <th>3</th>\n",
       "      <th>4</th>\n",
       "      <th>-1/sum</th>\n",
       "      <th>3/sum</th>\n",
       "    </tr>\n",
       "    <tr>\n",
       "      <th>КодФакультета</th>\n",
       "      <th></th>\n",
       "      <th></th>\n",
       "      <th></th>\n",
       "      <th></th>\n",
       "      <th></th>\n",
       "    </tr>\n",
       "  </thead>\n",
       "  <tbody>\n",
       "    <tr>\n",
       "      <th>24.0</th>\n",
       "      <td>61.0</td>\n",
       "      <td>167.0</td>\n",
       "      <td>460.0</td>\n",
       "      <td>0.088663</td>\n",
       "      <td>0.242733</td>\n",
       "    </tr>\n",
       "    <tr>\n",
       "      <th>25.0</th>\n",
       "      <td>66.0</td>\n",
       "      <td>594.0</td>\n",
       "      <td>1498.0</td>\n",
       "      <td>0.030584</td>\n",
       "      <td>0.275255</td>\n",
       "    </tr>\n",
       "    <tr>\n",
       "      <th>26.0</th>\n",
       "      <td>79.0</td>\n",
       "      <td>858.0</td>\n",
       "      <td>1822.0</td>\n",
       "      <td>0.028634</td>\n",
       "      <td>0.310982</td>\n",
       "    </tr>\n",
       "    <tr>\n",
       "      <th>27.0</th>\n",
       "      <td>28.0</td>\n",
       "      <td>410.0</td>\n",
       "      <td>237.0</td>\n",
       "      <td>0.041481</td>\n",
       "      <td>0.607407</td>\n",
       "    </tr>\n",
       "    <tr>\n",
       "      <th>28.0</th>\n",
       "      <td>20.0</td>\n",
       "      <td>331.0</td>\n",
       "      <td>308.0</td>\n",
       "      <td>0.030349</td>\n",
       "      <td>0.502276</td>\n",
       "    </tr>\n",
       "    <tr>\n",
       "      <th>30.0</th>\n",
       "      <td>54.0</td>\n",
       "      <td>99.0</td>\n",
       "      <td>277.0</td>\n",
       "      <td>0.125581</td>\n",
       "      <td>0.230233</td>\n",
       "    </tr>\n",
       "    <tr>\n",
       "      <th>31.0</th>\n",
       "      <td>21.0</td>\n",
       "      <td>228.0</td>\n",
       "      <td>370.0</td>\n",
       "      <td>0.033926</td>\n",
       "      <td>0.368336</td>\n",
       "    </tr>\n",
       "    <tr>\n",
       "      <th>34.0</th>\n",
       "      <td>74.0</td>\n",
       "      <td>320.0</td>\n",
       "      <td>562.0</td>\n",
       "      <td>0.077406</td>\n",
       "      <td>0.334728</td>\n",
       "    </tr>\n",
       "    <tr>\n",
       "      <th>35.0</th>\n",
       "      <td>16.0</td>\n",
       "      <td>130.0</td>\n",
       "      <td>392.0</td>\n",
       "      <td>0.029740</td>\n",
       "      <td>0.241636</td>\n",
       "    </tr>\n",
       "    <tr>\n",
       "      <th>36.0</th>\n",
       "      <td>30.0</td>\n",
       "      <td>152.0</td>\n",
       "      <td>261.0</td>\n",
       "      <td>0.067720</td>\n",
       "      <td>0.343115</td>\n",
       "    </tr>\n",
       "    <tr>\n",
       "      <th>37.0</th>\n",
       "      <td>0.0</td>\n",
       "      <td>1.0</td>\n",
       "      <td>0.0</td>\n",
       "      <td>0.000000</td>\n",
       "      <td>1.000000</td>\n",
       "    </tr>\n",
       "    <tr>\n",
       "      <th>40.0</th>\n",
       "      <td>19.0</td>\n",
       "      <td>174.0</td>\n",
       "      <td>274.0</td>\n",
       "      <td>0.040685</td>\n",
       "      <td>0.372591</td>\n",
       "    </tr>\n",
       "    <tr>\n",
       "      <th>41.0</th>\n",
       "      <td>65.0</td>\n",
       "      <td>569.0</td>\n",
       "      <td>851.0</td>\n",
       "      <td>0.043771</td>\n",
       "      <td>0.383165</td>\n",
       "    </tr>\n",
       "    <tr>\n",
       "      <th>45.0</th>\n",
       "      <td>1.0</td>\n",
       "      <td>56.0</td>\n",
       "      <td>33.0</td>\n",
       "      <td>0.011111</td>\n",
       "      <td>0.622222</td>\n",
       "    </tr>\n",
       "    <tr>\n",
       "      <th>46.0</th>\n",
       "      <td>4.0</td>\n",
       "      <td>21.0</td>\n",
       "      <td>1.0</td>\n",
       "      <td>0.153846</td>\n",
       "      <td>0.807692</td>\n",
       "    </tr>\n",
       "    <tr>\n",
       "      <th>47.0</th>\n",
       "      <td>0.0</td>\n",
       "      <td>35.0</td>\n",
       "      <td>49.0</td>\n",
       "      <td>0.000000</td>\n",
       "      <td>0.416667</td>\n",
       "    </tr>\n",
       "    <tr>\n",
       "      <th>48.0</th>\n",
       "      <td>10.0</td>\n",
       "      <td>108.0</td>\n",
       "      <td>116.0</td>\n",
       "      <td>0.042735</td>\n",
       "      <td>0.461538</td>\n",
       "    </tr>\n",
       "    <tr>\n",
       "      <th>49.0</th>\n",
       "      <td>2.0</td>\n",
       "      <td>34.0</td>\n",
       "      <td>40.0</td>\n",
       "      <td>0.026316</td>\n",
       "      <td>0.447368</td>\n",
       "    </tr>\n",
       "    <tr>\n",
       "      <th>51.0</th>\n",
       "      <td>61.0</td>\n",
       "      <td>416.0</td>\n",
       "      <td>619.0</td>\n",
       "      <td>0.055657</td>\n",
       "      <td>0.379562</td>\n",
       "    </tr>\n",
       "    <tr>\n",
       "      <th>53.0</th>\n",
       "      <td>3.0</td>\n",
       "      <td>8.0</td>\n",
       "      <td>4.0</td>\n",
       "      <td>0.200000</td>\n",
       "      <td>0.533333</td>\n",
       "    </tr>\n",
       "  </tbody>\n",
       "</table>\n",
       "</div>"
      ],
      "text/plain": [
       "                 -1      3       4    -1/sum     3/sum\n",
       "КодФакультета                                         \n",
       "24.0           61.0  167.0   460.0  0.088663  0.242733\n",
       "25.0           66.0  594.0  1498.0  0.030584  0.275255\n",
       "26.0           79.0  858.0  1822.0  0.028634  0.310982\n",
       "27.0           28.0  410.0   237.0  0.041481  0.607407\n",
       "28.0           20.0  331.0   308.0  0.030349  0.502276\n",
       "30.0           54.0   99.0   277.0  0.125581  0.230233\n",
       "31.0           21.0  228.0   370.0  0.033926  0.368336\n",
       "34.0           74.0  320.0   562.0  0.077406  0.334728\n",
       "35.0           16.0  130.0   392.0  0.029740  0.241636\n",
       "36.0           30.0  152.0   261.0  0.067720  0.343115\n",
       "37.0            0.0    1.0     0.0  0.000000  1.000000\n",
       "40.0           19.0  174.0   274.0  0.040685  0.372591\n",
       "41.0           65.0  569.0   851.0  0.043771  0.383165\n",
       "45.0            1.0   56.0    33.0  0.011111  0.622222\n",
       "46.0            4.0   21.0     1.0  0.153846  0.807692\n",
       "47.0            0.0   35.0    49.0  0.000000  0.416667\n",
       "48.0           10.0  108.0   116.0  0.042735  0.461538\n",
       "49.0            2.0   34.0    40.0  0.026316  0.447368\n",
       "51.0           61.0  416.0   619.0  0.055657  0.379562\n",
       "53.0            3.0    8.0     4.0  0.200000  0.533333"
      ]
     },
     "execution_count": 161,
     "metadata": {},
     "output_type": "execute_result"
    }
   ],
   "source": [
    "df_cod_status"
   ]
  },
  {
   "cell_type": "markdown",
   "id": "3d0dd09a",
   "metadata": {},
   "source": [
    "**Вывод**\n",
    "- есть факультеты с высокой отчисляемостью ()\n",
    "- есть факультеты, наоборот, с низкой отчисляемостью ()"
   ]
  },
  {
   "cell_type": "code",
   "execution_count": 162,
   "id": "e6be6b32",
   "metadata": {},
   "outputs": [],
   "source": [
    "df['КодФакультета'] = df['КодФакультета'].astype('str')"
   ]
  },
  {
   "cell_type": "markdown",
   "id": "758ff950",
   "metadata": {},
   "source": [
    "**Балл аттестата**"
   ]
  },
  {
   "cell_type": "code",
   "execution_count": 163,
   "id": "796af385",
   "metadata": {
    "scrolled": false
   },
   "outputs": [
    {
     "data": {
      "text/plain": [
       "10"
      ]
     },
     "execution_count": 163,
     "metadata": {},
     "output_type": "execute_result"
    }
   ],
   "source": [
    "df[df['СрБаллАттестата']==0]['СрБаллАттестата'].count()"
   ]
  },
  {
   "cell_type": "code",
   "execution_count": 164,
   "id": "41578860",
   "metadata": {},
   "outputs": [
    {
     "data": {
      "text/plain": [
       "4.123663995354239"
      ]
     },
     "execution_count": 164,
     "metadata": {},
     "output_type": "execute_result"
    }
   ],
   "source": [
    "df[df['СрБаллАттестата']<=5]['СрБаллАттестата'].mean()"
   ]
  },
  {
   "cell_type": "code",
   "execution_count": 165,
   "id": "682c9a0b",
   "metadata": {},
   "outputs": [],
   "source": [
    "def ball_group(temp):\n",
    "    if temp < 3:\n",
    "        return '01'\n",
    "    if temp < 3.5:\n",
    "        return '02'\n",
    "    if temp < 4:\n",
    "        return '03'\n",
    "    if temp < 4.5:\n",
    "        return '04'\n",
    "    if temp <= 5:\n",
    "        return '05'\n",
    "    if temp < 60:\n",
    "        return '01'\n",
    "    if temp < 70:\n",
    "        return '02'\n",
    "    if temp < 80:\n",
    "        return '03'\n",
    "    if temp < 90:\n",
    "        return '04'\n",
    "    if temp <= 100:\n",
    "        return '05'\n",
    "    else:\n",
    "        return '00'"
   ]
  },
  {
   "cell_type": "code",
   "execution_count": 166,
   "id": "7f39a4f6",
   "metadata": {},
   "outputs": [],
   "source": [
    "def ball_group_gross(temp):\n",
    "    if temp < 3:\n",
    "        return '01'\n",
    "    if temp < 3.25:\n",
    "        return '02'\n",
    "    if temp < 3.5:\n",
    "        return '03'\n",
    "    if temp < 3.75:\n",
    "        return '04'\n",
    "    if temp < 4:\n",
    "        return '05'\n",
    "    if temp < 4.25:\n",
    "        return '06'\n",
    "    if temp < 4.5:\n",
    "        return '07'\n",
    "    if temp < 4.75:\n",
    "        return '08'\n",
    "    if temp <= 5:\n",
    "        return '09'\n",
    "    if temp < 35:\n",
    "        return '01'\n",
    "    if temp < 40:\n",
    "        return '02'\n",
    "    if temp < 45:\n",
    "        return '03'\n",
    "    if temp < 50:\n",
    "        return '04'\n",
    "    if temp < 55:\n",
    "        return '05'\n",
    "    if temp < 60:\n",
    "        return '06'\n",
    "    if temp < 65:\n",
    "        return '07'\n",
    "    if temp < 70:\n",
    "        return '08'\n",
    "    if temp <= 100:\n",
    "        return '09'\n",
    "    else:\n",
    "        return '00'"
   ]
  },
  {
   "cell_type": "code",
   "execution_count": 167,
   "id": "c5afbd94",
   "metadata": {},
   "outputs": [],
   "source": [
    "df['ball_group']=df['СрБаллАттестата'].apply(ball_group_gross)"
   ]
  },
  {
   "cell_type": "code",
   "execution_count": 168,
   "id": "f6d0e311",
   "metadata": {
    "scrolled": true
   },
   "outputs": [
    {
     "data": {
      "text/html": [
       "<div>\n",
       "<style scoped>\n",
       "    .dataframe tbody tr th:only-of-type {\n",
       "        vertical-align: middle;\n",
       "    }\n",
       "\n",
       "    .dataframe tbody tr th {\n",
       "        vertical-align: top;\n",
       "    }\n",
       "\n",
       "    .dataframe thead tr th {\n",
       "        text-align: left;\n",
       "    }\n",
       "\n",
       "    .dataframe thead tr:last-of-type th {\n",
       "        text-align: right;\n",
       "    }\n",
       "</style>\n",
       "<table border=\"1\" class=\"dataframe\">\n",
       "  <thead>\n",
       "    <tr>\n",
       "      <th></th>\n",
       "      <th colspan=\"3\" halign=\"left\">count</th>\n",
       "    </tr>\n",
       "    <tr>\n",
       "      <th>Статус</th>\n",
       "      <th>-1</th>\n",
       "      <th>3</th>\n",
       "      <th>4</th>\n",
       "    </tr>\n",
       "    <tr>\n",
       "      <th>ball_group</th>\n",
       "      <th></th>\n",
       "      <th></th>\n",
       "      <th></th>\n",
       "    </tr>\n",
       "  </thead>\n",
       "  <tbody>\n",
       "    <tr>\n",
       "      <th>00</th>\n",
       "      <td>8</td>\n",
       "      <td>34</td>\n",
       "      <td>10</td>\n",
       "    </tr>\n",
       "    <tr>\n",
       "      <th>01</th>\n",
       "      <td>6</td>\n",
       "      <td>76</td>\n",
       "      <td>151</td>\n",
       "    </tr>\n",
       "    <tr>\n",
       "      <th>02</th>\n",
       "      <td>8</td>\n",
       "      <td>182</td>\n",
       "      <td>188</td>\n",
       "    </tr>\n",
       "    <tr>\n",
       "      <th>03</th>\n",
       "      <td>28</td>\n",
       "      <td>437</td>\n",
       "      <td>384</td>\n",
       "    </tr>\n",
       "    <tr>\n",
       "      <th>04</th>\n",
       "      <td>57</td>\n",
       "      <td>553</td>\n",
       "      <td>540</td>\n",
       "    </tr>\n",
       "    <tr>\n",
       "      <th>05</th>\n",
       "      <td>67</td>\n",
       "      <td>577</td>\n",
       "      <td>790</td>\n",
       "    </tr>\n",
       "    <tr>\n",
       "      <th>06</th>\n",
       "      <td>92</td>\n",
       "      <td>621</td>\n",
       "      <td>846</td>\n",
       "    </tr>\n",
       "    <tr>\n",
       "      <th>07</th>\n",
       "      <td>98</td>\n",
       "      <td>544</td>\n",
       "      <td>959</td>\n",
       "    </tr>\n",
       "    <tr>\n",
       "      <th>08</th>\n",
       "      <td>70</td>\n",
       "      <td>452</td>\n",
       "      <td>869</td>\n",
       "    </tr>\n",
       "    <tr>\n",
       "      <th>09</th>\n",
       "      <td>180</td>\n",
       "      <td>1235</td>\n",
       "      <td>3437</td>\n",
       "    </tr>\n",
       "  </tbody>\n",
       "</table>\n",
       "</div>"
      ],
      "text/plain": [
       "           count            \n",
       "Статус        -1     3     4\n",
       "ball_group                  \n",
       "00             8    34    10\n",
       "01             6    76   151\n",
       "02             8   182   188\n",
       "03            28   437   384\n",
       "04            57   553   540\n",
       "05            67   577   790\n",
       "06            92   621   846\n",
       "07            98   544   959\n",
       "08            70   452   869\n",
       "09           180  1235  3437"
      ]
     },
     "execution_count": 168,
     "metadata": {},
     "output_type": "execute_result"
    }
   ],
   "source": [
    "df_ball_status = df.pivot_table(index = 'ball_group', columns = 'Статус', values = 'ID', aggfunc = ['count'])\n",
    "df_ball_status"
   ]
  },
  {
   "cell_type": "code",
   "execution_count": 169,
   "id": "050e09d0",
   "metadata": {},
   "outputs": [],
   "source": [
    "df_ball_status = df_ball_status.fillna(0)"
   ]
  },
  {
   "cell_type": "code",
   "execution_count": 170,
   "id": "8b71fcd1",
   "metadata": {},
   "outputs": [],
   "source": [
    "df_ball_status.columns = ['-1', '3', '4']"
   ]
  },
  {
   "cell_type": "code",
   "execution_count": 171,
   "id": "5424dc97",
   "metadata": {},
   "outputs": [],
   "source": [
    "df_ball_status['-1/sum']=df_ball_status['-1']/(df_ball_status['-1']+df_ball_status['3']+df_ball_status['4'])"
   ]
  },
  {
   "cell_type": "code",
   "execution_count": 172,
   "id": "a34a4ee7",
   "metadata": {},
   "outputs": [],
   "source": [
    "df_ball_status['3/sum']=df_ball_status['3']/(df_ball_status['-1']+df_ball_status['3']+df_ball_status['4'])"
   ]
  },
  {
   "cell_type": "code",
   "execution_count": 173,
   "id": "31395405",
   "metadata": {
    "scrolled": false
   },
   "outputs": [
    {
     "data": {
      "text/html": [
       "<div>\n",
       "<style scoped>\n",
       "    .dataframe tbody tr th:only-of-type {\n",
       "        vertical-align: middle;\n",
       "    }\n",
       "\n",
       "    .dataframe tbody tr th {\n",
       "        vertical-align: top;\n",
       "    }\n",
       "\n",
       "    .dataframe thead th {\n",
       "        text-align: right;\n",
       "    }\n",
       "</style>\n",
       "<table border=\"1\" class=\"dataframe\">\n",
       "  <thead>\n",
       "    <tr style=\"text-align: right;\">\n",
       "      <th></th>\n",
       "      <th>-1</th>\n",
       "      <th>3</th>\n",
       "      <th>4</th>\n",
       "      <th>-1/sum</th>\n",
       "      <th>3/sum</th>\n",
       "    </tr>\n",
       "    <tr>\n",
       "      <th>ball_group</th>\n",
       "      <th></th>\n",
       "      <th></th>\n",
       "      <th></th>\n",
       "      <th></th>\n",
       "      <th></th>\n",
       "    </tr>\n",
       "  </thead>\n",
       "  <tbody>\n",
       "    <tr>\n",
       "      <th>00</th>\n",
       "      <td>8</td>\n",
       "      <td>34</td>\n",
       "      <td>10</td>\n",
       "      <td>0.153846</td>\n",
       "      <td>0.653846</td>\n",
       "    </tr>\n",
       "    <tr>\n",
       "      <th>01</th>\n",
       "      <td>6</td>\n",
       "      <td>76</td>\n",
       "      <td>151</td>\n",
       "      <td>0.025751</td>\n",
       "      <td>0.326180</td>\n",
       "    </tr>\n",
       "    <tr>\n",
       "      <th>02</th>\n",
       "      <td>8</td>\n",
       "      <td>182</td>\n",
       "      <td>188</td>\n",
       "      <td>0.021164</td>\n",
       "      <td>0.481481</td>\n",
       "    </tr>\n",
       "    <tr>\n",
       "      <th>03</th>\n",
       "      <td>28</td>\n",
       "      <td>437</td>\n",
       "      <td>384</td>\n",
       "      <td>0.032980</td>\n",
       "      <td>0.514723</td>\n",
       "    </tr>\n",
       "    <tr>\n",
       "      <th>04</th>\n",
       "      <td>57</td>\n",
       "      <td>553</td>\n",
       "      <td>540</td>\n",
       "      <td>0.049565</td>\n",
       "      <td>0.480870</td>\n",
       "    </tr>\n",
       "    <tr>\n",
       "      <th>05</th>\n",
       "      <td>67</td>\n",
       "      <td>577</td>\n",
       "      <td>790</td>\n",
       "      <td>0.046722</td>\n",
       "      <td>0.402371</td>\n",
       "    </tr>\n",
       "    <tr>\n",
       "      <th>06</th>\n",
       "      <td>92</td>\n",
       "      <td>621</td>\n",
       "      <td>846</td>\n",
       "      <td>0.059012</td>\n",
       "      <td>0.398332</td>\n",
       "    </tr>\n",
       "    <tr>\n",
       "      <th>07</th>\n",
       "      <td>98</td>\n",
       "      <td>544</td>\n",
       "      <td>959</td>\n",
       "      <td>0.061212</td>\n",
       "      <td>0.339788</td>\n",
       "    </tr>\n",
       "    <tr>\n",
       "      <th>08</th>\n",
       "      <td>70</td>\n",
       "      <td>452</td>\n",
       "      <td>869</td>\n",
       "      <td>0.050324</td>\n",
       "      <td>0.324946</td>\n",
       "    </tr>\n",
       "    <tr>\n",
       "      <th>09</th>\n",
       "      <td>180</td>\n",
       "      <td>1235</td>\n",
       "      <td>3437</td>\n",
       "      <td>0.037098</td>\n",
       "      <td>0.254534</td>\n",
       "    </tr>\n",
       "  </tbody>\n",
       "</table>\n",
       "</div>"
      ],
      "text/plain": [
       "             -1     3     4    -1/sum     3/sum\n",
       "ball_group                                     \n",
       "00            8    34    10  0.153846  0.653846\n",
       "01            6    76   151  0.025751  0.326180\n",
       "02            8   182   188  0.021164  0.481481\n",
       "03           28   437   384  0.032980  0.514723\n",
       "04           57   553   540  0.049565  0.480870\n",
       "05           67   577   790  0.046722  0.402371\n",
       "06           92   621   846  0.059012  0.398332\n",
       "07           98   544   959  0.061212  0.339788\n",
       "08           70   452   869  0.050324  0.324946\n",
       "09          180  1235  3437  0.037098  0.254534"
      ]
     },
     "execution_count": 173,
     "metadata": {},
     "output_type": "execute_result"
    }
   ],
   "source": [
    "df_ball_status"
   ]
  },
  {
   "cell_type": "markdown",
   "id": "576bb2e5",
   "metadata": {},
   "source": [
    "**Город_ПП**"
   ]
  },
  {
   "cell_type": "code",
   "execution_count": 174,
   "id": "effdec82",
   "metadata": {},
   "outputs": [],
   "source": [
    "df['Город_ПП']=df['Город_ПП'].fillna('н.д.')"
   ]
  },
  {
   "cell_type": "code",
   "execution_count": 175,
   "id": "e3ab1870",
   "metadata": {
    "scrolled": false
   },
   "outputs": [
    {
     "name": "stderr",
     "output_type": "stream",
     "text": [
      "C:\\anaconda3\\envs\\ds_practicum_env\\lib\\site-packages\\pandas\\core\\indexing.py:1637: SettingWithCopyWarning: \n",
      "A value is trying to be set on a copy of a slice from a DataFrame\n",
      "\n",
      "See the caveats in the documentation: https://pandas.pydata.org/pandas-docs/stable/user_guide/indexing.html#returning-a-view-versus-a-copy\n",
      "  self._setitem_single_block(indexer, value, name)\n"
     ]
    }
   ],
   "source": [
    "df['Город_ПП'].loc[df[df['Город_ПП'].str.contains('Барнаул')]['Город_ПП'].index]='Барнаул'"
   ]
  },
  {
   "cell_type": "code",
   "execution_count": 176,
   "id": "a32957f2",
   "metadata": {},
   "outputs": [],
   "source": [
    "town = ['Барнаул']"
   ]
  },
  {
   "cell_type": "code",
   "execution_count": 177,
   "id": "853f9114",
   "metadata": {},
   "outputs": [],
   "source": [
    "df['Город_ПП'].loc[df[~df['Город_ПП'].isin(town)]['Город_ПП'].index]=1"
   ]
  },
  {
   "cell_type": "code",
   "execution_count": 178,
   "id": "5e2560da",
   "metadata": {
    "scrolled": true
   },
   "outputs": [
    {
     "data": {
      "text/plain": [
       "Барнаул    6832\n",
       "1          6667\n",
       "Name: Город_ПП, dtype: int64"
      ]
     },
     "execution_count": 178,
     "metadata": {},
     "output_type": "execute_result"
    }
   ],
   "source": [
    "df['Город_ПП'].value_counts()"
   ]
  },
  {
   "cell_type": "code",
   "execution_count": 179,
   "id": "26290ab9",
   "metadata": {},
   "outputs": [],
   "source": [
    "def town(c):\n",
    "    if c =='Барнаул':\n",
    "        return 0\n",
    "    else:\n",
    "        return 1"
   ]
  },
  {
   "cell_type": "code",
   "execution_count": 180,
   "id": "ccbe49c7",
   "metadata": {},
   "outputs": [],
   "source": [
    "df['Город_ПП']=df['Город_ПП'].apply(town)"
   ]
  },
  {
   "cell_type": "code",
   "execution_count": 181,
   "id": "5c455407",
   "metadata": {
    "scrolled": false
   },
   "outputs": [
    {
     "data": {
      "text/plain": [
       "0    6832\n",
       "1    6667\n",
       "Name: Город_ПП, dtype: int64"
      ]
     },
     "execution_count": 181,
     "metadata": {},
     "output_type": "execute_result"
    }
   ],
   "source": [
    "df['Город_ПП'].value_counts()"
   ]
  },
  {
   "cell_type": "code",
   "execution_count": 182,
   "id": "573352a8",
   "metadata": {
    "scrolled": true
   },
   "outputs": [],
   "source": [
    "df_town_status = df.pivot_table(index = 'Город_ПП', columns = 'Статус', values = 'ID', aggfunc = ['count'])"
   ]
  },
  {
   "cell_type": "code",
   "execution_count": 183,
   "id": "2da63d99",
   "metadata": {},
   "outputs": [],
   "source": [
    "df_town_status.columns = ['-1', '3', '4']"
   ]
  },
  {
   "cell_type": "code",
   "execution_count": 184,
   "id": "e5d378d3",
   "metadata": {
    "scrolled": true
   },
   "outputs": [
    {
     "data": {
      "text/html": [
       "<div>\n",
       "<style scoped>\n",
       "    .dataframe tbody tr th:only-of-type {\n",
       "        vertical-align: middle;\n",
       "    }\n",
       "\n",
       "    .dataframe tbody tr th {\n",
       "        vertical-align: top;\n",
       "    }\n",
       "\n",
       "    .dataframe thead th {\n",
       "        text-align: right;\n",
       "    }\n",
       "</style>\n",
       "<table border=\"1\" class=\"dataframe\">\n",
       "  <thead>\n",
       "    <tr style=\"text-align: right;\">\n",
       "      <th></th>\n",
       "      <th>-1</th>\n",
       "      <th>3</th>\n",
       "      <th>4</th>\n",
       "      <th>-1/sum</th>\n",
       "      <th>3/sum</th>\n",
       "    </tr>\n",
       "    <tr>\n",
       "      <th>Город_ПП</th>\n",
       "      <th></th>\n",
       "      <th></th>\n",
       "      <th></th>\n",
       "      <th></th>\n",
       "      <th></th>\n",
       "    </tr>\n",
       "  </thead>\n",
       "  <tbody>\n",
       "    <tr>\n",
       "      <th>0</th>\n",
       "      <td>325</td>\n",
       "      <td>2073</td>\n",
       "      <td>4434</td>\n",
       "      <td>0.047570</td>\n",
       "      <td>0.303425</td>\n",
       "    </tr>\n",
       "    <tr>\n",
       "      <th>1</th>\n",
       "      <td>289</td>\n",
       "      <td>2638</td>\n",
       "      <td>3740</td>\n",
       "      <td>0.043348</td>\n",
       "      <td>0.395680</td>\n",
       "    </tr>\n",
       "  </tbody>\n",
       "</table>\n",
       "</div>"
      ],
      "text/plain": [
       "           -1     3     4    -1/sum     3/sum\n",
       "Город_ПП                                     \n",
       "0         325  2073  4434  0.047570  0.303425\n",
       "1         289  2638  3740  0.043348  0.395680"
      ]
     },
     "execution_count": 184,
     "metadata": {},
     "output_type": "execute_result"
    }
   ],
   "source": [
    "df_town_status['-1/sum']=df_town_status['-1']/(df_town_status['-1']+df_town_status['3']+df_town_status['4'])\n",
    "df_town_status['3/sum']=df_town_status['3']/(df_town_status['-1']+df_town_status['3']+df_town_status['4'])\n",
    "df_town_status"
   ]
  },
  {
   "cell_type": "markdown",
   "id": "cc55b031",
   "metadata": {},
   "source": [
    "**Подготовка столбцов к разделению на train/test**"
   ]
  },
  {
   "cell_type": "code",
   "execution_count": 185,
   "id": "8041832f",
   "metadata": {
    "scrolled": false
   },
   "outputs": [
    {
     "data": {
      "text/plain": [
       "Index(['ID', 'Код_группы', 'Год_Поступления', 'Пол', 'Основания',\n",
       "       'Изучаемый_Язык', 'Дата_Рождения', 'Уч_Заведение', 'Где_Находится_УЗ',\n",
       "       'Год_Окончания_УЗ', 'Пособие', 'Страна_ПП', 'Регион_ПП', 'Город_ПП',\n",
       "       'Общежитие', 'Наличие_Матери', 'Наличие_Отца', 'Страна_Родители',\n",
       "       'Опекунство', 'Село', 'Иностранец', 'КодФакультета', 'СрБаллАттестата',\n",
       "       'Статус', 'kurs', 'Возраст', 'ball_group'],\n",
       "      dtype='object')"
      ]
     },
     "execution_count": 185,
     "metadata": {},
     "output_type": "execute_result"
    }
   ],
   "source": [
    "df.columns"
   ]
  },
  {
   "cell_type": "code",
   "execution_count": 186,
   "id": "110ab780",
   "metadata": {},
   "outputs": [],
   "source": [
    "columns_to_drop = ['ID','Год_Окончания_УЗ',\n",
    "       'Изучаемый_Язык', 'Дата_Рождения', 'Где_Находится_УЗ',\n",
    "       'Страна_ПП', 'Регион_ПП', 'СрБаллАттестата', 'Иностранец']"
   ]
  },
  {
   "cell_type": "code",
   "execution_count": 187,
   "id": "97400897",
   "metadata": {
    "scrolled": true
   },
   "outputs": [],
   "source": [
    "df = df.drop(columns = columns_to_drop, axis=1)"
   ]
  },
  {
   "cell_type": "code",
   "execution_count": 188,
   "id": "c9a0e79d",
   "metadata": {
    "scrolled": true
   },
   "outputs": [
    {
     "data": {
      "text/plain": [
       "Index(['Код_группы', 'Год_Поступления', 'Пол', 'Основания', 'Уч_Заведение',\n",
       "       'Пособие', 'Город_ПП', 'Общежитие', 'Наличие_Матери', 'Наличие_Отца',\n",
       "       'Страна_Родители', 'Опекунство', 'Село', 'КодФакультета', 'Статус',\n",
       "       'kurs', 'Возраст', 'ball_group'],\n",
       "      dtype='object')"
      ]
     },
     "execution_count": 188,
     "metadata": {},
     "output_type": "execute_result"
    }
   ],
   "source": [
    "df.columns"
   ]
  },
  {
   "cell_type": "code",
   "execution_count": 189,
   "id": "f85d2735",
   "metadata": {},
   "outputs": [],
   "source": [
    "df['ball_group']=df['ball_group'].astype('str')"
   ]
  },
  {
   "cell_type": "code",
   "execution_count": 190,
   "id": "73e7a008",
   "metadata": {},
   "outputs": [],
   "source": [
    "col_int = ['Пособие','Общежитие','Село']"
   ]
  },
  {
   "cell_type": "code",
   "execution_count": 191,
   "id": "af1bf776",
   "metadata": {},
   "outputs": [],
   "source": [
    "df[col_int]= df[col_int].astype('int')"
   ]
  },
  {
   "cell_type": "code",
   "execution_count": 192,
   "id": "ccb93cc5",
   "metadata": {},
   "outputs": [],
   "source": [
    "df = pd.get_dummies(df, drop_first=True)"
   ]
  },
  {
   "cell_type": "code",
   "execution_count": 193,
   "id": "5d0cd033",
   "metadata": {
    "scrolled": false
   },
   "outputs": [
    {
     "name": "stdout",
     "output_type": "stream",
     "text": [
      "<class 'pandas.core.frame.DataFrame'>\n",
      "Int64Index: 13499 entries, 0 to 13583\n",
      "Data columns (total 60 columns):\n",
      " #   Column                     Non-Null Count  Dtype  \n",
      "---  ------                     --------------  -----  \n",
      " 0   Код_группы                 13499 non-null  int32  \n",
      " 1   Год_Поступления            13499 non-null  int64  \n",
      " 2   Пол                        13499 non-null  int64  \n",
      " 3   Пособие                    13499 non-null  int32  \n",
      " 4   Город_ПП                   13499 non-null  int64  \n",
      " 5   Общежитие                  13499 non-null  int32  \n",
      " 6   Наличие_Матери             13499 non-null  int64  \n",
      " 7   Наличие_Отца               13499 non-null  float64\n",
      " 8   Опекунство                 13499 non-null  float64\n",
      " 9   Село                       13499 non-null  int32  \n",
      " 10  Статус                     13499 non-null  int64  \n",
      " 11  Возраст                    13499 non-null  int64  \n",
      " 12  Основания_ДН               13499 non-null  uint8  \n",
      " 13  Основания_ОО               13499 non-null  uint8  \n",
      " 14  Основания_СН               13499 non-null  uint8  \n",
      " 15  Основания_ЦН               13499 non-null  uint8  \n",
      " 16  Уч_Заведение_гимназия      13499 non-null  uint8  \n",
      " 17  Уч_Заведение_иное          13499 non-null  uint8  \n",
      " 18  Уч_Заведение_институт      13499 non-null  uint8  \n",
      " 19  Уч_Заведение_кадет_корпус  13499 non-null  uint8  \n",
      " 20  Уч_Заведение_колледж       13499 non-null  uint8  \n",
      " 21  Уч_Заведение_н.д.          13499 non-null  uint8  \n",
      " 22  Уч_Заведение_техникум      13499 non-null  uint8  \n",
      " 23  Уч_Заведение_университет   13499 non-null  uint8  \n",
      " 24  Уч_Заведение_училище       13499 non-null  uint8  \n",
      " 25  Уч_Заведение_школа         13499 non-null  uint8  \n",
      " 26  Страна_Родители_Не академ  13499 non-null  uint8  \n",
      " 27  Страна_Родители_Россия     13499 non-null  uint8  \n",
      " 28  КодФакультета_25.0         13499 non-null  uint8  \n",
      " 29  КодФакультета_26.0         13499 non-null  uint8  \n",
      " 30  КодФакультета_27.0         13499 non-null  uint8  \n",
      " 31  КодФакультета_28.0         13499 non-null  uint8  \n",
      " 32  КодФакультета_30.0         13499 non-null  uint8  \n",
      " 33  КодФакультета_31.0         13499 non-null  uint8  \n",
      " 34  КодФакультета_34.0         13499 non-null  uint8  \n",
      " 35  КодФакультета_35.0         13499 non-null  uint8  \n",
      " 36  КодФакультета_36.0         13499 non-null  uint8  \n",
      " 37  КодФакультета_37.0         13499 non-null  uint8  \n",
      " 38  КодФакультета_40.0         13499 non-null  uint8  \n",
      " 39  КодФакультета_41.0         13499 non-null  uint8  \n",
      " 40  КодФакультета_45.0         13499 non-null  uint8  \n",
      " 41  КодФакультета_46.0         13499 non-null  uint8  \n",
      " 42  КодФакультета_47.0         13499 non-null  uint8  \n",
      " 43  КодФакультета_48.0         13499 non-null  uint8  \n",
      " 44  КодФакультета_49.0         13499 non-null  uint8  \n",
      " 45  КодФакультета_51.0         13499 non-null  uint8  \n",
      " 46  КодФакультета_53.0         13499 non-null  uint8  \n",
      " 47  kurs_one                   13499 non-null  uint8  \n",
      " 48  kurs_three                 13499 non-null  uint8  \n",
      " 49  kurs_two                   13499 non-null  uint8  \n",
      " 50  kurs_zero                  13499 non-null  uint8  \n",
      " 51  ball_group_01              13499 non-null  uint8  \n",
      " 52  ball_group_02              13499 non-null  uint8  \n",
      " 53  ball_group_03              13499 non-null  uint8  \n",
      " 54  ball_group_04              13499 non-null  uint8  \n",
      " 55  ball_group_05              13499 non-null  uint8  \n",
      " 56  ball_group_06              13499 non-null  uint8  \n",
      " 57  ball_group_07              13499 non-null  uint8  \n",
      " 58  ball_group_08              13499 non-null  uint8  \n",
      " 59  ball_group_09              13499 non-null  uint8  \n",
      "dtypes: float64(2), int32(4), int64(6), uint8(48)\n",
      "memory usage: 2.3 MB\n"
     ]
    }
   ],
   "source": [
    "df.info()"
   ]
  },
  {
   "cell_type": "markdown",
   "id": "0bcfb0f7",
   "metadata": {},
   "source": [
    "**Деление выборки на train / test**"
   ]
  },
  {
   "cell_type": "code",
   "execution_count": 194,
   "id": "5a640774",
   "metadata": {},
   "outputs": [],
   "source": [
    "X_train, X_test, y_train, y_test = train_test_split(\n",
    "    df.drop(columns = ['Статус'], axis=1), df['Статус'], stratify = df['Статус'], test_size=0.1, random_state=20220902)"
   ]
  },
  {
   "cell_type": "code",
   "execution_count": 195,
   "id": "f836d8a1",
   "metadata": {},
   "outputs": [
    {
     "name": "stdout",
     "output_type": "stream",
     "text": [
      "(12149, 59)\n",
      "(12149,)\n"
     ]
    }
   ],
   "source": [
    "print(X_train.shape)\n",
    "print(y_train.shape)"
   ]
  },
  {
   "cell_type": "markdown",
   "id": "bd8542fd",
   "metadata": {},
   "source": [
    "**Light GBM**"
   ]
  },
  {
   "cell_type": "code",
   "execution_count": 196,
   "id": "26816058",
   "metadata": {},
   "outputs": [],
   "source": [
    "lgbm = LGBMClassifier(learning_rate = 0.1, boosting_type = 'gbdt', max_depth=20)"
   ]
  },
  {
   "cell_type": "code",
   "execution_count": 197,
   "id": "fbd4724e",
   "metadata": {},
   "outputs": [],
   "source": [
    "parameters_lgbm = {'max_depth': [10, 20, 30, 40],\n",
    "                  'learning_rate':[0.1, 0.15, 0.5, 1]}"
   ]
  },
  {
   "cell_type": "code",
   "execution_count": 198,
   "id": "58c7e2cd",
   "metadata": {},
   "outputs": [],
   "source": [
    "#lgbm = GridSearchCV(lgbm, parameters_lgbm)"
   ]
  },
  {
   "cell_type": "code",
   "execution_count": 199,
   "id": "fedf5cfe",
   "metadata": {},
   "outputs": [
    {
     "name": "stdout",
     "output_type": "stream",
     "text": [
      "CPU times: total: 0 ns\n",
      "Wall time: 0 ns\n"
     ]
    }
   ],
   "source": [
    "%%time\n",
    "#lgbm.fit(X_train, y_train)"
   ]
  },
  {
   "cell_type": "code",
   "execution_count": 200,
   "id": "e451b6ab",
   "metadata": {},
   "outputs": [],
   "source": [
    "#lgbm.best_params_"
   ]
  },
  {
   "cell_type": "code",
   "execution_count": 201,
   "id": "80732a0d",
   "metadata": {},
   "outputs": [],
   "source": [
    "#pred_1 = lgbm.predict(X_test)"
   ]
  },
  {
   "cell_type": "code",
   "execution_count": 202,
   "id": "157e9f09",
   "metadata": {
    "scrolled": false
   },
   "outputs": [],
   "source": [
    "#f1_score(y_test, pred_1, average='macro', zero_division = 0)"
   ]
  },
  {
   "cell_type": "code",
   "execution_count": 203,
   "id": "c27cf0ac",
   "metadata": {},
   "outputs": [],
   "source": [
    "#pred = lgbm.predict(X_train)"
   ]
  },
  {
   "cell_type": "code",
   "execution_count": 204,
   "id": "941f7350",
   "metadata": {},
   "outputs": [],
   "source": [
    "#f1_score(y_train, pred, average='macro', zero_division = 0)"
   ]
  },
  {
   "cell_type": "code",
   "execution_count": 205,
   "id": "28ad2db9",
   "metadata": {
    "scrolled": true
   },
   "outputs": [],
   "source": [
    "#print(classification_report(y_test, pred_1))"
   ]
  },
  {
   "cell_type": "code",
   "execution_count": 322,
   "id": "47f52524",
   "metadata": {},
   "outputs": [],
   "source": [
    "cat = CatBoostClassifier(boosting_type = 'Ordered', learning_rate = 0.1, depth= 10, l2_leaf_reg = 5, random_state=20220902, verbose = False)"
   ]
  },
  {
   "cell_type": "code",
   "execution_count": 207,
   "id": "7f1308a7",
   "metadata": {},
   "outputs": [],
   "source": [
    "#CatBoostClassifier(boosting_type = 'Ordered', learning_rate = 0.1, depth= 10, l2_leaf_reg = 2, random_state=0, verbose = False)"
   ]
  },
  {
   "cell_type": "code",
   "execution_count": 208,
   "id": "533f14a0",
   "metadata": {},
   "outputs": [],
   "source": [
    "#parameters_cat = {'learning_rate': [0.01, 0.03, 0.1, 0.15, 0.3],\n",
    "#                 'depth': [3, 6, 12],\n",
    "#                'l2_leaf_reg': [1, 5]}\n",
    "        #'depth': [3, 6, 12],\n",
    "        #'l2_leaf_reg': [1, 5]}"
   ]
  },
  {
   "cell_type": "code",
   "execution_count": 209,
   "id": "829649e4",
   "metadata": {},
   "outputs": [],
   "source": [
    "#cat = GridSearchCV(cat, parameters_cat)"
   ]
  },
  {
   "cell_type": "code",
   "execution_count": 324,
   "id": "4dfd7644",
   "metadata": {
    "scrolled": true
   },
   "outputs": [
    {
     "name": "stdout",
     "output_type": "stream",
     "text": [
      "CPU times: total: 8min 34s\n",
      "Wall time: 3min\n"
     ]
    },
    {
     "data": {
      "text/plain": [
       "<catboost.core.CatBoostClassifier at 0x28c64275b50>"
      ]
     },
     "execution_count": 324,
     "metadata": {},
     "output_type": "execute_result"
    }
   ],
   "source": [
    "%%time\n",
    "cat.fit(X_train, y_train)"
   ]
  },
  {
   "cell_type": "code",
   "execution_count": 211,
   "id": "fd4260af",
   "metadata": {},
   "outputs": [],
   "source": [
    "#cat.best_params_"
   ]
  },
  {
   "cell_type": "code",
   "execution_count": 325,
   "id": "9c32d123",
   "metadata": {},
   "outputs": [],
   "source": [
    "pred_2 = cat.predict(X_test)"
   ]
  },
  {
   "cell_type": "code",
   "execution_count": 327,
   "id": "edffa26b",
   "metadata": {
    "scrolled": false
   },
   "outputs": [
    {
     "data": {
      "text/plain": [
       "0.8134036623447775"
      ]
     },
     "execution_count": 327,
     "metadata": {},
     "output_type": "execute_result"
    }
   ],
   "source": [
    "f1_score(y_test, pred_2, average='macro', zero_division = 0)"
   ]
  },
  {
   "cell_type": "code",
   "execution_count": 328,
   "id": "e8531f77",
   "metadata": {
    "scrolled": true
   },
   "outputs": [
    {
     "name": "stdout",
     "output_type": "stream",
     "text": [
      "              precision    recall  f1-score   support\n",
      "\n",
      "          -1       0.74      0.57      0.65        61\n",
      "           3       0.91      0.81      0.85       471\n",
      "           4       0.90      0.98      0.94       818\n",
      "\n",
      "    accuracy                           0.90      1350\n",
      "   macro avg       0.85      0.79      0.81      1350\n",
      "weighted avg       0.90      0.90      0.90      1350\n",
      "\n"
     ]
    }
   ],
   "source": [
    "print(classification_report(y_test, pred_2))"
   ]
  },
  {
   "cell_type": "code",
   "execution_count": 329,
   "id": "3af678e8",
   "metadata": {},
   "outputs": [
    {
     "data": {
      "text/html": [
       "<div>\n",
       "<style scoped>\n",
       "    .dataframe tbody tr th:only-of-type {\n",
       "        vertical-align: middle;\n",
       "    }\n",
       "\n",
       "    .dataframe tbody tr th {\n",
       "        vertical-align: top;\n",
       "    }\n",
       "\n",
       "    .dataframe thead th {\n",
       "        text-align: right;\n",
       "    }\n",
       "</style>\n",
       "<table border=\"1\" class=\"dataframe\">\n",
       "  <thead>\n",
       "    <tr style=\"text-align: right;\">\n",
       "      <th></th>\n",
       "      <th>features</th>\n",
       "      <th>coef</th>\n",
       "    </tr>\n",
       "  </thead>\n",
       "  <tbody>\n",
       "    <tr>\n",
       "      <th>0</th>\n",
       "      <td>Код_группы</td>\n",
       "      <td>31.06</td>\n",
       "    </tr>\n",
       "    <tr>\n",
       "      <th>1</th>\n",
       "      <td>Год_Поступления</td>\n",
       "      <td>11.36</td>\n",
       "    </tr>\n",
       "    <tr>\n",
       "      <th>2</th>\n",
       "      <td>Пол</td>\n",
       "      <td>1.92</td>\n",
       "    </tr>\n",
       "    <tr>\n",
       "      <th>3</th>\n",
       "      <td>Пособие</td>\n",
       "      <td>1.73</td>\n",
       "    </tr>\n",
       "    <tr>\n",
       "      <th>4</th>\n",
       "      <td>Город_ПП</td>\n",
       "      <td>0.79</td>\n",
       "    </tr>\n",
       "    <tr>\n",
       "      <th>5</th>\n",
       "      <td>Общежитие</td>\n",
       "      <td>0.47</td>\n",
       "    </tr>\n",
       "    <tr>\n",
       "      <th>6</th>\n",
       "      <td>Наличие_Матери</td>\n",
       "      <td>0.85</td>\n",
       "    </tr>\n",
       "    <tr>\n",
       "      <th>7</th>\n",
       "      <td>Наличие_Отца</td>\n",
       "      <td>0.66</td>\n",
       "    </tr>\n",
       "    <tr>\n",
       "      <th>8</th>\n",
       "      <td>Опекунство</td>\n",
       "      <td>0.00</td>\n",
       "    </tr>\n",
       "    <tr>\n",
       "      <th>9</th>\n",
       "      <td>Село</td>\n",
       "      <td>0.37</td>\n",
       "    </tr>\n",
       "    <tr>\n",
       "      <th>10</th>\n",
       "      <td>Возраст</td>\n",
       "      <td>7.66</td>\n",
       "    </tr>\n",
       "    <tr>\n",
       "      <th>11</th>\n",
       "      <td>Основания_ДН</td>\n",
       "      <td>1.87</td>\n",
       "    </tr>\n",
       "    <tr>\n",
       "      <th>12</th>\n",
       "      <td>Основания_ОО</td>\n",
       "      <td>8.36</td>\n",
       "    </tr>\n",
       "    <tr>\n",
       "      <th>13</th>\n",
       "      <td>Основания_СН</td>\n",
       "      <td>7.57</td>\n",
       "    </tr>\n",
       "    <tr>\n",
       "      <th>14</th>\n",
       "      <td>Основания_ЦН</td>\n",
       "      <td>0.08</td>\n",
       "    </tr>\n",
       "    <tr>\n",
       "      <th>15</th>\n",
       "      <td>Уч_Заведение_гимназия</td>\n",
       "      <td>1.10</td>\n",
       "    </tr>\n",
       "    <tr>\n",
       "      <th>16</th>\n",
       "      <td>Уч_Заведение_иное</td>\n",
       "      <td>0.00</td>\n",
       "    </tr>\n",
       "    <tr>\n",
       "      <th>17</th>\n",
       "      <td>Уч_Заведение_институт</td>\n",
       "      <td>0.11</td>\n",
       "    </tr>\n",
       "    <tr>\n",
       "      <th>18</th>\n",
       "      <td>Уч_Заведение_кадет_корпус</td>\n",
       "      <td>0.00</td>\n",
       "    </tr>\n",
       "    <tr>\n",
       "      <th>19</th>\n",
       "      <td>Уч_Заведение_колледж</td>\n",
       "      <td>0.63</td>\n",
       "    </tr>\n",
       "    <tr>\n",
       "      <th>20</th>\n",
       "      <td>Уч_Заведение_н.д.</td>\n",
       "      <td>0.89</td>\n",
       "    </tr>\n",
       "    <tr>\n",
       "      <th>21</th>\n",
       "      <td>Уч_Заведение_техникум</td>\n",
       "      <td>0.12</td>\n",
       "    </tr>\n",
       "    <tr>\n",
       "      <th>22</th>\n",
       "      <td>Уч_Заведение_университет</td>\n",
       "      <td>1.84</td>\n",
       "    </tr>\n",
       "    <tr>\n",
       "      <th>23</th>\n",
       "      <td>Уч_Заведение_училище</td>\n",
       "      <td>0.12</td>\n",
       "    </tr>\n",
       "    <tr>\n",
       "      <th>24</th>\n",
       "      <td>Уч_Заведение_школа</td>\n",
       "      <td>1.69</td>\n",
       "    </tr>\n",
       "    <tr>\n",
       "      <th>25</th>\n",
       "      <td>Страна_Родители_Не академ</td>\n",
       "      <td>0.34</td>\n",
       "    </tr>\n",
       "    <tr>\n",
       "      <th>26</th>\n",
       "      <td>Страна_Родители_Россия</td>\n",
       "      <td>0.45</td>\n",
       "    </tr>\n",
       "    <tr>\n",
       "      <th>27</th>\n",
       "      <td>КодФакультета_25.0</td>\n",
       "      <td>0.92</td>\n",
       "    </tr>\n",
       "    <tr>\n",
       "      <th>28</th>\n",
       "      <td>КодФакультета_26.0</td>\n",
       "      <td>2.11</td>\n",
       "    </tr>\n",
       "    <tr>\n",
       "      <th>29</th>\n",
       "      <td>КодФакультета_27.0</td>\n",
       "      <td>0.33</td>\n",
       "    </tr>\n",
       "    <tr>\n",
       "      <th>30</th>\n",
       "      <td>КодФакультета_28.0</td>\n",
       "      <td>0.77</td>\n",
       "    </tr>\n",
       "    <tr>\n",
       "      <th>31</th>\n",
       "      <td>КодФакультета_30.0</td>\n",
       "      <td>0.47</td>\n",
       "    </tr>\n",
       "    <tr>\n",
       "      <th>32</th>\n",
       "      <td>КодФакультета_31.0</td>\n",
       "      <td>0.52</td>\n",
       "    </tr>\n",
       "    <tr>\n",
       "      <th>33</th>\n",
       "      <td>КодФакультета_34.0</td>\n",
       "      <td>0.18</td>\n",
       "    </tr>\n",
       "    <tr>\n",
       "      <th>34</th>\n",
       "      <td>КодФакультета_35.0</td>\n",
       "      <td>0.23</td>\n",
       "    </tr>\n",
       "    <tr>\n",
       "      <th>35</th>\n",
       "      <td>КодФакультета_36.0</td>\n",
       "      <td>0.24</td>\n",
       "    </tr>\n",
       "    <tr>\n",
       "      <th>36</th>\n",
       "      <td>КодФакультета_37.0</td>\n",
       "      <td>0.00</td>\n",
       "    </tr>\n",
       "    <tr>\n",
       "      <th>37</th>\n",
       "      <td>КодФакультета_40.0</td>\n",
       "      <td>0.29</td>\n",
       "    </tr>\n",
       "    <tr>\n",
       "      <th>38</th>\n",
       "      <td>КодФакультета_41.0</td>\n",
       "      <td>2.00</td>\n",
       "    </tr>\n",
       "    <tr>\n",
       "      <th>39</th>\n",
       "      <td>КодФакультета_45.0</td>\n",
       "      <td>0.11</td>\n",
       "    </tr>\n",
       "    <tr>\n",
       "      <th>40</th>\n",
       "      <td>КодФакультета_46.0</td>\n",
       "      <td>0.02</td>\n",
       "    </tr>\n",
       "    <tr>\n",
       "      <th>41</th>\n",
       "      <td>КодФакультета_47.0</td>\n",
       "      <td>0.10</td>\n",
       "    </tr>\n",
       "    <tr>\n",
       "      <th>42</th>\n",
       "      <td>КодФакультета_48.0</td>\n",
       "      <td>0.46</td>\n",
       "    </tr>\n",
       "    <tr>\n",
       "      <th>43</th>\n",
       "      <td>КодФакультета_49.0</td>\n",
       "      <td>0.03</td>\n",
       "    </tr>\n",
       "    <tr>\n",
       "      <th>44</th>\n",
       "      <td>КодФакультета_51.0</td>\n",
       "      <td>0.61</td>\n",
       "    </tr>\n",
       "    <tr>\n",
       "      <th>45</th>\n",
       "      <td>КодФакультета_53.0</td>\n",
       "      <td>0.01</td>\n",
       "    </tr>\n",
       "    <tr>\n",
       "      <th>46</th>\n",
       "      <td>kurs_one</td>\n",
       "      <td>0.52</td>\n",
       "    </tr>\n",
       "    <tr>\n",
       "      <th>47</th>\n",
       "      <td>kurs_three</td>\n",
       "      <td>0.46</td>\n",
       "    </tr>\n",
       "    <tr>\n",
       "      <th>48</th>\n",
       "      <td>kurs_two</td>\n",
       "      <td>0.66</td>\n",
       "    </tr>\n",
       "    <tr>\n",
       "      <th>49</th>\n",
       "      <td>kurs_zero</td>\n",
       "      <td>2.53</td>\n",
       "    </tr>\n",
       "    <tr>\n",
       "      <th>50</th>\n",
       "      <td>ball_group_01</td>\n",
       "      <td>0.09</td>\n",
       "    </tr>\n",
       "    <tr>\n",
       "      <th>51</th>\n",
       "      <td>ball_group_02</td>\n",
       "      <td>0.09</td>\n",
       "    </tr>\n",
       "    <tr>\n",
       "      <th>52</th>\n",
       "      <td>ball_group_03</td>\n",
       "      <td>0.32</td>\n",
       "    </tr>\n",
       "    <tr>\n",
       "      <th>53</th>\n",
       "      <td>ball_group_04</td>\n",
       "      <td>0.43</td>\n",
       "    </tr>\n",
       "    <tr>\n",
       "      <th>54</th>\n",
       "      <td>ball_group_05</td>\n",
       "      <td>0.22</td>\n",
       "    </tr>\n",
       "    <tr>\n",
       "      <th>55</th>\n",
       "      <td>ball_group_06</td>\n",
       "      <td>0.43</td>\n",
       "    </tr>\n",
       "    <tr>\n",
       "      <th>56</th>\n",
       "      <td>ball_group_07</td>\n",
       "      <td>0.37</td>\n",
       "    </tr>\n",
       "    <tr>\n",
       "      <th>57</th>\n",
       "      <td>ball_group_08</td>\n",
       "      <td>0.54</td>\n",
       "    </tr>\n",
       "    <tr>\n",
       "      <th>58</th>\n",
       "      <td>ball_group_09</td>\n",
       "      <td>1.88</td>\n",
       "    </tr>\n",
       "  </tbody>\n",
       "</table>\n",
       "</div>"
      ],
      "text/plain": [
       "                     features   coef\n",
       "0                  Код_группы  31.06\n",
       "1             Год_Поступления  11.36\n",
       "2                         Пол   1.92\n",
       "3                     Пособие   1.73\n",
       "4                    Город_ПП   0.79\n",
       "5                   Общежитие   0.47\n",
       "6              Наличие_Матери   0.85\n",
       "7                Наличие_Отца   0.66\n",
       "8                  Опекунство   0.00\n",
       "9                        Село   0.37\n",
       "10                    Возраст   7.66\n",
       "11               Основания_ДН   1.87\n",
       "12               Основания_ОО   8.36\n",
       "13               Основания_СН   7.57\n",
       "14               Основания_ЦН   0.08\n",
       "15      Уч_Заведение_гимназия   1.10\n",
       "16          Уч_Заведение_иное   0.00\n",
       "17      Уч_Заведение_институт   0.11\n",
       "18  Уч_Заведение_кадет_корпус   0.00\n",
       "19       Уч_Заведение_колледж   0.63\n",
       "20          Уч_Заведение_н.д.   0.89\n",
       "21      Уч_Заведение_техникум   0.12\n",
       "22   Уч_Заведение_университет   1.84\n",
       "23       Уч_Заведение_училище   0.12\n",
       "24         Уч_Заведение_школа   1.69\n",
       "25  Страна_Родители_Не академ   0.34\n",
       "26     Страна_Родители_Россия   0.45\n",
       "27         КодФакультета_25.0   0.92\n",
       "28         КодФакультета_26.0   2.11\n",
       "29         КодФакультета_27.0   0.33\n",
       "30         КодФакультета_28.0   0.77\n",
       "31         КодФакультета_30.0   0.47\n",
       "32         КодФакультета_31.0   0.52\n",
       "33         КодФакультета_34.0   0.18\n",
       "34         КодФакультета_35.0   0.23\n",
       "35         КодФакультета_36.0   0.24\n",
       "36         КодФакультета_37.0   0.00\n",
       "37         КодФакультета_40.0   0.29\n",
       "38         КодФакультета_41.0   2.00\n",
       "39         КодФакультета_45.0   0.11\n",
       "40         КодФакультета_46.0   0.02\n",
       "41         КодФакультета_47.0   0.10\n",
       "42         КодФакультета_48.0   0.46\n",
       "43         КодФакультета_49.0   0.03\n",
       "44         КодФакультета_51.0   0.61\n",
       "45         КодФакультета_53.0   0.01\n",
       "46                   kurs_one   0.52\n",
       "47                 kurs_three   0.46\n",
       "48                   kurs_two   0.66\n",
       "49                  kurs_zero   2.53\n",
       "50              ball_group_01   0.09\n",
       "51              ball_group_02   0.09\n",
       "52              ball_group_03   0.32\n",
       "53              ball_group_04   0.43\n",
       "54              ball_group_05   0.22\n",
       "55              ball_group_06   0.43\n",
       "56              ball_group_07   0.37\n",
       "57              ball_group_08   0.54\n",
       "58              ball_group_09   1.88"
      ]
     },
     "execution_count": 329,
     "metadata": {},
     "output_type": "execute_result"
    }
   ],
   "source": [
    "coef = pd.DataFrame({'features': X_train.columns, \n",
    "                     'coef' :np.around(cat.feature_importances_, decimals=2)\n",
    "                    })\n",
    "coef"
   ]
  },
  {
   "cell_type": "code",
   "execution_count": 330,
   "id": "a7eecfcd",
   "metadata": {},
   "outputs": [
    {
     "data": {
      "text/plain": [
       "Text(0, 0.5, 'Важность в модели Catboost')"
      ]
     },
     "execution_count": 330,
     "metadata": {},
     "output_type": "execute_result"
    },
    {
     "data": {
      "image/png": "[encoded data removed]",
      "text/plain": [
       "<Figure size 1400x500 with 1 Axes>"
      ]
     },
     "metadata": {},
     "output_type": "display_data"
    }
   ],
   "source": [
    "coef = coef.loc[coef['coef']>5]\n",
    "plt.figure(figsize = (14,5))\n",
    "plt.bar(x = coef['features'], height = coef['coef'])\n",
    "plt.title('Веса факторов модели Catboost', fontsize = 14)\n",
    "plt.xlabel('Наименование признаков')\n",
    "plt.ylabel('Важность в модели Catboost')"
   ]
  },
  {
   "cell_type": "code",
   "execution_count": 331,
   "id": "069fb156",
   "metadata": {},
   "outputs": [],
   "source": [
    "clf = RandomForestClassifier(random_state=0)"
   ]
  },
  {
   "cell_type": "code",
   "execution_count": 332,
   "id": "17756e91",
   "metadata": {
    "scrolled": false
   },
   "outputs": [
    {
     "name": "stdout",
     "output_type": "stream",
     "text": [
      "CPU times: total: 1.05 s\n",
      "Wall time: 1.06 s\n"
     ]
    },
    {
     "data": {
      "text/plain": [
       "RandomForestClassifier(random_state=0)"
      ]
     },
     "execution_count": 332,
     "metadata": {},
     "output_type": "execute_result"
    }
   ],
   "source": [
    "%%time\n",
    "clf.fit(X_train, y_train)"
   ]
  },
  {
   "cell_type": "code",
   "execution_count": 333,
   "id": "d41f420a",
   "metadata": {},
   "outputs": [],
   "source": [
    "pred_3 = clf.predict(X_test)"
   ]
  },
  {
   "cell_type": "code",
   "execution_count": 334,
   "id": "98162256",
   "metadata": {
    "scrolled": false
   },
   "outputs": [
    {
     "data": {
      "text/plain": [
       "0.7484744949848064"
      ]
     },
     "execution_count": 334,
     "metadata": {},
     "output_type": "execute_result"
    }
   ],
   "source": [
    "f1_score(y_test, pred_3, average='macro', zero_division = 0)"
   ]
  },
  {
   "cell_type": "code",
   "execution_count": 335,
   "id": "1c2534b1",
   "metadata": {
    "scrolled": true
   },
   "outputs": [
    {
     "name": "stdout",
     "output_type": "stream",
     "text": [
      "              precision    recall  f1-score   support\n",
      "\n",
      "          -1       0.76      0.41      0.53        61\n",
      "           3       0.87      0.75      0.80       471\n",
      "           4       0.87      0.96      0.91       818\n",
      "\n",
      "    accuracy                           0.86      1350\n",
      "   macro avg       0.83      0.71      0.75      1350\n",
      "weighted avg       0.86      0.86      0.86      1350\n",
      "\n"
     ]
    }
   ],
   "source": [
    "print(classification_report(y_test, pred_3))"
   ]
  },
  {
   "cell_type": "markdown",
   "id": "22d545fb",
   "metadata": {},
   "source": [
    "**Вывод**:\n",
    "- бустинги показали схожие результаты\n",
    "- случайный лес оказался хуже\n",
    "- исходя из размера метрики на тестовой выборке выбираем модель Catboost"
   ]
  },
  {
   "cell_type": "markdown",
   "id": "dbaa8f89",
   "metadata": {},
   "source": [
    "**Операции с тестовой выборкой**"
   ]
  },
  {
   "cell_type": "markdown",
   "id": "b6fa613f",
   "metadata": {},
   "source": [
    "Проведем аналогичные операции (как с обучающей) с тестовой выборкой"
   ]
  },
  {
   "cell_type": "code",
   "execution_count": 336,
   "id": "b5c8d0a5",
   "metadata": {},
   "outputs": [],
   "source": [
    "df_test = pd.read_csv('test_dataset_test.csv')"
   ]
  },
  {
   "cell_type": "code",
   "execution_count": 337,
   "id": "7fc9b49e",
   "metadata": {},
   "outputs": [],
   "source": [
    "df_submission[\"ID\"]=df_test['ID']"
   ]
  },
  {
   "cell_type": "code",
   "execution_count": 338,
   "id": "4f60a119",
   "metadata": {},
   "outputs": [
    {
     "data": {
      "text/html": [
       "<div>\n",
       "<style scoped>\n",
       "    .dataframe tbody tr th:only-of-type {\n",
       "        vertical-align: middle;\n",
       "    }\n",
       "\n",
       "    .dataframe tbody tr th {\n",
       "        vertical-align: top;\n",
       "    }\n",
       "\n",
       "    .dataframe thead th {\n",
       "        text-align: right;\n",
       "    }\n",
       "</style>\n",
       "<table border=\"1\" class=\"dataframe\">\n",
       "  <thead>\n",
       "    <tr style=\"text-align: right;\">\n",
       "      <th></th>\n",
       "      <th>ID</th>\n",
       "      <th>Код_группы</th>\n",
       "      <th>Год_Поступления</th>\n",
       "      <th>Пол</th>\n",
       "      <th>Основания</th>\n",
       "      <th>Изучаемый_Язык</th>\n",
       "      <th>Дата_Рождения</th>\n",
       "      <th>Уч_Заведение</th>\n",
       "      <th>Где_Находится_УЗ</th>\n",
       "      <th>Год_Окончания_УЗ</th>\n",
       "      <th>...</th>\n",
       "      <th>Город_ПП</th>\n",
       "      <th>Общежитие</th>\n",
       "      <th>Наличие_Матери</th>\n",
       "      <th>Наличие_Отца</th>\n",
       "      <th>Страна_Родители</th>\n",
       "      <th>Опекунство</th>\n",
       "      <th>Село</th>\n",
       "      <th>Иностранец</th>\n",
       "      <th>КодФакультета</th>\n",
       "      <th>СрБаллАттестата</th>\n",
       "    </tr>\n",
       "  </thead>\n",
       "  <tbody>\n",
       "    <tr>\n",
       "      <th>0</th>\n",
       "      <td>64996</td>\n",
       "      <td>20608</td>\n",
       "      <td>2014</td>\n",
       "      <td>Жен</td>\n",
       "      <td>ДН</td>\n",
       "      <td>Английский язык</td>\n",
       "      <td>1995-11-03 00:00:00.000</td>\n",
       "      <td>МБОУ \"СОШ №55\"</td>\n",
       "      <td>Алтайский край, Барнаул г</td>\n",
       "      <td>2014.0</td>\n",
       "      <td>...</td>\n",
       "      <td>Барнаул г</td>\n",
       "      <td>0.0</td>\n",
       "      <td>0</td>\n",
       "      <td>0.0</td>\n",
       "      <td>Россия</td>\n",
       "      <td>0.0</td>\n",
       "      <td>0.0</td>\n",
       "      <td>0.0</td>\n",
       "      <td>40.0</td>\n",
       "      <td>49.0</td>\n",
       "    </tr>\n",
       "    <tr>\n",
       "      <th>1</th>\n",
       "      <td>71837</td>\n",
       "      <td>20613</td>\n",
       "      <td>2015</td>\n",
       "      <td>Жен</td>\n",
       "      <td>ДН</td>\n",
       "      <td>Немецкий язык</td>\n",
       "      <td>1995-12-10 00:00:00.000</td>\n",
       "      <td>МБОУ \"СОШ №1\"</td>\n",
       "      <td>Алтайский край, Рубцовск г</td>\n",
       "      <td>2014.0</td>\n",
       "      <td>...</td>\n",
       "      <td>Барнаул  г</td>\n",
       "      <td>0.0</td>\n",
       "      <td>0</td>\n",
       "      <td>0.0</td>\n",
       "      <td>Россия</td>\n",
       "      <td>0.0</td>\n",
       "      <td>1.0</td>\n",
       "      <td>0.0</td>\n",
       "      <td>26.0</td>\n",
       "      <td>77.0</td>\n",
       "    </tr>\n",
       "    <tr>\n",
       "      <th>2</th>\n",
       "      <td>86587</td>\n",
       "      <td>21210</td>\n",
       "      <td>2018</td>\n",
       "      <td>Жен</td>\n",
       "      <td>ОО</td>\n",
       "      <td>Английский язык</td>\n",
       "      <td>1973-08-09 00:00:00.000</td>\n",
       "      <td>Алтайский государственный медицинский университет</td>\n",
       "      <td>Алтайский край, г. Барнаул</td>\n",
       "      <td>1997.0</td>\n",
       "      <td>...</td>\n",
       "      <td>г. Барнаул</td>\n",
       "      <td>0.0</td>\n",
       "      <td>1</td>\n",
       "      <td>1.0</td>\n",
       "      <td>Россия</td>\n",
       "      <td>0.0</td>\n",
       "      <td>0.0</td>\n",
       "      <td>0.0</td>\n",
       "      <td>34.0</td>\n",
       "      <td>74.0</td>\n",
       "    </tr>\n",
       "    <tr>\n",
       "      <th>3</th>\n",
       "      <td>73673</td>\n",
       "      <td>22254</td>\n",
       "      <td>2015</td>\n",
       "      <td>Жен</td>\n",
       "      <td>ОО</td>\n",
       "      <td>Английский язык</td>\n",
       "      <td>1983-12-07 00:00:00.000</td>\n",
       "      <td>ГОУ ВПО \"Алтайский государственный университет\"</td>\n",
       "      <td>Алтайский край, Барнаул г</td>\n",
       "      <td>2006.0</td>\n",
       "      <td>...</td>\n",
       "      <td>Барнаул г</td>\n",
       "      <td>0.0</td>\n",
       "      <td>0</td>\n",
       "      <td>0.0</td>\n",
       "      <td>Россия</td>\n",
       "      <td>0.0</td>\n",
       "      <td>0.0</td>\n",
       "      <td>0.0</td>\n",
       "      <td>53.0</td>\n",
       "      <td>57.0</td>\n",
       "    </tr>\n",
       "    <tr>\n",
       "      <th>4</th>\n",
       "      <td>54709</td>\n",
       "      <td>15040</td>\n",
       "      <td>2012</td>\n",
       "      <td>Жен</td>\n",
       "      <td>ОО</td>\n",
       "      <td>NaN</td>\n",
       "      <td>1994-05-21 00:00:00.000</td>\n",
       "      <td>NaN</td>\n",
       "      <td>NaN</td>\n",
       "      <td>NaN</td>\n",
       "      <td>...</td>\n",
       "      <td>NaN</td>\n",
       "      <td>0.0</td>\n",
       "      <td>1</td>\n",
       "      <td>1.0</td>\n",
       "      <td>Россия</td>\n",
       "      <td>0.0</td>\n",
       "      <td>0.0</td>\n",
       "      <td>0.0</td>\n",
       "      <td>36.0</td>\n",
       "      <td>55.0</td>\n",
       "    </tr>\n",
       "  </tbody>\n",
       "</table>\n",
       "<p>5 rows × 23 columns</p>\n",
       "</div>"
      ],
      "text/plain": [
       "      ID  Код_группы  Год_Поступления  Пол Основания   Изучаемый_Язык  \\\n",
       "0  64996       20608             2014  Жен        ДН  Английский язык   \n",
       "1  71837       20613             2015  Жен        ДН    Немецкий язык   \n",
       "2  86587       21210             2018  Жен        ОО  Английский язык   \n",
       "3  73673       22254             2015  Жен        ОО  Английский язык   \n",
       "4  54709       15040             2012  Жен        ОО              NaN   \n",
       "\n",
       "             Дата_Рождения                                       Уч_Заведение  \\\n",
       "0  1995-11-03 00:00:00.000                                     МБОУ \"СОШ №55\"   \n",
       "1  1995-12-10 00:00:00.000                                      МБОУ \"СОШ №1\"   \n",
       "2  1973-08-09 00:00:00.000  Алтайский государственный медицинский университет   \n",
       "3  1983-12-07 00:00:00.000    ГОУ ВПО \"Алтайский государственный университет\"   \n",
       "4  1994-05-21 00:00:00.000                                                NaN   \n",
       "\n",
       "             Где_Находится_УЗ  Год_Окончания_УЗ  ...    Город_ПП Общежитие  \\\n",
       "0   Алтайский край, Барнаул г            2014.0  ...   Барнаул г       0.0   \n",
       "1  Алтайский край, Рубцовск г            2014.0  ...  Барнаул  г       0.0   \n",
       "2  Алтайский край, г. Барнаул            1997.0  ...  г. Барнаул       0.0   \n",
       "3   Алтайский край, Барнаул г            2006.0  ...   Барнаул г       0.0   \n",
       "4                         NaN               NaN  ...         NaN       0.0   \n",
       "\n",
       "  Наличие_Матери Наличие_Отца  Страна_Родители  Опекунство  Село Иностранец  \\\n",
       "0              0          0.0           Россия         0.0   0.0        0.0   \n",
       "1              0          0.0           Россия         0.0   1.0        0.0   \n",
       "2              1          1.0           Россия         0.0   0.0        0.0   \n",
       "3              0          0.0           Россия         0.0   0.0        0.0   \n",
       "4              1          1.0           Россия         0.0   0.0        0.0   \n",
       "\n",
       "   КодФакультета  СрБаллАттестата  \n",
       "0           40.0             49.0  \n",
       "1           26.0             77.0  \n",
       "2           34.0             74.0  \n",
       "3           53.0             57.0  \n",
       "4           36.0             55.0  \n",
       "\n",
       "[5 rows x 23 columns]"
      ]
     },
     "execution_count": 338,
     "metadata": {},
     "output_type": "execute_result"
    }
   ],
   "source": [
    "df_test.head()"
   ]
  },
  {
   "cell_type": "code",
   "execution_count": 339,
   "id": "db9379c5",
   "metadata": {},
   "outputs": [
    {
     "data": {
      "text/plain": [
       "Index(['ID', 'Код_группы', 'Год_Поступления', 'Пол', 'Основания',\n",
       "       'Изучаемый_Язык', 'Дата_Рождения', 'Уч_Заведение', 'Где_Находится_УЗ',\n",
       "       'Год_Окончания_УЗ', 'Пособие', 'Страна_ПП', 'Регион_ПП', 'Город_ПП',\n",
       "       'Общежитие', 'Наличие_Матери', 'Наличие_Отца', 'Страна_Родители',\n",
       "       'Опекунство', 'Село', 'Иностранец', 'КодФакультета', 'СрБаллАттестата'],\n",
       "      dtype='object')"
      ]
     },
     "execution_count": 339,
     "metadata": {},
     "output_type": "execute_result"
    }
   ],
   "source": [
    "df_test.columns"
   ]
  },
  {
   "cell_type": "code",
   "execution_count": 340,
   "id": "6688c622",
   "metadata": {},
   "outputs": [],
   "source": [
    "df_test['Код_группы'] = df_test['Код_группы'].astype('str').str.slice(0,4)\n",
    "df_test['Код_группы'] = df_test['Код_группы'].astype('int')"
   ]
  },
  {
   "cell_type": "code",
   "execution_count": 341,
   "id": "06c5f369",
   "metadata": {
    "scrolled": true
   },
   "outputs": [
    {
     "data": {
      "text/plain": [
       "жен    0.594348\n",
       "муж    0.405652\n",
       "Name: Пол, dtype: float64"
      ]
     },
     "execution_count": 341,
     "metadata": {},
     "output_type": "execute_result"
    }
   ],
   "source": [
    "df_test['Пол'] = df_test['Пол'].str.lower()\n",
    "df_test['Пол'].value_counts(normalize=True)"
   ]
  },
  {
   "cell_type": "code",
   "execution_count": 342,
   "id": "de589c1f",
   "metadata": {},
   "outputs": [],
   "source": [
    "df_test['Пол']= df_test['Пол'].fillna('жен')"
   ]
  },
  {
   "cell_type": "code",
   "execution_count": 343,
   "id": "d5ea8971",
   "metadata": {},
   "outputs": [],
   "source": [
    "df_test['Пол']= df_test['Пол'].apply(pol)"
   ]
  },
  {
   "cell_type": "code",
   "execution_count": 344,
   "id": "47121680",
   "metadata": {
    "scrolled": false
   },
   "outputs": [],
   "source": [
    "df_test['Дата_Рождения'] = pd.to_datetime(df_test['Дата_Рождения'], format='%Y-%m-%d %H:%M:%S')"
   ]
  },
  {
   "cell_type": "code",
   "execution_count": 345,
   "id": "aa7e59d3",
   "metadata": {
    "scrolled": true
   },
   "outputs": [
    {
     "name": "stderr",
     "output_type": "stream",
     "text": [
      "C:\\Users\\Евгений\\AppData\\Local\\Temp\\ipykernel_11100\\2493208645.py:1: FutureWarning: Treating datetime data as categorical rather than numeric in `.describe` is deprecated and will be removed in a future version of pandas. Specify `datetime_is_numeric=True` to silence this warning and adopt the future behavior now.\n",
      "  df_test['Дата_Рождения'].describe()\n"
     ]
    },
    {
     "data": {
      "text/plain": [
       "count                    6691\n",
       "unique                   3590\n",
       "top       1996-07-09 00:00:00\n",
       "freq                       11\n",
       "first     1948-11-23 00:00:00\n",
       "last      2005-02-15 00:00:00\n",
       "Name: Дата_Рождения, dtype: object"
      ]
     },
     "execution_count": 345,
     "metadata": {},
     "output_type": "execute_result"
    }
   ],
   "source": [
    "df_test['Дата_Рождения'].describe()"
   ]
  },
  {
   "cell_type": "code",
   "execution_count": 346,
   "id": "d0036ad1",
   "metadata": {},
   "outputs": [],
   "source": [
    "df_test['Возраст']=df_test['Год_Поступления'] - df_test['Дата_Рождения'].dt.year.astype('int')"
   ]
  },
  {
   "cell_type": "code",
   "execution_count": 347,
   "id": "805ee903",
   "metadata": {
    "scrolled": true
   },
   "outputs": [
    {
     "data": {
      "text/plain": [
       "count    6691.000000\n",
       "mean       20.974892\n",
       "std         5.431924\n",
       "min        12.000000\n",
       "25%        18.000000\n",
       "50%        19.000000\n",
       "75%        22.000000\n",
       "max        67.000000\n",
       "Name: Возраст, dtype: float64"
      ]
     },
     "execution_count": 347,
     "metadata": {},
     "output_type": "execute_result"
    }
   ],
   "source": [
    "df_test['Возраст'].describe()"
   ]
  },
  {
   "cell_type": "code",
   "execution_count": 348,
   "id": "1e6cf92d",
   "metadata": {
    "scrolled": true
   },
   "outputs": [
    {
     "data": {
      "text/plain": [
       "ОО    2565\n",
       "СН    2177\n",
       "ДН     972\n",
       "БН     873\n",
       "ЦН     103\n",
       "ЛН       1\n",
       "Name: Основания, dtype: int64"
      ]
     },
     "execution_count": 348,
     "metadata": {},
     "output_type": "execute_result"
    }
   ],
   "source": [
    "df_test['Основания'].value_counts()"
   ]
  },
  {
   "cell_type": "code",
   "execution_count": 349,
   "id": "c7a2af75",
   "metadata": {},
   "outputs": [],
   "source": [
    "df_test['Основания']=df_test['Основания'].map({'ОО':'ОО',\n",
    "                                              'СН':'СН',\n",
    "                                              'ДН':'ДН',\n",
    "                                              'БН':'БН',\n",
    "                                               'ЦН':'ЦН',\n",
    "                                              'ЛН':'ДН'})"
   ]
  },
  {
   "cell_type": "code",
   "execution_count": 350,
   "id": "e31bc667",
   "metadata": {},
   "outputs": [],
   "source": [
    "df_test['Уч_Заведение'] = df_test['Уч_Заведение'].fillna('н.д.')"
   ]
  },
  {
   "cell_type": "code",
   "execution_count": 351,
   "id": "f85d05a4",
   "metadata": {},
   "outputs": [
    {
     "name": "stderr",
     "output_type": "stream",
     "text": [
      "C:\\anaconda3\\envs\\ds_practicum_env\\lib\\site-packages\\pandas\\core\\indexing.py:1637: SettingWithCopyWarning: \n",
      "A value is trying to be set on a copy of a slice from a DataFrame\n",
      "\n",
      "See the caveats in the documentation: https://pandas.pydata.org/pandas-docs/stable/user_guide/indexing.html#returning-a-view-versus-a-copy\n",
      "  self._setitem_single_block(indexer, value, name)\n"
     ]
    }
   ],
   "source": [
    "df_test['Уч_Заведение'].loc[df_test[df_test['Уч_Заведение'].str.contains('универ')]['Уч_Заведение'].index]='университет'"
   ]
  },
  {
   "cell_type": "code",
   "execution_count": 352,
   "id": "486c1b1c",
   "metadata": {},
   "outputs": [],
   "source": [
    "df_test['Уч_Заведение'].loc[df_test[df_test['Уч_Заведение'].str.contains('школ')]['Уч_Заведение'].index]='школа'"
   ]
  },
  {
   "cell_type": "code",
   "execution_count": 353,
   "id": "2131f5b0",
   "metadata": {},
   "outputs": [],
   "source": [
    "df_test['Уч_Заведение'].loc[df_test[df_test['Уч_Заведение'].str.contains('СОШ')]['Уч_Заведение'].index]='школа'"
   ]
  },
  {
   "cell_type": "code",
   "execution_count": 354,
   "id": "e227df17",
   "metadata": {},
   "outputs": [],
   "source": [
    "df_test['Уч_Заведение'].loc[df_test[df_test['Уч_Заведение'].str.contains('ОШ')]['Уч_Заведение'].index]='школа'"
   ]
  },
  {
   "cell_type": "code",
   "execution_count": 355,
   "id": "564ccc93",
   "metadata": {},
   "outputs": [],
   "source": [
    "df_test['Уч_Заведение'].loc[df_test[df_test['Уч_Заведение'].str.contains('имнази')]['Уч_Заведение'].index]='гимназия'"
   ]
  },
  {
   "cell_type": "code",
   "execution_count": 356,
   "id": "b0eb417d",
   "metadata": {},
   "outputs": [],
   "source": [
    "df_test['Уч_Заведение'].loc[df_test[df_test['Уч_Заведение'].str.contains('ицей')]['Уч_Заведение'].index]='гимназия'"
   ]
  },
  {
   "cell_type": "code",
   "execution_count": 357,
   "id": "90db2534",
   "metadata": {},
   "outputs": [],
   "source": [
    "df_test['Уч_Заведение'].loc[df_test[df_test['Уч_Заведение'].str.contains('колледж')]['Уч_Заведение'].index]='колледж'"
   ]
  },
  {
   "cell_type": "code",
   "execution_count": 358,
   "id": "8b520cf1",
   "metadata": {},
   "outputs": [],
   "source": [
    "df_test['Уч_Заведение'].loc[df_test[df_test['Уч_Заведение'].str.contains('коллежд')]['Уч_Заведение'].index]='колледж'"
   ]
  },
  {
   "cell_type": "code",
   "execution_count": 359,
   "id": "7d36e3c1",
   "metadata": {},
   "outputs": [],
   "source": [
    "df_test['Уч_Заведение'].loc[df_test[df_test['Уч_Заведение'].str.contains('Колледж')]['Уч_Заведение'].index]='колледж'"
   ]
  },
  {
   "cell_type": "code",
   "execution_count": 360,
   "id": "b1859b2f",
   "metadata": {},
   "outputs": [],
   "source": [
    "df_test['Уч_Заведение'].loc[df_test[df_test['Уч_Заведение'].str.contains('чилище')]['Уч_Заведение'].index]='училище'"
   ]
  },
  {
   "cell_type": "code",
   "execution_count": 361,
   "id": "9fdb380e",
   "metadata": {},
   "outputs": [],
   "source": [
    "df_test['Уч_Заведение'].loc[df_test[df_test['Уч_Заведение'].str.contains('нститут')]['Уч_Заведение'].index]='институт'"
   ]
  },
  {
   "cell_type": "code",
   "execution_count": 362,
   "id": "248b2c95",
   "metadata": {},
   "outputs": [],
   "source": [
    "df_test['Уч_Заведение'].loc[df_test[df_test['Уч_Заведение'].str.contains('СШ')]['Уч_Заведение'].index]='школа'"
   ]
  },
  {
   "cell_type": "code",
   "execution_count": 363,
   "id": "0639b6c3",
   "metadata": {},
   "outputs": [],
   "source": [
    "df_test['Уч_Заведение'].loc[df_test[df_test['Уч_Заведение'].str.contains('демия')]['Уч_Заведение'].index]='академия'"
   ]
  },
  {
   "cell_type": "code",
   "execution_count": 364,
   "id": "4b466243",
   "metadata": {},
   "outputs": [],
   "source": [
    "df_test['Уч_Заведение'].loc[df_test[df_test['Уч_Заведение'].str.contains('ехникум')]['Уч_Заведение'].index]='техникум'"
   ]
  },
  {
   "cell_type": "code",
   "execution_count": 365,
   "id": "7a150b54",
   "metadata": {},
   "outputs": [],
   "source": [
    "df_test['Уч_Заведение'].loc[df_test[df_test['Уч_Заведение'].str.contains('СОУ')]['Уч_Заведение'].index]='школа'"
   ]
  },
  {
   "cell_type": "code",
   "execution_count": 366,
   "id": "85dd6ec8",
   "metadata": {},
   "outputs": [],
   "source": [
    "df_test['Уч_Заведение'].loc[df_test[df_test['Уч_Заведение'].str.contains('Универ')]['Уч_Заведение'].index]='университет'"
   ]
  },
  {
   "cell_type": "code",
   "execution_count": 367,
   "id": "982240cd",
   "metadata": {},
   "outputs": [],
   "source": [
    "df_test['Уч_Заведение'].loc[df_test[df_test['Уч_Заведение'].str.contains('Школа')]['Уч_Заведение'].index]='школа'"
   ]
  },
  {
   "cell_type": "code",
   "execution_count": 368,
   "id": "6b4455ee",
   "metadata": {},
   "outputs": [],
   "source": [
    "df_test['Уч_Заведение'].loc[df_test[df_test['Уч_Заведение'].str.contains('ФГБОУ')]['Уч_Заведение'].index]='университет'"
   ]
  },
  {
   "cell_type": "code",
   "execution_count": 369,
   "id": "cdcc9c49",
   "metadata": {},
   "outputs": [],
   "source": [
    "df_test['Уч_Заведение'].loc[df_test[df_test['Уч_Заведение'].str.contains('фгбоу')]['Уч_Заведение'].index]='университет'"
   ]
  },
  {
   "cell_type": "code",
   "execution_count": 370,
   "id": "bb8817f7",
   "metadata": {},
   "outputs": [],
   "source": [
    "df_test['Уч_Заведение'].loc[df_test[df_test['Уч_Заведение'].str.contains('ФГОУ')]['Уч_Заведение'].index]='университет'"
   ]
  },
  {
   "cell_type": "code",
   "execution_count": 371,
   "id": "4efc3c86",
   "metadata": {},
   "outputs": [],
   "source": [
    "df_test['Уч_Заведение'].loc[df_test[df_test['Уч_Заведение'].str.contains('ГОУ')]['Уч_Заведение'].index]='университет'"
   ]
  },
  {
   "cell_type": "code",
   "execution_count": 372,
   "id": "58c4cfd7",
   "metadata": {},
   "outputs": [],
   "source": [
    "df_test['Уч_Заведение'].loc[df_test[df_test['Уч_Заведение'].str.contains('фгоу')]['Уч_Заведение'].index]='университет'"
   ]
  },
  {
   "cell_type": "code",
   "execution_count": 373,
   "id": "1ffd9b1c",
   "metadata": {},
   "outputs": [],
   "source": [
    "df_test['Уч_Заведение'].loc[df_test[df_test['Уч_Заведение'].str.contains('МОУ')]['Уч_Заведение'].index]='школа'"
   ]
  },
  {
   "cell_type": "code",
   "execution_count": 374,
   "id": "dd38be49",
   "metadata": {},
   "outputs": [],
   "source": [
    "df_test['Уч_Заведение'].loc[df_test[df_test['Уч_Заведение'].str.contains('моу')]['Уч_Заведение'].index]='школа'"
   ]
  },
  {
   "cell_type": "code",
   "execution_count": 375,
   "id": "40bdd5ee",
   "metadata": {},
   "outputs": [],
   "source": [
    "df_test['Уч_Заведение'].loc[df_test[df_test['Уч_Заведение'].str.contains('СОМШ')]['Уч_Заведение'].index]='школа'"
   ]
  },
  {
   "cell_type": "code",
   "execution_count": 376,
   "id": "aad937bc",
   "metadata": {},
   "outputs": [],
   "source": [
    "df_test['Уч_Заведение'].loc[df_test[df_test['Уч_Заведение'].str.contains('СОПШ')]['Уч_Заведение'].index]='школа'"
   ]
  },
  {
   "cell_type": "code",
   "execution_count": 377,
   "id": "e4b0170e",
   "metadata": {},
   "outputs": [],
   "source": [
    "df_test['Уч_Заведение'].loc[df_test[df_test['Уч_Заведение'].str.contains('СПТУ')]['Уч_Заведение'].index]='училище'"
   ]
  },
  {
   "cell_type": "code",
   "execution_count": 378,
   "id": "2e0a555b",
   "metadata": {},
   "outputs": [],
   "source": [
    "df_test['Уч_Заведение'].loc[df_test[df_test['Уч_Заведение'].str.contains('ПТУ')]['Уч_Заведение'].index]='училище'"
   ]
  },
  {
   "cell_type": "code",
   "execution_count": 379,
   "id": "7c42fc10",
   "metadata": {},
   "outputs": [],
   "source": [
    "df_test['Уч_Заведение'].loc[df_test[df_test['Уч_Заведение'].str.contains('ПУ')]['Уч_Заведение'].index]='училище'"
   ]
  },
  {
   "cell_type": "code",
   "execution_count": 380,
   "id": "3c856514",
   "metadata": {},
   "outputs": [],
   "source": [
    "df_test['Уч_Заведение'].loc[df_test[df_test['Уч_Заведение'].str.contains('АлтГУ')]['Уч_Заведение'].index]='университет'"
   ]
  },
  {
   "cell_type": "code",
   "execution_count": 381,
   "id": "2cc811cf",
   "metadata": {},
   "outputs": [],
   "source": [
    "df_test['Уч_Заведение'].loc[df_test[df_test['Уч_Заведение'].str.contains('АГАУ')]['Уч_Заведение'].index]='университет'"
   ]
  },
  {
   "cell_type": "code",
   "execution_count": 382,
   "id": "0f4cdadf",
   "metadata": {},
   "outputs": [],
   "source": [
    "df_test['Уч_Заведение'].loc[df_test[df_test['Уч_Заведение'].str.contains('ВЗФ')]['Уч_Заведение'].index]='институт'"
   ]
  },
  {
   "cell_type": "code",
   "execution_count": 383,
   "id": "5a47a484",
   "metadata": {},
   "outputs": [],
   "source": [
    "df_test['Уч_Заведение'].loc[df_test[df_test['Уч_Заведение'].str.contains('ФГКОУ')]['Уч_Заведение'].index]='институт'"
   ]
  },
  {
   "cell_type": "code",
   "execution_count": 384,
   "id": "ba694558",
   "metadata": {},
   "outputs": [],
   "source": [
    "df_test['Уч_Заведение'].loc[df_test[df_test['Уч_Заведение'].str.contains('Средн')]['Уч_Заведение'].index]='школа'"
   ]
  },
  {
   "cell_type": "code",
   "execution_count": 385,
   "id": "af77b6dd",
   "metadata": {},
   "outputs": [],
   "source": [
    "df_test['Уч_Заведение'].loc[df_test[df_test['Уч_Заведение'].str.contains('средн')]['Уч_Заведение'].index]='школа'"
   ]
  },
  {
   "cell_type": "code",
   "execution_count": 386,
   "id": "761320d5",
   "metadata": {},
   "outputs": [],
   "source": [
    "df_test['Уч_Заведение'].loc[df_test[df_test['Уч_Заведение'].str.contains('унив')]['Уч_Заведение'].index]='университет'"
   ]
  },
  {
   "cell_type": "code",
   "execution_count": 387,
   "id": "06d8d2ed",
   "metadata": {},
   "outputs": [],
   "source": [
    "df_test['Уч_Заведение'].loc[df_test[df_test['Уч_Заведение'].str.contains('ГТУ')]['Уч_Заведение'].index]='университет'"
   ]
  },
  {
   "cell_type": "code",
   "execution_count": 388,
   "id": "99469f4d",
   "metadata": {},
   "outputs": [],
   "source": [
    "df_test['Уч_Заведение'].loc[df_test[df_test['Уч_Заведение'].str.contains('КГБОУ')]['Уч_Заведение'].index]='колледж'"
   ]
  },
  {
   "cell_type": "code",
   "execution_count": 389,
   "id": "18ba2df2",
   "metadata": {},
   "outputs": [],
   "source": [
    "df_test['Уч_Заведение'].loc[df_test[df_test['Уч_Заведение'].str.contains('КГБПОУ')]['Уч_Заведение'].index]='колледж'"
   ]
  },
  {
   "cell_type": "code",
   "execution_count": 390,
   "id": "c873b66b",
   "metadata": {},
   "outputs": [],
   "source": [
    "df_test['Уч_Заведение'].loc[df_test[df_test['Уч_Заведение'].str.contains('консерватор')]['Уч_Заведение'].index]='университет'"
   ]
  },
  {
   "cell_type": "code",
   "execution_count": 391,
   "id": "7d53f908",
   "metadata": {},
   "outputs": [],
   "source": [
    "df_test['Уч_Заведение'].loc[df_test[df_test['Уч_Заведение'].str.contains('колледж')]['Уч_Заведение'].index]='колледж'"
   ]
  },
  {
   "cell_type": "code",
   "execution_count": 392,
   "id": "bc016e8b",
   "metadata": {},
   "outputs": [],
   "source": [
    "df_test['Уч_Заведение'].loc[df_test[df_test['Уч_Заведение'].str.contains('кадет')]['Уч_Заведение'].index]='кадет_корпус'"
   ]
  },
  {
   "cell_type": "code",
   "execution_count": 393,
   "id": "04341504",
   "metadata": {},
   "outputs": [],
   "source": [
    "df_test['Уч_Заведение'].loc[df_test[df_test['Уч_Заведение'].str.contains('ГУ')]['Уч_Заведение'].index]='университет'"
   ]
  },
  {
   "cell_type": "code",
   "execution_count": 394,
   "id": "897052fd",
   "metadata": {
    "scrolled": true
   },
   "outputs": [
    {
     "data": {
      "text/plain": [
       "array(['школа', 'университет', 'н.д.', 'гимназия', 'колледж', 'училище',\n",
       "       'техникум', 'академия', 'институт', 'кадет_корпус', 'АКПЛ',\n",
       "       'Алматинская Гос.Консерватория им.Курмангазы', 'Березовская сош',\n",
       "       'муниципальная Луговская сош', 'Сидоровская Сош',\n",
       "       'кгоу нпо пу №12', 'МБОУ Онгудайская Сош',\n",
       "       'Валеологическая гамназия №25 ', 'ГБОУШ №482',\n",
       "       'НСПОУ Новосибирский кооперативный техниккум Новосибирского облпотребсоюза',\n",
       "       'Алтайский МТТ молочной промышленности',\n",
       "       'МБОУ Быстроистокская ОС(П)Ш', 'МБОУ Ключевская СОш №1',\n",
       "       'ООУ №2 Аштского района', 'ГАОУ ЦО №548 \"Царицино\"',\n",
       "       'МБОУ \"СОМ № 128\"',\n",
       "       'ЧПОУ НКТ им. А.Н. Косыгина Новосибирского облпотребсоюза'],\n",
       "      dtype=object)"
      ]
     },
     "execution_count": 394,
     "metadata": {},
     "output_type": "execute_result"
    }
   ],
   "source": [
    "df_test['Уч_Заведение'].unique()"
   ]
  },
  {
   "cell_type": "code",
   "execution_count": 395,
   "id": "ed4a7ef7",
   "metadata": {},
   "outputs": [],
   "source": [
    "education = ['школа', 'н.д.', 'университет', 'гимназия', 'академия', 'техникум',\n",
    "       'колледж', 'училище','институт','кадет_корпус']"
   ]
  },
  {
   "cell_type": "code",
   "execution_count": 396,
   "id": "2b3f089d",
   "metadata": {
    "scrolled": true
   },
   "outputs": [],
   "source": [
    "df_test['Уч_Заведение'].loc[df_test[~df_test['Уч_Заведение'].isin(education)]['Уч_Заведение'].index]='иное'"
   ]
  },
  {
   "cell_type": "code",
   "execution_count": 397,
   "id": "2ce99c2d",
   "metadata": {
    "scrolled": false
   },
   "outputs": [
    {
     "data": {
      "text/plain": [
       "школа           2317\n",
       "университет     1948\n",
       "гимназия        1097\n",
       "н.д.             578\n",
       "колледж          270\n",
       "академия         158\n",
       "техникум         121\n",
       "институт         118\n",
       "училище           64\n",
       "иное              17\n",
       "кадет_корпус       3\n",
       "Name: Уч_Заведение, dtype: int64"
      ]
     },
     "execution_count": 397,
     "metadata": {},
     "output_type": "execute_result"
    }
   ],
   "source": [
    "df_test['Уч_Заведение'].value_counts()"
   ]
  },
  {
   "cell_type": "code",
   "execution_count": 398,
   "id": "d6973c46",
   "metadata": {},
   "outputs": [
    {
     "data": {
      "text/plain": [
       "0.0    6685\n",
       "1.0       6\n",
       "Name: Опекунство, dtype: int64"
      ]
     },
     "execution_count": 398,
     "metadata": {},
     "output_type": "execute_result"
    }
   ],
   "source": [
    "df_test['Опекунство'].value_counts()"
   ]
  },
  {
   "cell_type": "code",
   "execution_count": 399,
   "id": "77c2764d",
   "metadata": {},
   "outputs": [
    {
     "data": {
      "text/plain": [
       "1"
      ]
     },
     "execution_count": 399,
     "metadata": {},
     "output_type": "execute_result"
    }
   ],
   "source": [
    "df_test[df_test['СрБаллАттестата']<3]['СрБаллАттестата'].count()"
   ]
  },
  {
   "cell_type": "code",
   "execution_count": 400,
   "id": "33b85fd3",
   "metadata": {
    "scrolled": true
   },
   "outputs": [
    {
     "data": {
      "text/html": [
       "<div>\n",
       "<style scoped>\n",
       "    .dataframe tbody tr th:only-of-type {\n",
       "        vertical-align: middle;\n",
       "    }\n",
       "\n",
       "    .dataframe tbody tr th {\n",
       "        vertical-align: top;\n",
       "    }\n",
       "\n",
       "    .dataframe thead th {\n",
       "        text-align: right;\n",
       "    }\n",
       "</style>\n",
       "<table border=\"1\" class=\"dataframe\">\n",
       "  <thead>\n",
       "    <tr style=\"text-align: right;\">\n",
       "      <th></th>\n",
       "      <th>ID</th>\n",
       "      <th>Код_группы</th>\n",
       "      <th>Год_Поступления</th>\n",
       "      <th>Пол</th>\n",
       "      <th>Основания</th>\n",
       "      <th>Изучаемый_Язык</th>\n",
       "      <th>Дата_Рождения</th>\n",
       "      <th>Уч_Заведение</th>\n",
       "      <th>Где_Находится_УЗ</th>\n",
       "      <th>Год_Окончания_УЗ</th>\n",
       "      <th>...</th>\n",
       "      <th>Общежитие</th>\n",
       "      <th>Наличие_Матери</th>\n",
       "      <th>Наличие_Отца</th>\n",
       "      <th>Страна_Родители</th>\n",
       "      <th>Опекунство</th>\n",
       "      <th>Село</th>\n",
       "      <th>Иностранец</th>\n",
       "      <th>КодФакультета</th>\n",
       "      <th>СрБаллАттестата</th>\n",
       "      <th>Возраст</th>\n",
       "    </tr>\n",
       "  </thead>\n",
       "  <tbody>\n",
       "    <tr>\n",
       "      <th>614</th>\n",
       "      <td>76707</td>\n",
       "      <td>1860</td>\n",
       "      <td>2016</td>\n",
       "      <td>0</td>\n",
       "      <td>ОО</td>\n",
       "      <td>Английский язык</td>\n",
       "      <td>1996-02-01</td>\n",
       "      <td>университет</td>\n",
       "      <td>Россия, Алтайский край, г Барнаул</td>\n",
       "      <td>2016.0</td>\n",
       "      <td>...</td>\n",
       "      <td>0.0</td>\n",
       "      <td>1</td>\n",
       "      <td>1.0</td>\n",
       "      <td>Россия</td>\n",
       "      <td>0.0</td>\n",
       "      <td>0.0</td>\n",
       "      <td>0.0</td>\n",
       "      <td>34.0</td>\n",
       "      <td>5000.0</td>\n",
       "      <td>20</td>\n",
       "    </tr>\n",
       "    <tr>\n",
       "      <th>805</th>\n",
       "      <td>79829</td>\n",
       "      <td>1801</td>\n",
       "      <td>2016</td>\n",
       "      <td>0</td>\n",
       "      <td>БН</td>\n",
       "      <td>Английский язык</td>\n",
       "      <td>1999-01-18</td>\n",
       "      <td>школа</td>\n",
       "      <td>NaN</td>\n",
       "      <td>2015.0</td>\n",
       "      <td>...</td>\n",
       "      <td>0.0</td>\n",
       "      <td>1</td>\n",
       "      <td>1.0</td>\n",
       "      <td>Россия</td>\n",
       "      <td>0.0</td>\n",
       "      <td>0.0</td>\n",
       "      <td>0.0</td>\n",
       "      <td>49.0</td>\n",
       "      <td>4118.0</td>\n",
       "      <td>17</td>\n",
       "    </tr>\n",
       "    <tr>\n",
       "      <th>1520</th>\n",
       "      <td>75276</td>\n",
       "      <td>1996</td>\n",
       "      <td>2016</td>\n",
       "      <td>0</td>\n",
       "      <td>СН</td>\n",
       "      <td>Английский язык</td>\n",
       "      <td>1998-11-30</td>\n",
       "      <td>школа</td>\n",
       "      <td>Россия, Алтайский край, Солонешенский р-н, с С...</td>\n",
       "      <td>2016.0</td>\n",
       "      <td>...</td>\n",
       "      <td>1.0</td>\n",
       "      <td>1</td>\n",
       "      <td>1.0</td>\n",
       "      <td>Россия</td>\n",
       "      <td>0.0</td>\n",
       "      <td>1.0</td>\n",
       "      <td>0.0</td>\n",
       "      <td>34.0</td>\n",
       "      <td>787.0</td>\n",
       "      <td>18</td>\n",
       "    </tr>\n",
       "    <tr>\n",
       "      <th>1651</th>\n",
       "      <td>66377</td>\n",
       "      <td>1822</td>\n",
       "      <td>2014</td>\n",
       "      <td>1</td>\n",
       "      <td>ОО</td>\n",
       "      <td>Английский язык</td>\n",
       "      <td>1996-08-25</td>\n",
       "      <td>школа</td>\n",
       "      <td>Таджикистан Респ, Худжанд г</td>\n",
       "      <td>2014.0</td>\n",
       "      <td>...</td>\n",
       "      <td>1.0</td>\n",
       "      <td>0</td>\n",
       "      <td>0.0</td>\n",
       "      <td>Таджикистан</td>\n",
       "      <td>0.0</td>\n",
       "      <td>0.0</td>\n",
       "      <td>1.0</td>\n",
       "      <td>25.0</td>\n",
       "      <td>1040.0</td>\n",
       "      <td>18</td>\n",
       "    </tr>\n",
       "    <tr>\n",
       "      <th>1686</th>\n",
       "      <td>66383</td>\n",
       "      <td>1822</td>\n",
       "      <td>2014</td>\n",
       "      <td>1</td>\n",
       "      <td>ОО</td>\n",
       "      <td>Английский язык</td>\n",
       "      <td>1996-01-10</td>\n",
       "      <td>колледж</td>\n",
       "      <td>Таджикистан Респ, Душанбе г</td>\n",
       "      <td>2014.0</td>\n",
       "      <td>...</td>\n",
       "      <td>1.0</td>\n",
       "      <td>0</td>\n",
       "      <td>0.0</td>\n",
       "      <td>Россия</td>\n",
       "      <td>0.0</td>\n",
       "      <td>0.0</td>\n",
       "      <td>1.0</td>\n",
       "      <td>25.0</td>\n",
       "      <td>2468.0</td>\n",
       "      <td>18</td>\n",
       "    </tr>\n",
       "  </tbody>\n",
       "</table>\n",
       "<p>5 rows × 24 columns</p>\n",
       "</div>"
      ],
      "text/plain": [
       "         ID  Код_группы  Год_Поступления  Пол Основания   Изучаемый_Язык  \\\n",
       "614   76707        1860             2016    0        ОО  Английский язык   \n",
       "805   79829        1801             2016    0        БН  Английский язык   \n",
       "1520  75276        1996             2016    0        СН  Английский язык   \n",
       "1651  66377        1822             2014    1        ОО  Английский язык   \n",
       "1686  66383        1822             2014    1        ОО  Английский язык   \n",
       "\n",
       "     Дата_Рождения Уч_Заведение  \\\n",
       "614     1996-02-01  университет   \n",
       "805     1999-01-18        школа   \n",
       "1520    1998-11-30        школа   \n",
       "1651    1996-08-25        школа   \n",
       "1686    1996-01-10      колледж   \n",
       "\n",
       "                                       Где_Находится_УЗ  Год_Окончания_УЗ  \\\n",
       "614                   Россия, Алтайский край, г Барнаул            2016.0   \n",
       "805                                                 NaN            2015.0   \n",
       "1520  Россия, Алтайский край, Солонешенский р-н, с С...            2016.0   \n",
       "1651                        Таджикистан Респ, Худжанд г            2014.0   \n",
       "1686                        Таджикистан Респ, Душанбе г            2014.0   \n",
       "\n",
       "      ...  Общежитие Наличие_Матери Наличие_Отца Страна_Родители  Опекунство  \\\n",
       "614   ...        0.0              1          1.0          Россия         0.0   \n",
       "805   ...        0.0              1          1.0          Россия         0.0   \n",
       "1520  ...        1.0              1          1.0          Россия         0.0   \n",
       "1651  ...        1.0              0          0.0     Таджикистан         0.0   \n",
       "1686  ...        1.0              0          0.0          Россия         0.0   \n",
       "\n",
       "      Село  Иностранец КодФакультета  СрБаллАттестата  Возраст  \n",
       "614    0.0         0.0          34.0           5000.0       20  \n",
       "805    0.0         0.0          49.0           4118.0       17  \n",
       "1520   1.0         0.0          34.0            787.0       18  \n",
       "1651   0.0         1.0          25.0           1040.0       18  \n",
       "1686   0.0         1.0          25.0           2468.0       18  \n",
       "\n",
       "[5 rows x 24 columns]"
      ]
     },
     "execution_count": 400,
     "metadata": {},
     "output_type": "execute_result"
    }
   ],
   "source": [
    "df_test[df_test['СрБаллАттестата']>300].head()"
   ]
  },
  {
   "cell_type": "code",
   "execution_count": 401,
   "id": "1f6d0920",
   "metadata": {},
   "outputs": [],
   "source": [
    "df_test['Страна_Родители'] = df_test['Страна_Родители'].fillna('н.д.')"
   ]
  },
  {
   "cell_type": "code",
   "execution_count": 402,
   "id": "21e86656",
   "metadata": {
    "scrolled": false
   },
   "outputs": [
    {
     "data": {
      "text/plain": [
       "Россия                    6073\n",
       "Казахстан                  239\n",
       "н.д.                       198\n",
       "Китай                       82\n",
       "Таджикистан                 45\n",
       "Кыргызстан                  24\n",
       "Киргизия                    14\n",
       "Кыргызская Республика        3\n",
       "Узбекистан                   3\n",
       "Афганистан                   2\n",
       "РОССИЯ                       2\n",
       "Туркменистан                 2\n",
       "Монголия                     1\n",
       "Чеченская республика         1\n",
       "Республика Таджикистан       1\n",
       "Кыргызия                     1\n",
       "Name: Страна_Родители, dtype: int64"
      ]
     },
     "execution_count": 402,
     "metadata": {},
     "output_type": "execute_result"
    }
   ],
   "source": [
    "df_test['Страна_Родители'].value_counts()"
   ]
  },
  {
   "cell_type": "code",
   "execution_count": 403,
   "id": "faa6a7ff",
   "metadata": {
    "scrolled": true
   },
   "outputs": [
    {
     "name": "stderr",
     "output_type": "stream",
     "text": [
      "C:\\anaconda3\\envs\\ds_practicum_env\\lib\\site-packages\\pandas\\core\\indexing.py:1637: SettingWithCopyWarning: \n",
      "A value is trying to be set on a copy of a slice from a DataFrame\n",
      "\n",
      "See the caveats in the documentation: https://pandas.pydata.org/pandas-docs/stable/user_guide/indexing.html#returning-a-view-versus-a-copy\n",
      "  self._setitem_single_block(indexer, value, name)\n"
     ]
    }
   ],
   "source": [
    "df_test['Страна_Родители'].loc[df_test[df_test['Страна_Родители'].str.contains('азахстан')]['Страна_Родители'].index]='Казахстан'"
   ]
  },
  {
   "cell_type": "code",
   "execution_count": 404,
   "id": "1181a6c0",
   "metadata": {},
   "outputs": [],
   "source": [
    "df_test['Страна_Родители'].loc[df_test[df_test['Страна_Родители'].str.contains('аджикист')]['Страна_Родители'].index]='Таджикистан'"
   ]
  },
  {
   "cell_type": "code",
   "execution_count": 405,
   "id": "9f01af86",
   "metadata": {},
   "outputs": [],
   "source": [
    "df_test['Страна_Родители'].loc[df_test[df_test['Страна_Родители'].str.contains('Киргиз')]['Страна_Родители'].index]='Кыргызстан'"
   ]
  },
  {
   "cell_type": "code",
   "execution_count": 406,
   "id": "7489afe0",
   "metadata": {},
   "outputs": [],
   "source": [
    "df_test['Страна_Родители'].loc[df_test[df_test['Страна_Родители'].str.contains('Кыргыз')]['Страна_Родители'].index]='Кыргызстан'"
   ]
  },
  {
   "cell_type": "code",
   "execution_count": 407,
   "id": "5e3f6911",
   "metadata": {},
   "outputs": [],
   "source": [
    "df_test['Страна_Родители'].loc[df_test[df_test['Страна_Родители'].str.contains('КНР')]['Страна_Родители'].index]='Китай'"
   ]
  },
  {
   "cell_type": "code",
   "execution_count": 408,
   "id": "9e921bfa",
   "metadata": {
    "scrolled": true
   },
   "outputs": [
    {
     "data": {
      "text/plain": [
       "Россия                  6073\n",
       "Казахстан                239\n",
       "н.д.                     198\n",
       "Китай                     82\n",
       "Таджикистан               46\n",
       "Кыргызстан                42\n",
       "Узбекистан                 3\n",
       "Афганистан                 2\n",
       "РОССИЯ                     2\n",
       "Туркменистан               2\n",
       "Монголия                   1\n",
       "Чеченская республика       1\n",
       "Name: Страна_Родители, dtype: int64"
      ]
     },
     "execution_count": 408,
     "metadata": {},
     "output_type": "execute_result"
    }
   ],
   "source": [
    "df_test['Страна_Родители'].value_counts()"
   ]
  },
  {
   "cell_type": "code",
   "execution_count": 409,
   "id": "b32688dd",
   "metadata": {},
   "outputs": [],
   "source": [
    "df_test['Страна_Родители'] = df_test['Страна_Родители'].apply(country)"
   ]
  },
  {
   "cell_type": "code",
   "execution_count": 410,
   "id": "ec768d1b",
   "metadata": {},
   "outputs": [],
   "source": [
    "df_test['Пособие'] = df_test['Пособие'].fillna('1')"
   ]
  },
  {
   "cell_type": "code",
   "execution_count": 411,
   "id": "dd5f6015",
   "metadata": {},
   "outputs": [],
   "source": [
    "df_test['Общежитие'] = df_test['Общежитие'].fillna('2')"
   ]
  },
  {
   "cell_type": "code",
   "execution_count": 412,
   "id": "b35eb218",
   "metadata": {},
   "outputs": [],
   "source": [
    "df_test['Село'] = df_test['Село'].fillna('2')"
   ]
  },
  {
   "cell_type": "code",
   "execution_count": 413,
   "id": "c0c51cec",
   "metadata": {},
   "outputs": [],
   "source": [
    "df_test['kurs'] = df_test['Год_Поступления'].apply(kurs)"
   ]
  },
  {
   "cell_type": "code",
   "execution_count": 414,
   "id": "bcd2ddaa",
   "metadata": {},
   "outputs": [],
   "source": [
    "df_test['ball_group']=df_test['СрБаллАттестата'].apply(ball_group_gross)"
   ]
  },
  {
   "cell_type": "code",
   "execution_count": 415,
   "id": "39f0400a",
   "metadata": {},
   "outputs": [],
   "source": [
    "df_test['Город_ПП']=df_test['Город_ПП'].fillna('н.д.')"
   ]
  },
  {
   "cell_type": "code",
   "execution_count": 416,
   "id": "5c13e1b0",
   "metadata": {
    "scrolled": false
   },
   "outputs": [],
   "source": [
    "df_test['Город_ПП'].loc[df_test[df_test['Город_ПП'].str.contains('Барнаул')]['Город_ПП'].index]='Барнаул'"
   ]
  },
  {
   "cell_type": "code",
   "execution_count": 417,
   "id": "81c55dd3",
   "metadata": {},
   "outputs": [],
   "source": [
    "town = ['Барнаул']"
   ]
  },
  {
   "cell_type": "code",
   "execution_count": 418,
   "id": "3e40006f",
   "metadata": {},
   "outputs": [],
   "source": [
    "df_test['Город_ПП'].loc[df_test[~df_test['Город_ПП'].isin(town)]['Город_ПП'].index]=1"
   ]
  },
  {
   "cell_type": "code",
   "execution_count": 419,
   "id": "22bc0a55",
   "metadata": {
    "scrolled": true
   },
   "outputs": [
    {
     "data": {
      "text/plain": [
       "Барнаул    3428\n",
       "1          3263\n",
       "Name: Город_ПП, dtype: int64"
      ]
     },
     "execution_count": 419,
     "metadata": {},
     "output_type": "execute_result"
    }
   ],
   "source": [
    "df_test['Город_ПП'].value_counts()"
   ]
  },
  {
   "cell_type": "code",
   "execution_count": 420,
   "id": "fdcc9619",
   "metadata": {},
   "outputs": [],
   "source": [
    "def town(c):\n",
    "    if c =='Барнаул':\n",
    "        return 0\n",
    "    else:\n",
    "        return 1"
   ]
  },
  {
   "cell_type": "code",
   "execution_count": 421,
   "id": "a90c28fa",
   "metadata": {},
   "outputs": [],
   "source": [
    "df_test['Город_ПП']=df_test['Город_ПП'].apply(town)"
   ]
  },
  {
   "cell_type": "code",
   "execution_count": 422,
   "id": "054bf701",
   "metadata": {},
   "outputs": [],
   "source": [
    "columns_to_drop = ['ID','Год_Окончания_УЗ',\n",
    "       'Изучаемый_Язык', 'Дата_Рождения', 'Где_Находится_УЗ',\n",
    "       'Страна_ПП', 'Регион_ПП', 'СрБаллАттестата', 'Иностранец']"
   ]
  },
  {
   "cell_type": "code",
   "execution_count": 423,
   "id": "50e49698",
   "metadata": {
    "scrolled": true
   },
   "outputs": [],
   "source": [
    "df_test = df_test.drop(columns = columns_to_drop, axis=1)"
   ]
  },
  {
   "cell_type": "code",
   "execution_count": 424,
   "id": "428bd2ba",
   "metadata": {},
   "outputs": [],
   "source": [
    "col_int = ['Пособие','Общежитие','Село']"
   ]
  },
  {
   "cell_type": "code",
   "execution_count": 425,
   "id": "2f955bd5",
   "metadata": {},
   "outputs": [
    {
     "name": "stdout",
     "output_type": "stream",
     "text": [
      "<class 'pandas.core.frame.DataFrame'>\n",
      "RangeIndex: 6691 entries, 0 to 6690\n",
      "Data columns (total 17 columns):\n",
      " #   Column           Non-Null Count  Dtype  \n",
      "---  ------           --------------  -----  \n",
      " 0   Код_группы       6691 non-null   int32  \n",
      " 1   Год_Поступления  6691 non-null   int64  \n",
      " 2   Пол              6691 non-null   int64  \n",
      " 3   Основания        6691 non-null   object \n",
      " 4   Уч_Заведение     6691 non-null   object \n",
      " 5   Пособие          6691 non-null   object \n",
      " 6   Город_ПП         6691 non-null   int64  \n",
      " 7   Общежитие        6691 non-null   object \n",
      " 8   Наличие_Матери   6691 non-null   int64  \n",
      " 9   Наличие_Отца     6691 non-null   float64\n",
      " 10  Страна_Родители  6691 non-null   object \n",
      " 11  Опекунство       6691 non-null   float64\n",
      " 12  Село             6691 non-null   object \n",
      " 13  КодФакультета    6691 non-null   float64\n",
      " 14  Возраст          6691 non-null   int64  \n",
      " 15  kurs             6691 non-null   object \n",
      " 16  ball_group       6691 non-null   object \n",
      "dtypes: float64(3), int32(1), int64(5), object(8)\n",
      "memory usage: 862.6+ KB\n"
     ]
    }
   ],
   "source": [
    "df_test.info()"
   ]
  },
  {
   "cell_type": "code",
   "execution_count": 426,
   "id": "b3dfea85",
   "metadata": {},
   "outputs": [],
   "source": [
    "df_test[col_int]= df_test[col_int].astype('int')"
   ]
  },
  {
   "cell_type": "code",
   "execution_count": 427,
   "id": "f9ea8bda",
   "metadata": {},
   "outputs": [],
   "source": [
    "df_test['КодФакультета'] = df_test['КодФакультета'].astype('str')"
   ]
  },
  {
   "cell_type": "code",
   "execution_count": 428,
   "id": "7106d93c",
   "metadata": {},
   "outputs": [],
   "source": [
    "df_test = pd.get_dummies(df_test, drop_first=True)"
   ]
  },
  {
   "cell_type": "code",
   "execution_count": 429,
   "id": "5d0d588f",
   "metadata": {},
   "outputs": [
    {
     "name": "stdout",
     "output_type": "stream",
     "text": [
      "<class 'pandas.core.frame.DataFrame'>\n",
      "RangeIndex: 6691 entries, 0 to 6690\n",
      "Data columns (total 59 columns):\n",
      " #   Column                     Non-Null Count  Dtype  \n",
      "---  ------                     --------------  -----  \n",
      " 0   Код_группы                 6691 non-null   int32  \n",
      " 1   Год_Поступления            6691 non-null   int64  \n",
      " 2   Пол                        6691 non-null   int64  \n",
      " 3   Пособие                    6691 non-null   int32  \n",
      " 4   Город_ПП                   6691 non-null   int64  \n",
      " 5   Общежитие                  6691 non-null   int32  \n",
      " 6   Наличие_Матери             6691 non-null   int64  \n",
      " 7   Наличие_Отца               6691 non-null   float64\n",
      " 8   Опекунство                 6691 non-null   float64\n",
      " 9   Село                       6691 non-null   int32  \n",
      " 10  Возраст                    6691 non-null   int64  \n",
      " 11  Основания_ДН               6691 non-null   uint8  \n",
      " 12  Основания_ОО               6691 non-null   uint8  \n",
      " 13  Основания_СН               6691 non-null   uint8  \n",
      " 14  Основания_ЦН               6691 non-null   uint8  \n",
      " 15  Уч_Заведение_гимназия      6691 non-null   uint8  \n",
      " 16  Уч_Заведение_иное          6691 non-null   uint8  \n",
      " 17  Уч_Заведение_институт      6691 non-null   uint8  \n",
      " 18  Уч_Заведение_кадет_корпус  6691 non-null   uint8  \n",
      " 19  Уч_Заведение_колледж       6691 non-null   uint8  \n",
      " 20  Уч_Заведение_н.д.          6691 non-null   uint8  \n",
      " 21  Уч_Заведение_техникум      6691 non-null   uint8  \n",
      " 22  Уч_Заведение_университет   6691 non-null   uint8  \n",
      " 23  Уч_Заведение_училище       6691 non-null   uint8  \n",
      " 24  Уч_Заведение_школа         6691 non-null   uint8  \n",
      " 25  Страна_Родители_Не академ  6691 non-null   uint8  \n",
      " 26  Страна_Родители_Россия     6691 non-null   uint8  \n",
      " 27  КодФакультета_25.0         6691 non-null   uint8  \n",
      " 28  КодФакультета_26.0         6691 non-null   uint8  \n",
      " 29  КодФакультета_27.0         6691 non-null   uint8  \n",
      " 30  КодФакультета_28.0         6691 non-null   uint8  \n",
      " 31  КодФакультета_30.0         6691 non-null   uint8  \n",
      " 32  КодФакультета_31.0         6691 non-null   uint8  \n",
      " 33  КодФакультета_34.0         6691 non-null   uint8  \n",
      " 34  КодФакультета_35.0         6691 non-null   uint8  \n",
      " 35  КодФакультета_36.0         6691 non-null   uint8  \n",
      " 36  КодФакультета_37.0         6691 non-null   uint8  \n",
      " 37  КодФакультета_40.0         6691 non-null   uint8  \n",
      " 38  КодФакультета_41.0         6691 non-null   uint8  \n",
      " 39  КодФакультета_45.0         6691 non-null   uint8  \n",
      " 40  КодФакультета_46.0         6691 non-null   uint8  \n",
      " 41  КодФакультета_47.0         6691 non-null   uint8  \n",
      " 42  КодФакультета_48.0         6691 non-null   uint8  \n",
      " 43  КодФакультета_49.0         6691 non-null   uint8  \n",
      " 44  КодФакультета_51.0         6691 non-null   uint8  \n",
      " 45  КодФакультета_53.0         6691 non-null   uint8  \n",
      " 46  kurs_one                   6691 non-null   uint8  \n",
      " 47  kurs_three                 6691 non-null   uint8  \n",
      " 48  kurs_two                   6691 non-null   uint8  \n",
      " 49  kurs_zero                  6691 non-null   uint8  \n",
      " 50  ball_group_01              6691 non-null   uint8  \n",
      " 51  ball_group_02              6691 non-null   uint8  \n",
      " 52  ball_group_03              6691 non-null   uint8  \n",
      " 53  ball_group_04              6691 non-null   uint8  \n",
      " 54  ball_group_05              6691 non-null   uint8  \n",
      " 55  ball_group_06              6691 non-null   uint8  \n",
      " 56  ball_group_07              6691 non-null   uint8  \n",
      " 57  ball_group_08              6691 non-null   uint8  \n",
      " 58  ball_group_09              6691 non-null   uint8  \n",
      "dtypes: float64(2), int32(4), int64(5), uint8(48)\n",
      "memory usage: 784.2 KB\n"
     ]
    }
   ],
   "source": [
    "df_test.info()"
   ]
  },
  {
   "cell_type": "markdown",
   "id": "173c6962",
   "metadata": {},
   "source": [
    "## Получение предсказаний на тестовой выборке"
   ]
  },
  {
   "cell_type": "code",
   "execution_count": 430,
   "id": "6e742a66",
   "metadata": {},
   "outputs": [],
   "source": [
    "df_test_pred = cat.predict(df_test)"
   ]
  },
  {
   "cell_type": "code",
   "execution_count": 431,
   "id": "1729745d",
   "metadata": {
    "scrolled": false
   },
   "outputs": [
    {
     "data": {
      "text/html": [
       "<div>\n",
       "<style scoped>\n",
       "    .dataframe tbody tr th:only-of-type {\n",
       "        vertical-align: middle;\n",
       "    }\n",
       "\n",
       "    .dataframe tbody tr th {\n",
       "        vertical-align: top;\n",
       "    }\n",
       "\n",
       "    .dataframe thead th {\n",
       "        text-align: right;\n",
       "    }\n",
       "</style>\n",
       "<table border=\"1\" class=\"dataframe\">\n",
       "  <thead>\n",
       "    <tr style=\"text-align: right;\">\n",
       "      <th></th>\n",
       "      <th>ID</th>\n",
       "      <th>Статус</th>\n",
       "    </tr>\n",
       "  </thead>\n",
       "  <tbody>\n",
       "    <tr>\n",
       "      <th>0</th>\n",
       "      <td>64996</td>\n",
       "      <td>4</td>\n",
       "    </tr>\n",
       "    <tr>\n",
       "      <th>1</th>\n",
       "      <td>71837</td>\n",
       "      <td>4</td>\n",
       "    </tr>\n",
       "    <tr>\n",
       "      <th>2</th>\n",
       "      <td>86587</td>\n",
       "      <td>3</td>\n",
       "    </tr>\n",
       "    <tr>\n",
       "      <th>3</th>\n",
       "      <td>73673</td>\n",
       "      <td>-1</td>\n",
       "    </tr>\n",
       "  </tbody>\n",
       "</table>\n",
       "</div>"
      ],
      "text/plain": [
       "      ID  Статус\n",
       "0  64996       4\n",
       "1  71837       4\n",
       "2  86587       3\n",
       "3  73673      -1"
      ]
     },
     "execution_count": 431,
     "metadata": {},
     "output_type": "execute_result"
    }
   ],
   "source": [
    "df_submission[\"Статус\"] = df_test_pred\n",
    "df_submission.head(4)"
   ]
  },
  {
   "cell_type": "code",
   "execution_count": 432,
   "id": "6a12b44d",
   "metadata": {},
   "outputs": [
    {
     "data": {
      "text/plain": [
       " 4    4310\n",
       " 3    2148\n",
       "-1     233\n",
       "Name: Статус, dtype: int64"
      ]
     },
     "execution_count": 432,
     "metadata": {},
     "output_type": "execute_result"
    }
   ],
   "source": [
    "df_submission[\"Статус\"].value_counts()"
   ]
  },
  {
   "cell_type": "code",
   "execution_count": 433,
   "id": "50ae69af",
   "metadata": {},
   "outputs": [],
   "source": [
    "df_submission.to_csv(\"submission.csv\", index=False)"
   ]
  },
  {
   "cell_type": "code",
   "execution_count": null,
   "id": "bfb9b97f",
   "metadata": {},
   "outputs": [],
   "source": []
  }
 ],
 "metadata": {
  "kernelspec": {
   "display_name": "Python 3 (ipykernel)",
   "language": "python",
   "name": "python3"
  },
  "language_info": {
   "codemirror_mode": {
    "name": "ipython",
    "version": 3
   },
   "file_extension": ".py",
   "mimetype": "text/x-python",
   "name": "python",
   "nbconvert_exporter": "python",
   "pygments_lexer": "ipython3",
   "version": "3.9.13"
  }
 },
 "nbformat": 4,
 "nbformat_minor": 5
}
